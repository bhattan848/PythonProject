{
 "cells": [
  {
   "cell_type": "code",
   "execution_count": 2,
   "id": "37238838",
   "metadata": {},
   "outputs": [],
   "source": [
    "# # step 1 : Install all the requirements\n",
    "# # pip install requests\n",
    "# # pip install html5lib\n",
    "# # pip install bs4\n",
    "# import requests \n",
    "# from bs4 import BeautifulSoup\n",
    "# url = \"http://www.nepalstock.com/\" \n",
    "# # step 2: Get the html\n",
    "# r = requests.get(url)\n",
    "# htmlContent = r.content\n",
    "# # print(htmlContent)\n",
    "# #step 3 : parse the HTML\n",
    "# soup = BeautifulSoup(htmlContent,'html.parser')\n",
    "# # print(soup.prettify)\n",
    "# #step 4: HTML tree traversal\n",
    "# #commonly used types of objects:\n",
    "# #1.Tag  print(type(title))\n",
    "# #2. NavigableString print(type(title.string))\n",
    "# #3. BeautifulSoup print(type(soup))\n",
    "# #4. Comment\n",
    "# # markup = \"<p><!-- This is a comment--></p>\"\n",
    "# # soup2 = BeautifulSoup(markup)\n",
    "# # print(soup2)\n",
    "#   # Get the title of the HTML page\n",
    "# title = soup.title\n",
    "# # print(title)\n",
    "#  # Get all the paragraphs from the page\n",
    "# paras = soup.find_all('p')\n",
    "# # print(paras)\n",
    "\n",
    "# # Get all the anchor tags from the page\n",
    "# anchors = soup.find_all('a')\n",
    "# # print(anchors)\n",
    "# all_links = set()\n",
    "# for link in anchors:\n",
    "#    if (link.get('href')) != '#':\n",
    "#       linkText = \"http://www.nepalstock.com/\" + link.get('href')\n",
    "#       all_links.add(link)\n",
    "#       # print(linkText)\n",
    "\n",
    "\n",
    "# #Get first element in the HTML page\n",
    "# # print(soup.find('p')['class'])  \n",
    "# #find all the elements with the class lead\n",
    "# # print(soup.find_all(\"p\",class__ =\"lead\"))\n"
   ]
  },
  {
   "cell_type": "code",
   "execution_count": 9,
   "id": "eae82603",
   "metadata": {},
   "outputs": [
    {
     "name": "stdout",
     "output_type": "stream",
     "text": [
      "['Nabin', 'Hari', 'Bamdev', 'Ram']\n"
     ]
    }
   ],
   "source": [
    "a = [\"Nabin\",'Hari']\n",
    "b = ['Bamdev','Ram']\n",
    "c = a + b\n",
    "print(c)"
   ]
  },
  {
   "cell_type": "code",
   "execution_count": 15,
   "id": "9bdeb22c",
   "metadata": {},
   "outputs": [
    {
     "name": "stdout",
     "output_type": "stream",
     "text": [
      "1 2 3 4 5 6 7 8 9 "
     ]
    }
   ],
   "source": [
    "a = [1,2,3,4,5,6,7,8,9]\n",
    "for i in a:\n",
    "    print(i, end = ' ')"
   ]
  },
  {
   "cell_type": "code",
   "execution_count": 17,
   "id": "8e3b7ae5",
   "metadata": {},
   "outputs": [
    {
     "name": "stdout",
     "output_type": "stream",
     "text": [
      "1 2 3 4 "
     ]
    }
   ],
   "source": [
    "a = [1,2,3,4,5,6,7,8,9]\n",
    "for i in a:\n",
    "    if i == 5:\n",
    "        break;\n",
    "    print(i, end = ' ')"
   ]
  },
  {
   "cell_type": "code",
   "execution_count": 18,
   "id": "5dc28a46",
   "metadata": {},
   "outputs": [
    {
     "name": "stdout",
     "output_type": "stream",
     "text": [
      "1 2 3 4 6 7 8 9 "
     ]
    }
   ],
   "source": [
    "a = [1,2,3,4,5,6,7,8,9]\n",
    "for i in a:\n",
    "    if i == 5:\n",
    "        continue;\n",
    "    print(i, end = ' ')"
   ]
  },
  {
   "cell_type": "code",
   "execution_count": 20,
   "id": "88eb7e41",
   "metadata": {},
   "outputs": [
    {
     "name": "stdout",
     "output_type": "stream",
     "text": [
      "Enter how many recodrs? 2\n",
      "Enter name Hari\n",
      "Enter name Ram\n",
      "['Hari', 'Ram']\n"
     ]
    }
   ],
   "source": [
    "names = list()\n",
    "n = int(input('Enter how many recodrs? '))\n",
    "for i in range(n):\n",
    "    name = input('Enter name ')\n",
    "    names.append(name)\n",
    "print(names)"
   ]
  },
  {
   "cell_type": "code",
   "execution_count": 25,
   "id": "50185f94",
   "metadata": {},
   "outputs": [
    {
     "name": "stdout",
     "output_type": "stream",
     "text": [
      "['Ram', 'Laxman', 'Hari', 'Sita', 'Gita']\n"
     ]
    }
   ],
   "source": [
    "a = ['Ram','Hari','Sita','Gita']\n",
    "a.insert(1,'Laxman')\n",
    "print(a)"
   ]
  },
  {
   "cell_type": "code",
   "execution_count": 28,
   "id": "e3fd1987",
   "metadata": {},
   "outputs": [
    {
     "name": "stdout",
     "output_type": "stream",
     "text": [
      "Enter how many records? 2\n",
      "Enter name Nabin Bhatta\n",
      "Enter age 23\n",
      "Enter address Baitadi\n",
      "Enter name Bobby Bhatta\n",
      "Enter age 22\n",
      "Enter address Kailali\n",
      "[('Nabin Bhatta', '23', 'Baitadi'), ('Bobby Bhatta', '22', 'Kailali')]\n"
     ]
    }
   ],
   "source": [
    "data = []\n",
    "n = int(input('Enter how many records? '))\n",
    "for i in range(n):\n",
    "    name = input('Enter name ')\n",
    "    age = input('Enter age ')\n",
    "    address = input('Enter address ')\n",
    "    \n",
    "    info = [name , age , address]\n",
    "    data.append(info)\n",
    "    \n",
    "print(data)"
   ]
  },
  {
   "cell_type": "code",
   "execution_count": 32,
   "id": "122c5db1",
   "metadata": {},
   "outputs": [
    {
     "name": "stdout",
     "output_type": "stream",
     "text": [
      "Enter how many items? 2\n",
      "Enter product name Grapes\n",
      "Enter price of product 150\n",
      "Enter quantity 5\n",
      "Enter product name Banana\n",
      "Enter price of product 90\n",
      "Enter quantity 5\n",
      " Grapes 150.0 5 750.0\n",
      " Banana 90.0 5 450.0\n",
      " \n",
      "\n",
      "Your bill is  [['Grapes', '150.0', '5', '750.0'], ['Banana', '90.0', '5', '450.0']]\n"
     ]
    }
   ],
   "source": [
    "bill = []\n",
    "s = ''\n",
    "\n",
    "n = int(input('Enter how many items? '))\n",
    "for i in range(n):\n",
    "    name = input('Enter product name ')\n",
    "    price = float(input('Enter price of product '))\n",
    "    quantity = int(input('Enter quantity '))\n",
    "    total = price * quantity\n",
    "    info = f'{name} {price} {quantity} {total}'\n",
    "    s = s + ' ' + info +'\\n'\n",
    "print(s ,'\\n')\n",
    "data = s.split('\\n')[:-1]\n",
    "for i in data:\n",
    "    bill.append(i.split())\n",
    "print('Your bill is ', bill)"
   ]
  },
  {
   "cell_type": "code",
   "execution_count": 35,
   "id": "a21cbd64",
   "metadata": {},
   "outputs": [
    {
     "name": "stdout",
     "output_type": "stream",
     "text": [
      "50\n"
     ]
    }
   ],
   "source": [
    "class Cal:\n",
    "    def calculation(self,l,b):\n",
    "        a = l * b\n",
    "        print(a)\n",
    "obj = Cal()\n",
    "obj.calculation(10,5)"
   ]
  },
  {
   "cell_type": "code",
   "execution_count": 42,
   "id": "3e8cc209",
   "metadata": {},
   "outputs": [
    {
     "name": "stdout",
     "output_type": "stream",
     "text": [
      "Enter name Bamdev \n",
      "Enter age 22\n",
      "Bamdev  you are 22 years old\n"
     ]
    }
   ],
   "source": [
    "class Info:\n",
    "    def intro(self):\n",
    "        self.name = input('Enter name ')\n",
    "        self.age = int(input('Enter age '))\n",
    "        print(f'{self.name} you are { self.age} years old')\n",
    "obj = Info()\n",
    "obj.intro()"
   ]
  },
  {
   "cell_type": "code",
   "execution_count": 43,
   "id": "e741d7cb",
   "metadata": {},
   "outputs": [
    {
     "name": "stdout",
     "output_type": "stream",
     "text": [
      "82.8\n",
      "61.2\n",
      "FWU\n",
      "This is student class \n"
     ]
    }
   ],
   "source": [
    "class Student:\n",
    "    school = \"FWU\"\n",
    "    def __init__(self,m1,m2,m3,m4,m5):\n",
    "        self.m1 = m1\n",
    "        self.m2 = m2\n",
    "        self.m3 = m3\n",
    "        self.m4 = m4\n",
    "        self.m5 = m5\n",
    "        \n",
    "    def avg(self):\n",
    "        return(self.m1+self.m2+self.m3+self.m4+self.m5)/5\n",
    "    \n",
    "#     def get_m1(self):\n",
    "#             return self.m1\n",
    "#     def set_m1(self,value):\n",
    "#         self.m1 = value\n",
    "        \n",
    "    @classmethod   \n",
    "    def getSchool(cls):\n",
    "        return cls.school \n",
    "    @staticmethod\n",
    "    def info():\n",
    "        print(\"This is student class \")\n",
    "        \n",
    "        \n",
    "        \n",
    "s1 = Student(78,85,96,78,77)\n",
    "s2 = Student(47,85,69,58,47)\n",
    "\n",
    "print(s1.avg())\n",
    "print(s2.avg())\n",
    "# print(s1.get_m1())\n",
    "print(Student.getSchool())\n",
    "Student.info()"
   ]
  },
  {
   "cell_type": "code",
   "execution_count": null,
   "id": "6072cc89",
   "metadata": {},
   "outputs": [],
   "source": []
  }
 ],
 "metadata": {
  "kernelspec": {
   "display_name": "Python 3 (ipykernel)",
   "language": "python",
   "name": "python3"
  },
  "language_info": {
   "codemirror_mode": {
    "name": "ipython",
    "version": 3
   },
   "file_extension": ".py",
   "mimetype": "text/x-python",
   "name": "python",
   "nbconvert_exporter": "python",
   "pygments_lexer": "ipython3",
   "version": "3.9.7"
  }
 },
 "nbformat": 4,
 "nbformat_minor": 5
}
