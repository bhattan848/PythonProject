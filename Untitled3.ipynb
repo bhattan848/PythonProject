{
 "cells": [
  {
   "cell_type": "code",
   "execution_count": 2,
   "id": "5bfed52f",
   "metadata": {},
   "outputs": [
    {
     "name": "stdout",
     "output_type": "stream",
     "text": [
      "[0, 1, 2, 3, 4]\n"
     ]
    }
   ],
   "source": [
    "a = [i for i in range(5)]\n",
    "print(a)"
   ]
  },
  {
   "cell_type": "code",
   "execution_count": 3,
   "id": "96a496f3",
   "metadata": {},
   "outputs": [
    {
     "name": "stdout",
     "output_type": "stream",
     "text": [
      "[0, 2, 4]\n"
     ]
    }
   ],
   "source": [
    "a = [i for i in range(5) if i%2==0]\n",
    "print(a)"
   ]
  },
  {
   "cell_type": "code",
   "execution_count": 4,
   "id": "40e3c7aa",
   "metadata": {},
   "outputs": [
    {
     "name": "stdout",
     "output_type": "stream",
     "text": [
      "['Apple', 'Ball', 'Cat']\n"
     ]
    }
   ],
   "source": [
    "x = ['Apple','Ball','Cat','dog']\n",
    "a = [i for i in x if i[0].isupper()]\n",
    "print(a)"
   ]
  },
  {
   "cell_type": "code",
   "execution_count": 5,
   "id": "3c848c13",
   "metadata": {},
   "outputs": [
    {
     "name": "stdout",
     "output_type": "stream",
     "text": [
      "[['Ram', 23, 'Kathamandu']]\n"
     ]
    }
   ],
   "source": [
    "x = [['Ram',23,'Kathamandu'],['Hari',28,'Bhaktapur']]\n",
    "a = [i for i in x if \"Ram\" in i ]\n",
    "print(a)"
   ]
  },
  {
   "cell_type": "code",
   "execution_count": 7,
   "id": "f9598c69",
   "metadata": {},
   "outputs": [
    {
     "data": {
      "text/plain": [
       "['.git',\n",
       " '.ipynb_checkpoints',\n",
       " '.~result.csv',\n",
       " 'abc.txt',\n",
       " 'bb.csv',\n",
       " 'bill.csv',\n",
       " 'bill.json',\n",
       " 'bill.txt',\n",
       " 'covid.csv',\n",
       " 'covid_19_data.csv',\n",
       " 'data.csv',\n",
       " 'data.txt',\n",
       " 'data1.csv',\n",
       " 'data1.txt',\n",
       " 'database.ipynb',\n",
       " 'dictionary.ipynb',\n",
       " 'file.ipynb',\n",
       " 'firstprogram.py.ipynb',\n",
       " 'function.ipynb',\n",
       " 'ifelse.ipynb',\n",
       " 'inheritance.ipynb',\n",
       " 'list.ipynb',\n",
       " 'loop.ipynb',\n",
       " 'nepse.csv',\n",
       " 'NepseProject.ipynb',\n",
       " 'nepseprojrct.ipynb',\n",
       " 'new_data.csv',\n",
       " 'new_data.json',\n",
       " 'oop.ipynb',\n",
       " 'pandas.ipynb',\n",
       " 'practice 4.ipynb',\n",
       " 'practice.ipynb',\n",
       " 'practice2.ipynb',\n",
       " 'practice3.ipynb',\n",
       " 'project.csv',\n",
       " 'scrapping.csv',\n",
       " 'set.ipynb',\n",
       " 'string.ipynb',\n",
       " 'tuples.ipynb',\n",
       " 'Untitled.ipynb',\n",
       " 'Untitled1.ipynb',\n",
       " 'Untitled2.ipynb',\n",
       " 'Untitled3.ipynb',\n",
       " 'web.csv',\n",
       " 'webscrapping.ipynb',\n",
       " 'whileloop.ipynb']"
      ]
     },
     "execution_count": 7,
     "metadata": {},
     "output_type": "execute_result"
    }
   ],
   "source": [
    "import os\n",
    "os.listdir()"
   ]
  },
  {
   "cell_type": "code",
   "execution_count": 8,
   "id": "9d155fb4",
   "metadata": {},
   "outputs": [],
   "source": [
    "import os\n",
    "os.mkdir('hello')"
   ]
  },
  {
   "cell_type": "code",
   "execution_count": 9,
   "id": "fa3e26b6",
   "metadata": {},
   "outputs": [],
   "source": [
    "os.chdir('hello')"
   ]
  },
  {
   "cell_type": "code",
   "execution_count": 10,
   "id": "d8dc081b",
   "metadata": {},
   "outputs": [
    {
     "data": {
      "text/plain": [
       "'C:\\\\Users\\\\user\\\\Desktop\\\\Python\\\\hello'"
      ]
     },
     "execution_count": 10,
     "metadata": {},
     "output_type": "execute_result"
    }
   ],
   "source": [
    "pwd"
   ]
  },
  {
   "cell_type": "code",
   "execution_count": 3,
   "id": "6436df71",
   "metadata": {},
   "outputs": [
    {
     "name": "stdout",
     "output_type": "stream",
     "text": [
      "[1, 4, 9, 16, 25, 36, 49, 64, 81, 100]\n",
      "[1, 4, 9, 16, 25, 36, 49, 64, 81, 100]\n"
     ]
    }
   ],
   "source": [
    "#Using List Comprehension\n",
    "l2=[i*i for i in range(1,11)]\n",
    "print (l2) \n",
    "\n",
    "\n",
    "# Using for loop\n",
    "l1=[]\n",
    "for i in range(1,11):\n",
    "    a=i*i\n",
    "    l1.append(a)\n",
    "print (l1)     "
   ]
  },
  {
   "cell_type": "code",
   "execution_count": 2,
   "id": "636470ce",
   "metadata": {},
   "outputs": [
    {
     "name": "stdout",
     "output_type": "stream",
     "text": [
      "[1, 2, 3, 4, 5, 6, 7, 8, 9]\n"
     ]
    }
   ],
   "source": [
    "\n",
    "l1=[[1,2,3],[4,5,6],[7,8,9]]\n",
    "l2=[num2 for num1 in l1 for num2 in num1]\n",
    "print (l2) "
   ]
  },
  {
   "cell_type": "code",
   "execution_count": 6,
   "id": "a5b96602",
   "metadata": {},
   "outputs": [
    {
     "name": "stdout",
     "output_type": "stream",
     "text": [
      "[6, 12]\n"
     ]
    }
   ],
   "source": [
    "#Finding numbers that are divisible by 2 and 3.\n",
    "l1=[1,2,3,4,5,6,7,8,9,10,11,12]\n",
    "l2=[n for n in l1 if n%2==0 and n%3==0]\n",
    "print (l2)"
   ]
  },
  {
   "cell_type": "code",
   "execution_count": 9,
   "id": "a9ce5a6b",
   "metadata": {},
   "outputs": [
    {
     "name": "stdout",
     "output_type": "stream",
     "text": [
      "[('red', 0), ('red', 1), ('red', 2), ('green', 0), ('green', 1), ('green', 2), ('blue', 0), ('blue', 1), ('blue', 2)]\n"
     ]
    }
   ],
   "source": [
    "a1=['red','green','blue']\n",
    "b1=[0,1,2]\n",
    "a2=[(a,b) for a in a1 for b in b1]\n",
    "print (a2)"
   ]
  },
  {
   "cell_type": "code",
   "execution_count": null,
   "id": "f62844db",
   "metadata": {},
   "outputs": [],
   "source": []
  }
 ],
 "metadata": {
  "kernelspec": {
   "display_name": "Python 3 (ipykernel)",
   "language": "python",
   "name": "python3"
  },
  "language_info": {
   "codemirror_mode": {
    "name": "ipython",
    "version": 3
   },
   "file_extension": ".py",
   "mimetype": "text/x-python",
   "name": "python",
   "nbconvert_exporter": "python",
   "pygments_lexer": "ipython3",
   "version": "3.9.7"
  }
 },
 "nbformat": 4,
 "nbformat_minor": 5
}
