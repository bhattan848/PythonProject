{
 "cells": [
  {
   "cell_type": "code",
   "execution_count": 2,
   "id": "5bfed52f",
   "metadata": {},
   "outputs": [
    {
     "name": "stdout",
     "output_type": "stream",
     "text": [
      "[0, 1, 2, 3, 4]\n"
     ]
    }
   ],
   "source": [
    "a = [i for i in range(5)]\n",
    "print(a)"
   ]
  },
  {
   "cell_type": "code",
   "execution_count": 3,
   "id": "96a496f3",
   "metadata": {},
   "outputs": [
    {
     "name": "stdout",
     "output_type": "stream",
     "text": [
      "[0, 2, 4]\n"
     ]
    }
   ],
   "source": [
    "a = [i for i in range(5) if i%2==0]\n",
    "print(a)"
   ]
  },
  {
   "cell_type": "code",
   "execution_count": 4,
   "id": "40e3c7aa",
   "metadata": {},
   "outputs": [
    {
     "name": "stdout",
     "output_type": "stream",
     "text": [
      "['Apple', 'Ball', 'Cat']\n"
     ]
    }
   ],
   "source": [
    "x = ['Apple','Ball','Cat','dog']\n",
    "a = [i for i in x if i[0].isupper()]\n",
    "print(a)"
   ]
  },
  {
   "cell_type": "code",
   "execution_count": 5,
   "id": "3c848c13",
   "metadata": {},
   "outputs": [
    {
     "name": "stdout",
     "output_type": "stream",
     "text": [
      "[['Ram', 23, 'Kathamandu']]\n"
     ]
    }
   ],
   "source": [
    "x = [['Ram',23,'Kathamandu'],['Hari',28,'Bhaktapur']]\n",
    "a = [i for i in x if \"Ram\" in i ]\n",
    "print(a)"
   ]
  },
  {
   "cell_type": "code",
   "execution_count": 7,
   "id": "f9598c69",
   "metadata": {},
   "outputs": [
    {
     "data": {
      "text/plain": [
       "['.git',\n",
       " '.ipynb_checkpoints',\n",
       " '.~result.csv',\n",
       " 'abc.txt',\n",
       " 'bb.csv',\n",
       " 'bill.csv',\n",
       " 'bill.json',\n",
       " 'bill.txt',\n",
       " 'covid.csv',\n",
       " 'covid_19_data.csv',\n",
       " 'data.csv',\n",
       " 'data.txt',\n",
       " 'data1.csv',\n",
       " 'data1.txt',\n",
       " 'database.ipynb',\n",
       " 'dictionary.ipynb',\n",
       " 'file.ipynb',\n",
       " 'firstprogram.py.ipynb',\n",
       " 'function.ipynb',\n",
       " 'ifelse.ipynb',\n",
       " 'inheritance.ipynb',\n",
       " 'list.ipynb',\n",
       " 'loop.ipynb',\n",
       " 'nepse.csv',\n",
       " 'NepseProject.ipynb',\n",
       " 'nepseprojrct.ipynb',\n",
       " 'new_data.csv',\n",
       " 'new_data.json',\n",
       " 'oop.ipynb',\n",
       " 'pandas.ipynb',\n",
       " 'practice 4.ipynb',\n",
       " 'practice.ipynb',\n",
       " 'practice2.ipynb',\n",
       " 'practice3.ipynb',\n",
       " 'project.csv',\n",
       " 'scrapping.csv',\n",
       " 'set.ipynb',\n",
       " 'string.ipynb',\n",
       " 'tuples.ipynb',\n",
       " 'Untitled.ipynb',\n",
       " 'Untitled1.ipynb',\n",
       " 'Untitled2.ipynb',\n",
       " 'Untitled3.ipynb',\n",
       " 'web.csv',\n",
       " 'webscrapping.ipynb',\n",
       " 'whileloop.ipynb']"
      ]
     },
     "execution_count": 7,
     "metadata": {},
     "output_type": "execute_result"
    }
   ],
   "source": [
    "import os\n",
    "os.listdir()"
   ]
  },
  {
   "cell_type": "code",
   "execution_count": 8,
   "id": "9d155fb4",
   "metadata": {},
   "outputs": [],
   "source": [
    "import os\n",
    "os.mkdir('hello')"
   ]
  },
  {
   "cell_type": "code",
   "execution_count": 9,
   "id": "fa3e26b6",
   "metadata": {},
   "outputs": [],
   "source": [
    "os.chdir('hello')"
   ]
  },
  {
   "cell_type": "code",
   "execution_count": 10,
   "id": "d8dc081b",
   "metadata": {},
   "outputs": [
    {
     "data": {
      "text/plain": [
       "'C:\\\\Users\\\\user\\\\Desktop\\\\Python\\\\hello'"
      ]
     },
     "execution_count": 10,
     "metadata": {},
     "output_type": "execute_result"
    }
   ],
   "source": [
    "pwd"
   ]
  },
  {
   "cell_type": "code",
   "execution_count": null,
   "id": "6436df71",
   "metadata": {},
   "outputs": [],
   "source": []
  }
 ],
 "metadata": {
  "kernelspec": {
   "display_name": "Python 3 (ipykernel)",
   "language": "python",
   "name": "python3"
  },
  "language_info": {
   "codemirror_mode": {
    "name": "ipython",
    "version": 3
   },
   "file_extension": ".py",
   "mimetype": "text/x-python",
   "name": "python",
   "nbconvert_exporter": "python",
   "pygments_lexer": "ipython3",
   "version": "3.9.7"
  }
 },
 "nbformat": 4,
 "nbformat_minor": 5
}
