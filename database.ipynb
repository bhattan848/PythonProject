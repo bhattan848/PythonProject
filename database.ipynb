{
 "cells": [
  {
   "cell_type": "code",
   "execution_count": 4,
   "id": "74d3ba72",
   "metadata": {},
   "outputs": [
    {
     "name": "stdout",
     "output_type": "stream",
     "text": [
      "Collecting mysql-connector\n",
      "  Using cached mysql-connector-2.2.9.tar.gz (11.9 MB)\n",
      "Building wheels for collected packages: mysql-connector\n",
      "  Building wheel for mysql-connector (setup.py): started\n",
      "  Building wheel for mysql-connector (setup.py): finished with status 'done'\n",
      "  Created wheel for mysql-connector: filename=mysql_connector-2.2.9-cp39-cp39-win_amd64.whl size=247961 sha256=90d8110e58194bfe1e681bfa485683749605996795d7899c41190d66dd97e3f1\n",
      "  Stored in directory: c:\\users\\user\\appdata\\local\\pip\\cache\\wheels\\7b\\14\\39\\5aad423666e827dfe9a1fbcd111ac17171e7c9865d570780ce\n",
      "Successfully built mysql-connector\n",
      "Installing collected packages: mysql-connector\n",
      "Successfully installed mysql-connector-2.2.9\n"
     ]
    }
   ],
   "source": [
    "!Pip install mysql-connector"
   ]
  },
  {
   "cell_type": "code",
   "execution_count": 1,
   "id": "ceb26c5c",
   "metadata": {},
   "outputs": [],
   "source": [
    "import mysql.connector\n",
    "mydb = mysql.connector.connect(\n",
    "    host = \"localhost\",\n",
    "    user = \"root\",\n",
    "    password = \"\",\n",
    "    database=\"class4pm\"\n",
    "\n",
    ")"
   ]
  },
  {
   "cell_type": "code",
   "execution_count": 2,
   "id": "8068c6ad",
   "metadata": {},
   "outputs": [
    {
     "name": "stdout",
     "output_type": "stream",
     "text": [
      "(1, 'Bamdev', 'Baitadi', 85, 78, 65, 68, 99, 365, 0, 'A')\n",
      "(2, 'Ram', 'Kathmandu', 56, 64, 50, 50, 60, 260, 0, 'B')\n",
      "(3, 'Sita', 'Bara', 50, 50, 50, 50, 50, 250, 0, 'C')\n",
      "(4, 'Shyam', 'Butwal', 45, 78, 98, 68, 89, 360, 0, 'A')\n",
      "(5, 'Sangita', 'Kailali', 65, 50, 74, 50, 75, 320, 0, 'B')\n",
      "(6, 'Anjali', 'Butwal', 78, 84, 75, 90, 65, 380, 0, 'B')\n",
      "(8, 'Anjali', 'Butwal', 78, 84, 75, 90, 65, 380, 80, 'B')\n",
      "(9, 'Ganesh', 'Dadeldhura', 74, 85, 69, 74, 85, 387, 77, 'B')\n",
      "(10, 'Bhawana', 'Darchula', 74, 85, 45, 65, 25, 294, 59, 'c')\n"
     ]
    }
   ],
   "source": [
    "mycursor = mydb.cursor()\n",
    "mycursor.execute(\"SELECT * FROM student\")\n",
    "result =mycursor.fetchall()\n",
    "\n",
    "for x in result:\n",
    "    print(x)"
   ]
  },
  {
   "cell_type": "code",
   "execution_count": 3,
   "id": "11eb8f84",
   "metadata": {},
   "outputs": [],
   "source": [
    "sql =\"INSERT INTO student(name, address, physics, english, maths, chemistry, computer, total,per, grade)VALUES ('Anjali','Butwal',78,84,75,90,65,380,80,'B')\"\n",
    "mycursor.execute(sql)\n",
    "mydb.commit()"
   ]
  },
  {
   "cell_type": "code",
   "execution_count": null,
   "id": "66f6147a",
   "metadata": {},
   "outputs": [
    {
     "name": "stdout",
     "output_type": "stream",
     "text": [
      "Enter the value of n =2\n",
      "Enter sn 1\n",
      "Enter name \n",
      "Enter address kytm\\\n"
     ]
    }
   ],
   "source": [
    "n = int(input(\"Enter the value of n =\"))\n",
    "for i in range(n):\n",
    "    sn = int(input(\"Enter sn \"))\n",
    "    name = input(\"Enter name \")\n",
    "    address  = input(\"Enter address \")\n",
    "    physics = int(input(\"Enter marks in physics \"))\n",
    "    english = int(input(\"Enter marks in english \"))\n",
    "    maths = int(input(\"Enter marks in maths \"))\n",
    "    chemistry = int(input(\"Enter marks in chemistry \"))\n",
    "    computer = int(input(\"Enter marks in computer \"))\n",
    "    total = sum([physics,english,maths,chemistry,computer])\n",
    "    per = total/5\n",
    "    if per >80:\n",
    "        grade = \"A\"\n",
    "    elif per>60:\n",
    "        grade = \"B\"\n",
    "    elif per>50:\n",
    "        grade = \"C\"\n",
    "        \n",
    "    else:\n",
    "        grade = \"F\"\n",
    "\n",
    "    sql =f\"INSERT INTO student VALUES ({sn},'{name}','{address}',{physics},{english},{maths},{chemistry},{computer},{total},{per},'{grade}')\"\n",
    "    mycursor.execute(sql)\n",
    "mydb.commit()"
   ]
  },
  {
   "cell_type": "code",
   "execution_count": null,
   "id": "6c6e8142",
   "metadata": {},
   "outputs": [],
   "source": []
  },
  {
   "cell_type": "code",
   "execution_count": null,
   "id": "ce48b560",
   "metadata": {},
   "outputs": [],
   "source": [
    "import mysql.connector\n",
    "import xlrd\n",
    "\n",
    "mydb = mysql.connector.connect(\n",
    "    host = \"localhost\",\n",
    "    user = \"root\",\n",
    "    password = \"\",\n",
    "    database=\"class4pm\"\n",
    "\n",
    ")\n",
    "cur = mydb.cursor()\n",
    "loc = \"C:\\\\Users\\\\user\\\\Desktop\\\\data1.csv\"\n",
    "a = xlrd.open_workbook(loc)\n",
    "sheet = a.sheet_by_index(0)\n",
    "sheet.cell_value(0,0)\n",
    "for i in range(1,8):\n",
    "    print(tuple(sheet.row_values(i))\n",
    "mydb.close()"
   ]
  },
  {
   "cell_type": "code",
   "execution_count": null,
   "id": "ffc9967b",
   "metadata": {},
   "outputs": [],
   "source": []
  }
 ],
 "metadata": {
  "kernelspec": {
   "display_name": "Python 3 (ipykernel)",
   "language": "python",
   "name": "python3"
  },
  "language_info": {
   "codemirror_mode": {
    "name": "ipython",
    "version": 3
   },
   "file_extension": ".py",
   "mimetype": "text/x-python",
   "name": "python",
   "nbconvert_exporter": "python",
   "pygments_lexer": "ipython3",
   "version": "3.9.7"
  }
 },
 "nbformat": 4,
 "nbformat_minor": 5
}
