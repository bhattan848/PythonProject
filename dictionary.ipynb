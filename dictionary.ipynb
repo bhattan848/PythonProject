{
 "cells": [
  {
   "cell_type": "code",
   "execution_count": null,
   "id": "ac3f1ab7",
   "metadata": {},
   "outputs": [],
   "source": [
    "# a = {}\n",
    "# b = {<key>:<value>,<key>:<value>}"
   ]
  },
  {
   "cell_type": "code",
   "execution_count": 1,
   "id": "582e7f59",
   "metadata": {},
   "outputs": [
    {
     "name": "stdout",
     "output_type": "stream",
     "text": [
      "{'a': 'Apple', 'b': 'Ball', 'c': 'Cat'}\n",
      "<class 'dict'>\n"
     ]
    }
   ],
   "source": [
    "a = dict()\n",
    "b = {\"a\":\"Apple\",\"b\":\"Ball\",\"c\":\"Cat\"}\n",
    "print(b)\n",
    "print(type(b))"
   ]
  },
  {
   "cell_type": "code",
   "execution_count": null,
   "id": "c026ac2a",
   "metadata": {},
   "outputs": [],
   "source": [
    "# Dict\n",
    "# -Indexed\n",
    "# -Duplicate values\n",
    "# -Ordered\n",
    "# -mutable\n"
   ]
  },
  {
   "cell_type": "code",
   "execution_count": 4,
   "id": "ba2635ae",
   "metadata": {},
   "outputs": [
    {
     "name": "stdout",
     "output_type": "stream",
     "text": [
      "Apple\n",
      "Ball\n",
      "Cat\n",
      "3\n"
     ]
    }
   ],
   "source": [
    "b = {\"a\":\"Apple\",\"b\":\"Ball\",\"c\":\"Cat\"}\n",
    "print(b[\"a\"])\n",
    "print(b[\"b\"])\n",
    "print(b[\"c\"])\n",
    "print(len(b))"
   ]
  },
  {
   "cell_type": "code",
   "execution_count": 8,
   "id": "b91547da",
   "metadata": {},
   "outputs": [
    {
     "name": "stdout",
     "output_type": "stream",
     "text": [
      "{'a': 'Ant', 'b': 'Ball', 'c': 'Cat'}\n"
     ]
    }
   ],
   "source": [
    "b = {\"a\":\"Apple\",\"b\":\"Ball\",\"c\":\"Cat\",\"a\":\"Ant\"}\n",
    "print(b)"
   ]
  },
  {
   "cell_type": "code",
   "execution_count": 10,
   "id": "f882dc9c",
   "metadata": {},
   "outputs": [
    {
     "name": "stdout",
     "output_type": "stream",
     "text": [
      "{'a': 'Apple', 'b': 'Ball', 'c': 'Cat', 'A': 'Apple'}\n"
     ]
    }
   ],
   "source": [
    "b = {\"a\":\"Apple\",\"b\":\"Ball\",\"c\":\"Cat\",\"A\":\"Apple\"}\n",
    "print(b)"
   ]
  },
  {
   "cell_type": "code",
   "execution_count": 11,
   "id": "b4b104f6",
   "metadata": {},
   "outputs": [
    {
     "data": {
      "text/plain": [
       "{'a': 'Apple', 'b': 'Ball', 'c': 'Cat'}"
      ]
     },
     "execution_count": 11,
     "metadata": {},
     "output_type": "execute_result"
    }
   ],
   "source": [
    " a = {}\n",
    "# a[<key>] = <value>\n",
    "a[\"a\"] = \"Apple\"\n",
    "a[\"b\"] = \"Ball\"\n",
    "a[\"c\"] = \"Cat\"\n",
    "a"
   ]
  },
  {
   "cell_type": "code",
   "execution_count": 13,
   "id": "53cb9082",
   "metadata": {},
   "outputs": [
    {
     "data": {
      "text/plain": [
       "{'a': 'Apple', 'b': 'Ball', 'c': 'Coat'}"
      ]
     },
     "execution_count": 13,
     "metadata": {},
     "output_type": "execute_result"
    }
   ],
   "source": [
    " a = {}\n",
    "a[\"a\"] = \"Apple\"\n",
    "a[\"b\"] = \"Ball\"\n",
    "a[\"c\"] = \"Cat\"\n",
    "a[\"c\"] = \"Coat\"\n",
    "a"
   ]
  },
  {
   "cell_type": "code",
   "execution_count": 14,
   "id": "02442a8c",
   "metadata": {},
   "outputs": [
    {
     "name": "stdout",
     "output_type": "stream",
     "text": [
      "Enter the value of n =2\n",
      "Enter name = hari \n",
      "Enter name = 98745899\n",
      "Enter name = sita\n",
      "Enter name = 55669874\n",
      "{'hari ': '98745899', 'sita': '55669874'}\n"
     ]
    }
   ],
   "source": [
    "data = {}\n",
    "n = int(input(\"Enter the value of n =\"))\n",
    "for i in range(n):\n",
    "    name = input(\"Enter name = \")\n",
    "    phone = input(\"Enter name = \")\n",
    "    data[name]= phone\n",
    "print(data)\n",
    "    "
   ]
  },
  {
   "cell_type": "code",
   "execution_count": 17,
   "id": "36ba4766",
   "metadata": {},
   "outputs": [
    {
     "name": "stdout",
     "output_type": "stream",
     "text": [
      "hari \n",
      "sita\n"
     ]
    }
   ],
   "source": [
    "x = {'hari ': '98745899', 'sita': '55669874'}\n",
    "for i in x:\n",
    "    print(i)"
   ]
  },
  {
   "cell_type": "code",
   "execution_count": 16,
   "id": "37d3a98c",
   "metadata": {},
   "outputs": [
    {
     "name": "stdout",
     "output_type": "stream",
     "text": [
      "98745899\n",
      "55669874\n"
     ]
    }
   ],
   "source": [
    "a = {'hari ': '98745899', 'sita': '55669874'}\n",
    "for i in a.values():\n",
    "    print(i)"
   ]
  },
  {
   "cell_type": "code",
   "execution_count": 1,
   "id": "1d21e0b8",
   "metadata": {},
   "outputs": [
    {
     "name": "stdout",
     "output_type": "stream",
     "text": [
      "('hari ', '98745899')\n",
      "('sita', '55669874')\n"
     ]
    }
   ],
   "source": [
    "a = {'hari ': '98745899', 'sita': '55669874'}\n",
    "for i in a.items():\n",
    "    print(i)"
   ]
  },
  {
   "cell_type": "code",
   "execution_count": 2,
   "id": "fe2ceef6",
   "metadata": {},
   "outputs": [
    {
     "data": {
      "text/plain": [
       "{'hari ': '98745899', 'sita': '55669874'}"
      ]
     },
     "execution_count": 2,
     "metadata": {},
     "output_type": "execute_result"
    }
   ],
   "source": [
    "y = [('hari ', '98745899'),('sita', '55669874')]\n",
    "dict(y)"
   ]
  },
  {
   "cell_type": "code",
   "execution_count": 2,
   "id": "6caccadb",
   "metadata": {},
   "outputs": [
    {
     "name": "stdout",
     "output_type": "stream",
     "text": [
      "{'hari': '9843698544', 'sita': '55669874'}\n"
     ]
    }
   ],
   "source": [
    "a = {'hari': '98745899', 'sita': '55669874'}\n",
    "a[\"hari\"] = \"9843698544\"\n",
    "print(a)"
   ]
  },
  {
   "cell_type": "code",
   "execution_count": 3,
   "id": "031d4962",
   "metadata": {},
   "outputs": [
    {
     "ename": "TypeError",
     "evalue": "unsupported operand type(s) for +: 'dict' and 'dict'",
     "output_type": "error",
     "traceback": [
      "\u001b[1;31m---------------------------------------------------------------------------\u001b[0m",
      "\u001b[1;31mTypeError\u001b[0m                                 Traceback (most recent call last)",
      "\u001b[1;32m~\\AppData\\Local\\Temp/ipykernel_7976/1930160238.py\u001b[0m in \u001b[0;36m<module>\u001b[1;34m\u001b[0m\n\u001b[0;32m      1\u001b[0m \u001b[0ma\u001b[0m \u001b[1;33m=\u001b[0m \u001b[1;33m{\u001b[0m\u001b[1;34m\"A\"\u001b[0m\u001b[1;33m:\u001b[0m\u001b[1;34m\"Apple\"\u001b[0m\u001b[1;33m}\u001b[0m\u001b[1;33m\u001b[0m\u001b[1;33m\u001b[0m\u001b[0m\n\u001b[0;32m      2\u001b[0m \u001b[0mb\u001b[0m \u001b[1;33m=\u001b[0m \u001b[1;33m{\u001b[0m\u001b[1;34m\"B\"\u001b[0m\u001b[1;33m:\u001b[0m\u001b[1;34m\"Ball\"\u001b[0m\u001b[1;33m}\u001b[0m\u001b[1;33m\u001b[0m\u001b[1;33m\u001b[0m\u001b[0m\n\u001b[1;32m----> 3\u001b[1;33m \u001b[0mc\u001b[0m \u001b[1;33m=\u001b[0m \u001b[0ma\u001b[0m\u001b[1;33m+\u001b[0m\u001b[0mb\u001b[0m\u001b[1;33m\u001b[0m\u001b[1;33m\u001b[0m\u001b[0m\n\u001b[0m\u001b[0;32m      4\u001b[0m \u001b[0mc\u001b[0m\u001b[1;33m\u001b[0m\u001b[1;33m\u001b[0m\u001b[0m\n",
      "\u001b[1;31mTypeError\u001b[0m: unsupported operand type(s) for +: 'dict' and 'dict'"
     ]
    }
   ],
   "source": [
    "a = {\"A\":\"Apple\"}\n",
    "b = {\"B\":\"Ball\"}    #addition cannot be done\n",
    "c = a+b\n",
    "c"
   ]
  },
  {
   "cell_type": "code",
   "execution_count": 4,
   "id": "b4416c30",
   "metadata": {},
   "outputs": [
    {
     "name": "stdout",
     "output_type": "stream",
     "text": [
      "{1: 1, 2: 4, 3: 9, 4: 16}\n"
     ]
    }
   ],
   "source": [
    "a = {1:1,2:4,3:9,4:16}\n",
    "print(a)"
   ]
  },
  {
   "cell_type": "code",
   "execution_count": 6,
   "id": "a2c4e52e",
   "metadata": {},
   "outputs": [
    {
     "data": {
      "text/plain": [
       "{('hari', 'Ram'): '9843698544', 'sita': '55669874'}"
      ]
     },
     "execution_count": 6,
     "metadata": {},
     "output_type": "execute_result"
    }
   ],
   "source": [
    "a = {('hari',\"Ram\"): '9843698544', 'sita': '55669874'}\n",
    "a"
   ]
  },
  {
   "cell_type": "code",
   "execution_count": 8,
   "id": "afe9ddb5",
   "metadata": {},
   "outputs": [
    {
     "name": "stdout",
     "output_type": "stream",
     "text": [
      "{}\n"
     ]
    }
   ],
   "source": [
    "a = {'Ram':'9867665654', 'Shyam':'9850478569'}\n",
    "a.clear()\n",
    "print(a)"
   ]
  },
  {
   "cell_type": "code",
   "execution_count": 9,
   "id": "51dc32d8",
   "metadata": {},
   "outputs": [
    {
     "name": "stdout",
     "output_type": "stream",
     "text": [
      "{'Shyam': '9850478569'}\n"
     ]
    }
   ],
   "source": [
    "a = {'Ram':'9867665654', 'Shyam':'9850478569'}\n",
    "del a[\"Ram\"]\n",
    "print(a)"
   ]
  },
  {
   "cell_type": "code",
   "execution_count": 10,
   "id": "da74c482",
   "metadata": {},
   "outputs": [
    {
     "name": "stdout",
     "output_type": "stream",
     "text": [
      "{'Ram': '9867665654'}\n"
     ]
    }
   ],
   "source": [
    "a = {'Ram':'9867665654', 'Shyam':'9850478569'}\n",
    "a.pop(\"Shyam\")\n",
    "print(a)"
   ]
  },
  {
   "cell_type": "code",
   "execution_count": 11,
   "id": "11eabd22",
   "metadata": {},
   "outputs": [
    {
     "name": "stdout",
     "output_type": "stream",
     "text": [
      "{'Ram': ['9867665654', '982123658954'], 'Shyam': ['9850478569', '9821425863']}\n"
     ]
    }
   ],
   "source": [
    "#list inside dictionary\n",
    "a = {'Ram':['9867665654','982123658954'], 'Shyam':['9850478569','9821425863']}\n",
    "print(a)"
   ]
  },
  {
   "cell_type": "code",
   "execution_count": 12,
   "id": "7827d319",
   "metadata": {},
   "outputs": [
    {
     "name": "stdout",
     "output_type": "stream",
     "text": [
      "Enter the value of n =2\n",
      "Enter name = Ram\n",
      "Enter ntc phone number = 985874598\n",
      "Enter ncell phone number = 982132012\n",
      "Enter name = Sita\n",
      "Enter ntc phone number = 98658748\n",
      "Enter ncell phone number = 9812454858\n",
      "{'Ram': ['985874598', '982132012'], 'Sita': ['98658748', '9812454858']}\n"
     ]
    }
   ],
   "source": [
    "data = {}\n",
    "n = int(input(\"Enter the value of n =\"))\n",
    "for i in range(n):\n",
    "    name = input(\"Enter name = \")\n",
    "    ntc = input(\"Enter ntc phone number = \")\n",
    "    ncell = input(\"Enter ncell phone number = \")\n",
    "    data[name]= [ntc,ncell]\n",
    "print(data)\n",
    "    "
   ]
  },
  {
   "cell_type": "code",
   "execution_count": 13,
   "id": "bded5b9f",
   "metadata": {},
   "outputs": [
    {
     "name": "stdout",
     "output_type": "stream",
     "text": [
      "{'Ram': ['985874598', '982132012'], 'Sita': ['98658748', '9812454858'], 'Hari': [98439123588, 9816879658]}\n"
     ]
    }
   ],
   "source": [
    "a = {'Ram': ['985874598', '982132012'], 'Sita': ['98658748', '9812454858']}\n",
    "a[\"Hari\"] = [98439123588,9816879658]\n",
    "print(a)"
   ]
  },
  {
   "cell_type": "code",
   "execution_count": 15,
   "id": "8514e3ea",
   "metadata": {},
   "outputs": [
    {
     "name": "stdout",
     "output_type": "stream",
     "text": [
      "Enter the value of n =2\n",
      "Enter name = Ram\n",
      "Enter ntc phone number = 9862499522\n",
      "Enter ncell phone number = 9845645455\n",
      "Enter name = Sita\n",
      "Enter ntc phone number = 9896545454\n",
      "Enter ncell phone number = 9816253565\n",
      "{'Ram': ['9862499522', '9845645455'], 'Sita': ['9896545454', '9816253565']}\n"
     ]
    }
   ],
   "source": [
    "data = {}\n",
    "n = int(input(\"Enter the value of n =\"))\n",
    "for i in range(n):\n",
    "    name = input(\"Enter name = \")\n",
    "    ntc = input(\"Enter ntc phone number = \")\n",
    "    ncell = input(\"Enter ncell phone number = \")\n",
    "    if (len(ntc) == 10) and (len(ncell)==10):\n",
    "        data[name]= [ntc,ncell]\n",
    "    else:\n",
    "        print(\"Insert valid number\")\n",
    "print(data)\n",
    "    "
   ]
  },
  {
   "cell_type": "code",
   "execution_count": 5,
   "id": "8f6f2e80",
   "metadata": {},
   "outputs": [
    {
     "name": "stdout",
     "output_type": "stream",
     "text": [
      "Enter name = Sita\n",
      "Enter 0 for ntc and 1 for ncell 1\n",
      "The ncell number of Sita 9812454858\n"
     ]
    }
   ],
   "source": [
    "name = input(\"Enter name = \")\n",
    "a = {'Ram': ['985874598', '982132012'], 'Sita': ['98658748', '9812454858'], 'Hari': [98439123588, 9816879658]}\n",
    "x = int(input(\"Enter 0 for ntc and 1 for ncell \"))\n",
    "if x == 0:\n",
    "    print(f\"The ntc number of {name}\",a[name][0])\n",
    "elif x==1:\n",
    "    print(f\"The ncell number of {name}\",a[name][1])"
   ]
  },
  {
   "cell_type": "code",
   "execution_count": 2,
   "id": "a62bb199",
   "metadata": {},
   "outputs": [
    {
     "data": {
      "text/plain": [
       "{'Ram': [9861858759, 9810253698],\n",
       " 'Sita': ['98658748', '9812454858'],\n",
       " 'Hari': [98439123588, 9816879658]}"
      ]
     },
     "execution_count": 2,
     "metadata": {},
     "output_type": "execute_result"
    }
   ],
   "source": [
    "a = {'Ram': ['985874598', '982132012'], 'Sita': ['98658748', '9812454858'], 'Hari': [98439123588, 9816879658]}\n",
    "a[\"Ram\"][0] = 9861858759\n",
    "a[\"Ram\"][1] = 9810253698\n",
    "a"
   ]
  },
  {
   "cell_type": "code",
   "execution_count": 1,
   "id": "cb1e5db9",
   "metadata": {},
   "outputs": [
    {
     "name": "stdout",
     "output_type": "stream",
     "text": [
      "[{'name': 'Ram', 'Age': 34, 'add': 'Kathmandu'}, {'name': 'Shyam', 'Age': 25, 'add': 'Bhaktapur'}, {'name': 'Nabin', 'Age': 23, 'add': 'Hetauda'}]\n"
     ]
    }
   ],
   "source": [
    "# Dictionary inside list\n",
    "a = [{'name' : \"Ram\", \"Age\":34,\"add\":\"Kathmandu\"},\n",
    "    {'name' : \"Shyam\", \"Age\":25,\"add\":\"Bhaktapur\"},\n",
    "    {'name' : \"Nabin\", \"Age\":23,\"add\":\"Hetauda\"}]\n",
    "print(a)"
   ]
  },
  {
   "cell_type": "code",
   "execution_count": 2,
   "id": "cc547687",
   "metadata": {},
   "outputs": [
    {
     "name": "stdout",
     "output_type": "stream",
     "text": [
      "{'name': 'Ram', 'Age': 34, 'add': 'Kathmandu'}\n",
      "{'name': 'Shyam', 'Age': 25, 'add': 'Bhaktapur'}\n",
      "{'name': 'Nabin', 'Age': 23, 'add': 'Hetauda'}\n"
     ]
    }
   ],
   "source": [
    "for i in a:\n",
    "    print(i)"
   ]
  },
  {
   "cell_type": "code",
   "execution_count": 4,
   "id": "23cba116",
   "metadata": {},
   "outputs": [
    {
     "name": "stdout",
     "output_type": "stream",
     "text": [
      "Enter the value of n =2\n",
      "Enter name = hari\n",
      "Enter age = 45\n",
      "Enter address = bara\n",
      "Enter name = sita\n",
      "Enter age = 40\n",
      "Enter address = bara\n",
      "[{'name': 'hari', 'age': '45', 'add': 'bara'}, {'name': 'sita', 'age': '40', 'add': 'bara'}]\n"
     ]
    }
   ],
   "source": [
    "data = []\n",
    "n = int(input(\"Enter the value of n =\"))\n",
    "for i in range(n):\n",
    "    name = input(\"Enter name = \")\n",
    "    age = input(\"Enter age = \")\n",
    "    add = input(\"Enter address = \")\n",
    "    info = {\"name\":name,\"age\":age,\"add\":add}\n",
    "    data.append(info)\n",
    "print(data)\n",
    "    "
   ]
  },
  {
   "cell_type": "code",
   "execution_count": 5,
   "id": "3e5e1234",
   "metadata": {},
   "outputs": [
    {
     "name": "stdout",
     "output_type": "stream",
     "text": [
      "hari\n"
     ]
    }
   ],
   "source": [
    "a = [{'name': 'hari', 'age': '45', 'add': 'bara'}, {'name': 'sita', 'age': '40', 'add': 'bara'}]\n",
    "print(a[0]['name'])"
   ]
  },
  {
   "cell_type": "code",
   "execution_count": 7,
   "id": "2bade0a0",
   "metadata": {},
   "outputs": [
    {
     "data": {
      "text/plain": [
       "[{'name': 'Ram Prasad', 'age': '45', 'add': 'bara'},\n",
       " {'name': 'sita', 'age': '40', 'add': 'bara'}]"
      ]
     },
     "execution_count": 7,
     "metadata": {},
     "output_type": "execute_result"
    }
   ],
   "source": [
    "a = [{'name': 'hari', 'age': '45', 'add': 'bara'}, {'name': 'sita', 'age': '40', 'add': 'bara'}]\n",
    "a[0]['name'] = \"Ram Prasad\"\n",
    "a"
   ]
  },
  {
   "cell_type": "code",
   "execution_count": 9,
   "id": "0306c775",
   "metadata": {},
   "outputs": [
    {
     "data": {
      "text/plain": [
       "{1: {'name': 'Sita', 'age': 25, 'add': 'Kathmandu'},\n",
       " 2: {'name': 'Gita', 'age': 23, 'add': 'Hetauda'}}"
      ]
     },
     "execution_count": 9,
     "metadata": {},
     "output_type": "execute_result"
    }
   ],
   "source": [
    "#dictionary inside dictionary\n",
    "a = {1:{\"name\":\"Sita\",\"age\":25,\"add\":\"Kathmandu\"},\n",
    "    2:{\"name\":\"Gita\",\"age\":23,\"add\":\"Hetauda\"}}\n",
    "a"
   ]
  },
  {
   "cell_type": "code",
   "execution_count": 10,
   "id": "32a42074",
   "metadata": {},
   "outputs": [
    {
     "data": {
      "text/plain": [
       "{'name': 'Sita', 'age': 25, 'add': 'Kathmandu'}"
      ]
     },
     "execution_count": 10,
     "metadata": {},
     "output_type": "execute_result"
    }
   ],
   "source": [
    "a[1]"
   ]
  },
  {
   "cell_type": "code",
   "execution_count": 11,
   "id": "6efdb662",
   "metadata": {},
   "outputs": [
    {
     "data": {
      "text/plain": [
       "'Sita'"
      ]
     },
     "execution_count": 11,
     "metadata": {},
     "output_type": "execute_result"
    }
   ],
   "source": [
    "a[1]['name']"
   ]
  },
  {
   "cell_type": "code",
   "execution_count": 12,
   "id": "f03b013e",
   "metadata": {},
   "outputs": [
    {
     "data": {
      "text/plain": [
       "{1: {'name': 'Sita', 'age': 25, 'add': 'Kathmandu'},\n",
       " 2: {'name': 'Gita', 'age': 23, 'add': 'Hetauda'},\n",
       " 3: {'name': 'Ram', 'age': 25, 'add': 'Lalitpur'}}"
      ]
     },
     "execution_count": 12,
     "metadata": {},
     "output_type": "execute_result"
    }
   ],
   "source": [
    "a[3] = {\"name\":\"Ram\",\"age\":25,\"add\":\"Lalitpur\"}\n",
    "a"
   ]
  },
  {
   "cell_type": "code",
   "execution_count": 13,
   "id": "88fbe8c2",
   "metadata": {},
   "outputs": [
    {
     "name": "stdout",
     "output_type": "stream",
     "text": [
      "Enter the value of n =2\n",
      "Enter name = Ram\n",
      "Enter age = 25\n",
      "Enter address = ktm\n",
      "Enter name = hari\n",
      "Enter age = 25\n",
      "Enter address = nepal\n",
      "{1: {'name': 'Ram', 'age': '25', 'add': 'ktm'}, 2: {'name': 'hari', 'age': '25', 'add': 'nepal'}}\n"
     ]
    }
   ],
   "source": [
    "data = {}\n",
    "n = int(input(\"Enter the value of n =\"))\n",
    "for i in range(1,n+1):\n",
    "    name = input(\"Enter name = \")\n",
    "    age = input(\"Enter age = \")\n",
    "    add = input(\"Enter address = \")\n",
    "    data[i] = {\"name\":name,\"age\":age,\"add\":add}\n",
    "print(data)\n",
    "    "
   ]
  },
  {
   "cell_type": "code",
   "execution_count": null,
   "id": "589c6c1e",
   "metadata": {},
   "outputs": [],
   "source": []
  }
 ],
 "metadata": {
  "kernelspec": {
   "display_name": "Python 3 (ipykernel)",
   "language": "python",
   "name": "python3"
  },
  "language_info": {
   "codemirror_mode": {
    "name": "ipython",
    "version": 3
   },
   "file_extension": ".py",
   "mimetype": "text/x-python",
   "name": "python",
   "nbconvert_exporter": "python",
   "pygments_lexer": "ipython3",
   "version": "3.9.7"
  }
 },
 "nbformat": 4,
 "nbformat_minor": 5
}
