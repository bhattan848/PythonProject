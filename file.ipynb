{
 "cells": [
  {
   "cell_type": "code",
   "execution_count": null,
   "id": "a2ebeb20",
   "metadata": {},
   "outputs": [],
   "source": [
    "# read ->r\n",
    "# write -> w\n",
    "# append-> a\n",
    "# create ->x"
   ]
  },
  {
   "cell_type": "code",
   "execution_count": 3,
   "id": "9856abcd",
   "metadata": {},
   "outputs": [
    {
     "name": "stdout",
     "output_type": "stream",
     "text": [
      "The file is already there\n"
     ]
    }
   ],
   "source": [
    "try:\n",
    "    b = open('data.txt','x')\n",
    "    b.close()\n",
    "except:\n",
    "    print(\"The file is already there\")"
   ]
  },
  {
   "cell_type": "code",
   "execution_count": 4,
   "id": "ac15bb69",
   "metadata": {},
   "outputs": [
    {
     "name": "stdout",
     "output_type": "stream",
     "text": [
      "1. Hello World!\n",
      "2. Hello World!\n",
      "3. Hello World!\n",
      "4. Hello World!\n",
      "5. Hello World!\n",
      "\n"
     ]
    }
   ],
   "source": [
    "with open('data.txt','r') as file:\n",
    "    print(file.read())\n"
   ]
  },
  {
   "cell_type": "code",
   "execution_count": 6,
   "id": "3435f9bb",
   "metadata": {},
   "outputs": [
    {
     "name": "stdout",
     "output_type": "stream",
     "text": [
      "1. Hello World!\n",
      "2. Hello World!\n",
      "3. Hello World!\n",
      "4. Hello World!\n",
      "5. Hello World!\n",
      "\n"
     ]
    }
   ],
   "source": [
    "file = open('data.txt','r')\n",
    "print(file.read())\n",
    "file.close()"
   ]
  },
  {
   "cell_type": "code",
   "execution_count": 7,
   "id": "59315588",
   "metadata": {},
   "outputs": [
    {
     "name": "stdout",
     "output_type": "stream",
     "text": [
      "1. Hello World!\n",
      "2. Hello World!\n",
      "3. Hello World!\n",
      "4. Hello World!\n",
      "5. Hello World!\n",
      "\n",
      "<class 'str'>\n"
     ]
    }
   ],
   "source": [
    "file = open('data.txt','r')\n",
    "x = file.read()\n",
    "print(x)\n",
    "print(type(x))\n",
    "file.close()"
   ]
  },
  {
   "cell_type": "code",
   "execution_count": 2,
   "id": "6902fd72",
   "metadata": {},
   "outputs": [
    {
     "name": "stdout",
     "output_type": "stream",
     "text": [
      "1. Hello World!\n",
      "\n",
      "<class 'str'>\n"
     ]
    }
   ],
   "source": [
    "# read()\n",
    "# readline()\n",
    "file = open('data.txt','r')\n",
    "x = file.readline()\n",
    "print(x)\n",
    "print(type(x))\n",
    "file.close()"
   ]
  },
  {
   "cell_type": "code",
   "execution_count": 4,
   "id": "be5f05a4",
   "metadata": {},
   "outputs": [
    {
     "name": "stdout",
     "output_type": "stream",
     "text": [
      "Enter n =5\n",
      "5. Hello World!\n",
      "\n"
     ]
    }
   ],
   "source": [
    "file = open('data.txt','r')\n",
    "n = int(input(\"Enter n =\"))\n",
    "for i in range(1,n+1):\n",
    "    if i==n:\n",
    "        print(file.readline())\n",
    "    else:\n",
    "        file.readline()\n",
    "file.close()"
   ]
  },
  {
   "cell_type": "code",
   "execution_count": 6,
   "id": "31468662",
   "metadata": {},
   "outputs": [],
   "source": [
    "# write and append\n",
    "with open('data.txt','a') as file:\n",
    "    file.write(\"\\n6.Hello World\")"
   ]
  },
  {
   "cell_type": "code",
   "execution_count": null,
   "id": "b6eef8ee",
   "metadata": {},
   "outputs": [],
   "source": [
    "# file in read mode can not write and append\n",
    "# file in create mode can not write and append\n",
    "# file in append mode or write mode can write"
   ]
  },
  {
   "cell_type": "code",
   "execution_count": 7,
   "id": "5f4484f3",
   "metadata": {},
   "outputs": [],
   "source": [
    "# a w x data1.txt creates new file when we use append write and creat \n",
    "with open('data1.txt','a') as file:\n",
    "    file.write(\"\\n6.Hello World\")"
   ]
  },
  {
   "cell_type": "code",
   "execution_count": 9,
   "id": "2daa578d",
   "metadata": {},
   "outputs": [
    {
     "name": "stdout",
     "output_type": "stream",
     "text": [
      "Enter n =2\n",
      "Enter product name momo\n",
      "Enter price 100\n",
      "Enter quantity8\n",
      "Enter product name sekuwa\n",
      "Enter price 1000\n",
      "Enter quantity5\n",
      "momo 100 8 800\n",
      "sekuwa 1000 5 5000\n",
      "\n"
     ]
    }
   ],
   "source": [
    "s = str()\n",
    "n = int(input(\"Enter n =\"))\n",
    "for i in range (n):\n",
    "    product = input(\"Enter product name \")\n",
    "    price = int(input(\"Enter price \"))\n",
    "    quantity = int(input(\"Enter quantity\"))\n",
    "    total = price * quantity\n",
    "    s = s + f\"{product} {price} {quantity} {total}\\n\"\n",
    "print(s)\n",
    "\n",
    "with open('bill.txt','w') as file:\n",
    "    file.write(s)"
   ]
  },
  {
   "cell_type": "code",
   "execution_count": 1,
   "id": "fc67b14c",
   "metadata": {},
   "outputs": [
    {
     "name": "stdout",
     "output_type": "stream",
     "text": [
      "Enter n = 2\n",
      "Enter product name = momo\n",
      "Enter price = 100\n",
      "Enter quantity = 8\n",
      "Enter product name = sekuwa\n",
      "Enter price = 1000\n",
      "Enter quantity = 5\n",
      "momo,100,8,800\n",
      "sekuwa,1000,5,5000\n",
      "\n"
     ]
    }
   ],
   "source": [
    "s = str()\n",
    "n = int(input(\"Enter n = \"))\n",
    "for i in range(n):\n",
    "    product = input(\"Enter product name = \")\n",
    "    price = int(input(\"Enter price = \"))\n",
    "    quantity = int(input(\"Enter quantity = \"))\n",
    "    total = price*quantity\n",
    "    s = s+f\"{product},{price},{quantity},{total}\\n\"\n",
    "    \n",
    "print(s)\n",
    "\n",
    "file = open('bill.txt','a')\n",
    "file.write('Name,Price,Quantity,Total\\n')\n",
    "file.write(s)\n",
    "file.close()"
   ]
  },
  {
   "cell_type": "code",
   "execution_count": 2,
   "id": "363e7b07",
   "metadata": {},
   "outputs": [
    {
     "name": "stdout",
     "output_type": "stream",
     "text": [
      "Enter n = 2\n",
      "Enter product name = momo\n",
      "Enter price = 100\n",
      "Enter quantity = 5\n",
      "Enter product name = sekuwa\n",
      "Enter price = 1000\n",
      "Enter quantity = 8\n",
      "momo,100,5,500\n",
      "sekuwa,1000,8,8000\n",
      "\n"
     ]
    }
   ],
   "source": [
    "s = str()\n",
    "n = int(input(\"Enter n = \"))\n",
    "for i in range(n):\n",
    "    product = input(\"Enter product name = \")\n",
    "    price = int(input(\"Enter price = \"))\n",
    "    quantity = int(input(\"Enter quantity = \"))\n",
    "    total = price*quantity\n",
    "    s = s+f\"{product},{price},{quantity},{total}\\n\"\n",
    "    \n",
    "print(s)\n",
    "\n",
    "file = open('bill.csv','a')\n",
    "file.write('Name,Price,Quantity,Total\\n')\n",
    "file.write(s)\n",
    "file.close()"
   ]
  },
  {
   "cell_type": "code",
   "execution_count": 4,
   "id": "78cac755",
   "metadata": {},
   "outputs": [
    {
     "name": "stdout",
     "output_type": "stream",
     "text": [
      "Enter n = 2\n",
      "Enter product name = Momo\n",
      "Enter price = 100\n",
      "Enter quantity = 5\n",
      "Enter product name = sekuwa\n",
      "Enter price = 1000\n",
      "Enter quantity = 8\n",
      "Momo,100,5,500\n",
      "sekuwa,1000,8,8000\n",
      "\n"
     ]
    }
   ],
   "source": [
    "s = str()\n",
    "n = int(input(\"Enter n = \"))\n",
    "for i in range(n):\n",
    "    product = input(\"Enter product name = \")\n",
    "    price = int(input(\"Enter price = \"))\n",
    "    quantity = int(input(\"Enter quantity = \"))\n",
    "    total = price*quantity\n",
    "    s = s+f\"{product},{price},{quantity},{total}\\n\"\n",
    "    \n",
    "print(s)\n",
    "\n",
    "file = open('bill.json','a')\n",
    "file.write('Name,Price,Quantity,Total\\n')\n",
    "file.write(s)\n",
    "file.close()"
   ]
  },
  {
   "cell_type": "code",
   "execution_count": null,
   "id": "e9caf2fa",
   "metadata": {},
   "outputs": [],
   "source": []
  }
 ],
 "metadata": {
  "kernelspec": {
   "display_name": "Python 3 (ipykernel)",
   "language": "python",
   "name": "python3"
  },
  "language_info": {
   "codemirror_mode": {
    "name": "ipython",
    "version": 3
   },
   "file_extension": ".py",
   "mimetype": "text/x-python",
   "name": "python",
   "nbconvert_exporter": "python",
   "pygments_lexer": "ipython3",
   "version": "3.9.7"
  }
 },
 "nbformat": 4,
 "nbformat_minor": 5
}
