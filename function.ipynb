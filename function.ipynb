{
 "cells": [
  {
   "cell_type": "code",
   "execution_count": 1,
   "id": "eedf850b",
   "metadata": {},
   "outputs": [],
   "source": [
    "#def <function_name>():\n",
    " #   <operations>\n",
    "    \n",
    "#<function_name>()\n",
    "\n",
    "# print() int() float() str() type()"
   ]
  },
  {
   "cell_type": "code",
   "execution_count": 2,
   "id": "8ae98e21",
   "metadata": {},
   "outputs": [
    {
     "name": "stdout",
     "output_type": "stream",
     "text": [
      "Hello World \n"
     ]
    }
   ],
   "source": [
    "def hello():\n",
    "    print(\"Hello World \")\n",
    "    \n",
    "hello()"
   ]
  },
  {
   "cell_type": "code",
   "execution_count": 3,
   "id": "6090f837",
   "metadata": {},
   "outputs": [
    {
     "name": "stdout",
     "output_type": "stream",
     "text": [
      "Enter l = 8\n",
      "Enter b = 9\n",
      "72\n"
     ]
    }
   ],
   "source": [
    "def cal():\n",
    "    l = int(input(\"Enter l = \"))  #local variables \n",
    "    b = int(input(\"Enter b = \"))  #local variables\n",
    "    a = l*b\n",
    "    print(a)\n",
    "    \n",
    "cal()"
   ]
  },
  {
   "cell_type": "code",
   "execution_count": 4,
   "id": "7015ff6a",
   "metadata": {},
   "outputs": [
    {
     "name": "stdout",
     "output_type": "stream",
     "text": [
      "Enter l = 9\n",
      "Enter b = 9\n",
      "81\n"
     ]
    }
   ],
   "source": [
    "l = int(input(\"Enter l = \"))  #global variables \n",
    "b = int(input(\"Enter b = \"))  #global variables\n",
    "def cal():\n",
    "   \n",
    "    a = l*b\n",
    "    print(a)\n",
    "    \n",
    "cal()"
   ]
  },
  {
   "cell_type": "code",
   "execution_count": 11,
   "id": "d766950a",
   "metadata": {},
   "outputs": [
    {
     "name": "stdout",
     "output_type": "stream",
     "text": [
      "42\n",
      "7 6\n"
     ]
    }
   ],
   "source": [
    "def cal():\n",
    "    global l,b\n",
    "#     l = int(input(\"Enter l = \"))  #global variables \n",
    "#     b = int(input(\"Enter b = \"))  #global variables\n",
    "    a = l*b\n",
    "    print(a)\n",
    "    \n",
    "cal()\n",
    "print(l,b)"
   ]
  },
  {
   "cell_type": "code",
   "execution_count": 1,
   "id": "096b29dd",
   "metadata": {},
   "outputs": [
    {
     "name": "stdout",
     "output_type": "stream",
     "text": [
      "2000\n"
     ]
    }
   ],
   "source": [
    "#Function with argument\n",
    "def area(l,b):\n",
    "    a = l *b\n",
    "    print(a)\n",
    "\n",
    "\n",
    "area(100,20)"
   ]
  },
  {
   "cell_type": "code",
   "execution_count": 2,
   "id": "c94a7022",
   "metadata": {},
   "outputs": [
    {
     "name": "stdout",
     "output_type": "stream",
     "text": [
      "Enter the value of l =5\n",
      "Enter the value of b =5\n",
      "25\n"
     ]
    }
   ],
   "source": [
    "#Function with argument\n",
    "def area(l,b):\n",
    "    a = l *b\n",
    "    print(a)\n",
    "\n",
    "l = int(input(\"Enter the value of l =\"))\n",
    "b = int(input(\"Enter the value of b =\"))\n",
    "\n",
    "area(l,b)"
   ]
  },
  {
   "cell_type": "code",
   "execution_count": 3,
   "id": "6facc93e",
   "metadata": {},
   "outputs": [
    {
     "name": "stdout",
     "output_type": "stream",
     "text": [
      "Enter the value of l =77\n",
      "Enter the value of b =11\n",
      "847\n"
     ]
    }
   ],
   "source": [
    "#Function with argument\n",
    "def area(x,y):\n",
    "    a = x * y\n",
    "    print(a)\n",
    "\n",
    "l = int(input(\"Enter the value of l =\"))\n",
    "b = int(input(\"Enter the value of b =\"))\n",
    "\n",
    "area(l,b)"
   ]
  },
  {
   "cell_type": "code",
   "execution_count": 6,
   "id": "585894dd",
   "metadata": {},
   "outputs": [
    {
     "name": "stdout",
     "output_type": "stream",
     "text": [
      "php\n",
      "C++\n",
      "Java\n",
      "Javascript\n",
      "Python\n"
     ]
    }
   ],
   "source": [
    "def language(lan= \"Python\"):\n",
    "    print(lan)\n",
    "language(\"php\")\n",
    "language(\"C++\")\n",
    "language(\"Java\")\n",
    "language(\"Javascript\")\n",
    "language()"
   ]
  },
  {
   "cell_type": "code",
   "execution_count": 9,
   "id": "44854b8e",
   "metadata": {},
   "outputs": [
    {
     "data": {
      "text/plain": [
       "'Hello World'"
      ]
     },
     "execution_count": 9,
     "metadata": {},
     "output_type": "execute_result"
    }
   ],
   "source": [
    "#Return type\n",
    "def hello():\n",
    "    x = \"Hello World\"\n",
    "    return x\n",
    "print(hello())"
   ]
  },
  {
   "cell_type": "code",
   "execution_count": 15,
   "id": "fc0f9bfb",
   "metadata": {},
   "outputs": [
    {
     "name": "stdout",
     "output_type": "stream",
     "text": [
      "Enter l = 10\n",
      "Enter b = 4\n",
      "The area = 40\n",
      "Enter h = 6\n",
      "The volume = 240\n"
     ]
    }
   ],
   "source": [
    "def cal():\n",
    "    l = int(input(\"Enter l = \"))\n",
    "    b = int(input(\"Enter b = \"))\n",
    "    a = l*b\n",
    "    return a\n",
    "\n",
    "area = cal()\n",
    "print(\"The area =\",area)\n",
    "h = int(input(\"Enter h = \"))\n",
    "v = area*h\n",
    "print(\"The volume =\" ,v)"
   ]
  },
  {
   "cell_type": "code",
   "execution_count": 3,
   "id": "940846aa",
   "metadata": {},
   "outputs": [
    {
     "name": "stdout",
     "output_type": "stream",
     "text": [
      "Enter l =8\n",
      "Entr b = 9\n",
      "72\n"
     ]
    }
   ],
   "source": [
    "#function with argument and return type\n",
    "def cal(l,b):\n",
    "    a = l*b\n",
    "    return a\n",
    "l = int(input(\"Enter l =\"))\n",
    "b = int(input(\"Entr b = \"))\n",
    "area = cal(l,b)\n",
    "print(area)"
   ]
  },
  {
   "cell_type": "code",
   "execution_count": 6,
   "id": "99d6800b",
   "metadata": {},
   "outputs": [
    {
     "name": "stdout",
     "output_type": "stream",
     "text": [
      "Enter l =8\n",
      "Entr b = 58\n",
      "Enter h = 55\n",
      "464\n",
      "The volume = 25520\n"
     ]
    }
   ],
   "source": [
    "def cal(l,b):\n",
    "    a = l*b\n",
    "    return a\n",
    "def volume(l,b,h):\n",
    "    v = cal(l,b)*h\n",
    "    return v\n",
    "\n",
    "l = int(input(\"Enter l =\"))\n",
    "b = int(input(\"Entr b = \"))\n",
    "h = int(input(\"Enter h = \"))\n",
    "area = cal(l,b)\n",
    "print(area)\n",
    "print(\"The volume =\",volume(l,b,h))"
   ]
  },
  {
   "cell_type": "code",
   "execution_count": 12,
   "id": "60ea6bbf",
   "metadata": {},
   "outputs": [
    {
     "name": "stdout",
     "output_type": "stream",
     "text": [
      "Enter l =45\n",
      "Entr b = 10\n",
      "Enter h = 25\n",
      "(450, 11250)\n",
      "The area= 450\n",
      "The volume =  11250\n"
     ]
    }
   ],
   "source": [
    "#function with argument and return type\n",
    "def cal(l,b,h):\n",
    "    a = l*b\n",
    "    v = a*h\n",
    "    return a,v\n",
    "\n",
    "l = int(input(\"Enter l =\"))\n",
    "b = int(input(\"Entr b = \"))\n",
    "h = int(input(\"Enter h = \"))\n",
    "x = cal(l,b,h)\n",
    "print(x)\n",
    "area,volume = x\n",
    "print(\"The area=\",area)\n",
    "print(\"The volume = \",volume)"
   ]
  },
  {
   "cell_type": "code",
   "execution_count": 3,
   "id": "28899ac3",
   "metadata": {},
   "outputs": [
    {
     "name": "stdout",
     "output_type": "stream",
     "text": [
      "Enter num =5\n",
      "The factorial of 5 is 120\n"
     ]
    }
   ],
   "source": [
    "#recursive function\n",
    "def factorial(x):\n",
    "    if x == 1:\n",
    "        return 1\n",
    "    else:\n",
    "        return (x * factorial(x-1))\n",
    "\n",
    "\n",
    "num = int(input(\"Enter num =\"))\n",
    "print(\"The factorial of\", num, \"is\", factorial(num))"
   ]
  },
  {
   "cell_type": "code",
   "execution_count": 4,
   "id": "277d1bd3",
   "metadata": {},
   "outputs": [
    {
     "name": "stdout",
     "output_type": "stream",
     "text": [
      "3.141592653589793\n"
     ]
    }
   ],
   "source": [
    "import math as m\n",
    "print(m.pi)"
   ]
  },
  {
   "cell_type": "code",
   "execution_count": 5,
   "id": "887f0a6b",
   "metadata": {},
   "outputs": [
    {
     "name": "stdout",
     "output_type": "stream",
     "text": [
      "2.718281828459045\n"
     ]
    }
   ],
   "source": [
    "import math as m\n",
    "print(m.e)"
   ]
  },
  {
   "cell_type": "code",
   "execution_count": 7,
   "id": "2adb9c9c",
   "metadata": {},
   "outputs": [
    {
     "data": {
      "text/plain": [
       "1.0"
      ]
     },
     "execution_count": 7,
     "metadata": {},
     "output_type": "execute_result"
    }
   ],
   "source": [
    "a = m.pi/2\n",
    "m.sin(a)"
   ]
  },
  {
   "cell_type": "code",
   "execution_count": 8,
   "id": "d301d28b",
   "metadata": {},
   "outputs": [
    {
     "data": {
      "text/plain": [
       "6.123233995736766e-17"
      ]
     },
     "execution_count": 8,
     "metadata": {},
     "output_type": "execute_result"
    }
   ],
   "source": [
    "a = m.pi/2\n",
    "m.cos(a)"
   ]
  },
  {
   "cell_type": "code",
   "execution_count": 9,
   "id": "35372f64",
   "metadata": {},
   "outputs": [
    {
     "data": {
      "text/plain": [
       "120"
      ]
     },
     "execution_count": 9,
     "metadata": {},
     "output_type": "execute_result"
    }
   ],
   "source": [
    "import math as m \n",
    "m.factorial(5)"
   ]
  },
  {
   "cell_type": "code",
   "execution_count": 10,
   "id": "bb8545aa",
   "metadata": {},
   "outputs": [
    {
     "data": {
      "text/plain": [
       "3.321928094887362"
      ]
     },
     "execution_count": 10,
     "metadata": {},
     "output_type": "execute_result"
    }
   ],
   "source": [
    "m.log2(10)"
   ]
  },
  {
   "cell_type": "code",
   "execution_count": 11,
   "id": "1e2eb376",
   "metadata": {},
   "outputs": [
    {
     "name": "stdout",
     "output_type": "stream",
     "text": [
      "Enter r =7\n",
      "153.93804002589985\n"
     ]
    }
   ],
   "source": [
    "r = int(input(\"Enter r =\"))\n",
    "a = m.pi*m.pow(r,2)\n",
    "print(a)"
   ]
  },
  {
   "cell_type": "code",
   "execution_count": 13,
   "id": "fbd255c0",
   "metadata": {},
   "outputs": [
    {
     "data": {
      "text/plain": [
       "1.0"
      ]
     },
     "execution_count": 13,
     "metadata": {},
     "output_type": "execute_result"
    }
   ],
   "source": [
    "a = m.pi/2\n",
    "m.pow(m.sin(a),2) + m.pow(m.cos(a),2)\n"
   ]
  },
  {
   "cell_type": "code",
   "execution_count": 15,
   "id": "85aa8ff7",
   "metadata": {},
   "outputs": [
    {
     "name": "stdout",
     "output_type": "stream",
     "text": [
      "Hello world\n"
     ]
    }
   ],
   "source": [
    "def hello():\n",
    "    print(\"Hello world\")\n",
    "    hello()\n",
    "    \n",
    "hello()"
   ]
  },
  {
   "cell_type": "code",
   "execution_count": 1,
   "id": "c75cb87c",
   "metadata": {},
   "outputs": [
    {
     "name": "stdout",
     "output_type": "stream",
     "text": [
      "Hello world\n",
      "Enter y for more calculations.y\n",
      "Hello world\n",
      "Enter y for more calculations.y\n",
      "Hello world\n",
      "Enter y for more calculations.h\n"
     ]
    }
   ],
   "source": [
    "def hello():\n",
    "    print(\"Hello world\")\n",
    "    x = input(\"Enter y for more calculations.\")\n",
    "    if x == 'y':\n",
    "        hello()\n",
    "    \n",
    "hello()"
   ]
  },
  {
   "cell_type": "code",
   "execution_count": 19,
   "id": "e94098fc",
   "metadata": {},
   "outputs": [
    {
     "name": "stdout",
     "output_type": "stream",
     "text": [
      "Enter p =74\n",
      "Enter t =88\n",
      "Enter r =2\n",
      "130.24\n",
      "Enter y for more calculations.y\n",
      "Enter p =4\n",
      "Enter t =8\n",
      "Enter r =99\n",
      "31.68\n",
      "Enter y for more calculations.c\n"
     ]
    }
   ],
   "source": [
    "def hello():\n",
    "    p = int(input(\"Enter p =\"))\n",
    "    t = int(input(\"Enter t =\"))\n",
    "    r = int(input(\"Enter r =\"))\n",
    "    i = p*t*r/100\n",
    "    print(i)\n",
    "    x = input(\"Enter y for more calculations.\")\n",
    "    if x == 'y':\n",
    "        hello()\n",
    "        \n",
    "hello()"
   ]
  },
  {
   "cell_type": "code",
   "execution_count": 1,
   "id": "a757ca0a",
   "metadata": {},
   "outputs": [
    {
     "name": "stdout",
     "output_type": "stream",
     "text": [
      "Enter num =9\n",
      "Entr y for more num.v\n",
      "9\n"
     ]
    }
   ],
   "source": [
    "s = 0\n",
    "def cal():\n",
    "    global s\n",
    "    num = int(input(\"Enter num =\"))\n",
    "    s = s+num\n",
    "    x = input(\"Entr y for more num.\")\n",
    "    if x =='y':\n",
    "        cal()\n",
    "        \n",
    "cal()\n",
    "print(s)"
   ]
  },
  {
   "cell_type": "code",
   "execution_count": 1,
   "id": "7d005f24",
   "metadata": {},
   "outputs": [
    {
     "name": "stdout",
     "output_type": "stream",
     "text": [
      "Enter the value of a = 9\n",
      "Enter the value of b = 8\n",
      "Enter + - * / *\n",
      "72\n"
     ]
    }
   ],
   "source": [
    "def add(a,b):\n",
    "    return a+b\n",
    "def sub(a,b):\n",
    "    return a-b\n",
    "def mul(a,b):\n",
    "    return a*b\n",
    "def div(a,b):\n",
    "    return a/b\n",
    "\n",
    "def cal():\n",
    "    a = int(input(\"Enter the value of a = \"))\n",
    "    b = int(input(\"Enter the value of b = \"))\n",
    "    o = input(\"Enter + - * / \")\n",
    "    if o == \"+\":\n",
    "        print(add(a,b))\n",
    "    elif o == \"-\":\n",
    "        print(sub(a,b))\n",
    "    elif o == \"*\":\n",
    "        print(mul(a,b))\n",
    "    elif o == \"/\" and b!=0:\n",
    "        print(div(a,b))\n",
    "    elif o == \"/\" and b == 0:\n",
    "        print(\"The value of b cannot be zero\")\n",
    "    else:\n",
    "        print(\"Invalid Operator\")\n",
    "cal()"
   ]
  },
  {
   "cell_type": "code",
   "execution_count": 5,
   "id": "1ef4540a",
   "metadata": {},
   "outputs": [
    {
     "name": "stdout",
     "output_type": "stream",
     "text": [
      "Enter num =5\n",
      "The factorial of 5 is 120\n"
     ]
    }
   ],
   "source": [
    "def factorial(x):\n",
    "    if x == 1:\n",
    "        return 1\n",
    "    else:\n",
    "        return (x * factorial(x-1))\n",
    "\n",
    "\n",
    "num = int(input(\"Enter num =\"))\n",
    "print(\"The factorial of\", num, \"is\", factorial(num))"
   ]
  },
  {
   "cell_type": "code",
   "execution_count": 4,
   "id": "47446483",
   "metadata": {},
   "outputs": [
    {
     "name": "stdout",
     "output_type": "stream",
     "text": [
      "Enter n = 5\n",
      "The factorial =  120\n"
     ]
    }
   ],
   "source": [
    "fac = 1\n",
    "i = 1\n",
    "n = int(input(\"Enter n = \"))\n",
    "def fact(n):\n",
    "    global i , fac\n",
    "    while i<=n:\n",
    "        fac = fac*i\n",
    "        i = i+1\n",
    "    return fac\n",
    "print(\"The factorial = \",fact(n))"
   ]
  },
  {
   "cell_type": "code",
   "execution_count": 1,
   "id": "2c7ee1fd",
   "metadata": {},
   "outputs": [
    {
     "name": "stdout",
     "output_type": "stream",
     "text": [
      "Enter the value of n = 9\n",
      "9 is composite nimber \n"
     ]
    }
   ],
   "source": [
    "i =2\n",
    "n = int(input(\"Enter the value of n = \"))\n",
    "def cal(n):\n",
    "    global i \n",
    "    while i<n:\n",
    "        if n%i==0:\n",
    "            print(n,\"is composite nimber \")\n",
    "            break\n",
    "        i = i +1\n",
    "    else:\n",
    "        print(n,\"is prime number \")\n",
    "        \n",
    "cal(n)"
   ]
  },
  {
   "cell_type": "code",
   "execution_count": null,
   "id": "cf6b4e19",
   "metadata": {},
   "outputs": [],
   "source": []
  }
 ],
 "metadata": {
  "kernelspec": {
   "display_name": "Python 3 (ipykernel)",
   "language": "python",
   "name": "python3"
  },
  "language_info": {
   "codemirror_mode": {
    "name": "ipython",
    "version": 3
   },
   "file_extension": ".py",
   "mimetype": "text/x-python",
   "name": "python",
   "nbconvert_exporter": "python",
   "pygments_lexer": "ipython3",
   "version": "3.9.7"
  }
 },
 "nbformat": 4,
 "nbformat_minor": 5
}
