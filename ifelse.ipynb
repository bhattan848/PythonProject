{
 "cells": [
  {
   "cell_type": "code",
   "execution_count": 1,
   "id": "a50ad724",
   "metadata": {},
   "outputs": [],
   "source": [
    "#if <conditions>:\n",
    "  #  <operation>\n",
    "  #  elif:\n",
    "    #    <conditions>\n",
    "  #  else: \n",
    "    #    <operations>\n",
    "        "
   ]
  },
  {
   "cell_type": "code",
   "execution_count": 12,
   "id": "14789da2",
   "metadata": {},
   "outputs": [
    {
     "name": "stdout",
     "output_type": "stream",
     "text": [
      "x is equal to y\n"
     ]
    }
   ],
   "source": [
    "x = 8 \n",
    "y = 8\n",
    "if x < y:\n",
    "    print(\"x is less than y\")\n",
    "elif x == y:\n",
    "    print(\"x is equal to y\")\n",
    "else: \n",
    "        print(\"x is greater than y\")\n",
    "            "
   ]
  },
  {
   "cell_type": "code",
   "execution_count": 13,
   "id": "b63d882f",
   "metadata": {},
   "outputs": [
    {
     "name": "stdout",
     "output_type": "stream",
     "text": [
      "Enter a = 10\n",
      "10 is even no\n"
     ]
    }
   ],
   "source": [
    "a = int(input(\"Enter a = \"))\n",
    "if a%2== 0:\n",
    "    print(a, \"is even no\")\n",
    "else:\n",
    "    print(a, \"is odd no\")"
   ]
  },
  {
   "cell_type": "code",
   "execution_count": 1,
   "id": "8ea14126",
   "metadata": {},
   "outputs": [
    {
     "name": "stdout",
     "output_type": "stream",
     "text": [
      "Enter the value of a = 50\n",
      "Enter the value of b = 5\n",
      "Enter + - * / /\n",
      "10.0\n"
     ]
    }
   ],
   "source": [
    "a = int(input(\"Enter the value of a = \"))\n",
    "b = int(input(\"Enter the value of b = \"))\n",
    "o = input(\"Enter + - * / \")\n",
    "if o == \"+\":\n",
    "    print(a+b)\n",
    "elif o == \"-\":\n",
    "    print(a-b)\n",
    "elif o == \"*\":\n",
    "    print(a*b)\n",
    "elif o == \"/\" and b!=0:\n",
    "    print(a/b)\n",
    "elif o == \"/\" and b == 0:\n",
    "    print(\"The value of b cannot be zero\")\n",
    "else:\n",
    "    print(\"Invalid Operator\")"
   ]
  },
  {
   "cell_type": "code",
   "execution_count": 3,
   "id": "43bd0ec0",
   "metadata": {},
   "outputs": [
    {
     "name": "stdout",
     "output_type": "stream",
     "text": [
      "Enter per 75\n",
      "No grade A\n"
     ]
    }
   ],
   "source": [
    "per = float(input(\"Enter per \"))\n",
    "if (per>80) | (per == 80):\n",
    "    print(\"A grade\")\n",
    "else:\n",
    "    print(\"No grade A\")"
   ]
  },
  {
   "cell_type": "code",
   "execution_count": 5,
   "id": "474cf0d1",
   "metadata": {},
   "outputs": [
    {
     "data": {
      "text/plain": [
       "False"
      ]
     },
     "execution_count": 5,
     "metadata": {},
     "output_type": "execute_result"
    }
   ],
   "source": [
    "a = True \n",
    "b = True\n",
    "c = False\n",
    "a|b|c\n",
    "(a|b)&c"
   ]
  },
  {
   "cell_type": "code",
   "execution_count": null,
   "id": "3ac8feba",
   "metadata": {},
   "outputs": [],
   "source": [
    "#if <condition>:\n",
    " # if <condition>:\n",
    "   # <operation>\n",
    " # else:\n",
    "  #  <operation>"
   ]
  },
  {
   "cell_type": "code",
   "execution_count": 7,
   "id": "e8f2b734",
   "metadata": {},
   "outputs": [
    {
     "name": "stdout",
     "output_type": "stream",
     "text": [
      "This is else section\n"
     ]
    }
   ],
   "source": [
    "if True:\n",
    "    if False:\n",
    "        print(\"This is if section\")\n",
    "    else:\n",
    "        print(\"This is else section\")"
   ]
  },
  {
   "cell_type": "code",
   "execution_count": 10,
   "id": "94ad6f7e",
   "metadata": {},
   "outputs": [
    {
     "name": "stdout",
     "output_type": "stream",
     "text": [
      "Enter the value of a = 12\n",
      "Enter the value of b = 2\n",
      "Enter + - * / /\n",
      "6.0\n"
     ]
    }
   ],
   "source": [
    "a = int(input(\"Enter the value of a = \"))\n",
    "b = int(input(\"Enter the value of b = \"))\n",
    "o = input(\"Enter + - * / \")\n",
    "if o == \"+\":\n",
    "    print(a+b)\n",
    "elif o == \"-\":\n",
    "    print(a-b)\n",
    "elif o == \"*\":\n",
    "    print(a*b)\n",
    "elif o == \"/\":\n",
    "    if b!=0:\n",
    "         print(a/b)\n",
    "    else:\n",
    "        print(\"The value of b cannot be zero\")\n",
    "else:\n",
    "    print(\"Invalid Operator\")"
   ]
  },
  {
   "cell_type": "code",
   "execution_count": 14,
   "id": "76ac6453",
   "metadata": {},
   "outputs": [
    {
     "name": "stdout",
     "output_type": "stream",
     "text": [
      "Enter grade 50\n",
      "C Grade \n"
     ]
    }
   ],
   "source": [
    "# write a program to classify grade\n",
    "grade = float(input(\"Enter grade \"))\n",
    "if grade>=90:\n",
    "    print(\"A+ Grade \")\n",
    "elif (grade<90) & (grade>=80):\n",
    "    print(\"A Grade \")\n",
    "elif (grade<80) & (grade>=60):\n",
    "    print(\"B Grade \")\n",
    "elif (grade<60) & (grade>=50):\n",
    "    print(\"C Grade \")\n",
    "elif (grade<50) & (grade>=40):\n",
    "    print(\"D Grade \")\n",
    "else:\n",
    "    print(\"Fail\")\n",
    "\n",
    "    "
   ]
  },
  {
   "cell_type": "code",
   "execution_count": 4,
   "id": "8e006a7b",
   "metadata": {},
   "outputs": [
    {
     "name": "stdout",
     "output_type": "stream",
     "text": [
      "1\n",
      "2\n",
      "3\n",
      "4\n",
      "5\n"
     ]
    }
   ],
   "source": [
    "i = 1\n",
    "while i < 6:\n",
    "    print(i)\n",
    "    i += 1\n"
   ]
  },
  {
   "cell_type": "code",
   "execution_count": 6,
   "id": "a04cbe81",
   "metadata": {},
   "outputs": [
    {
     "name": "stdout",
     "output_type": "stream",
     "text": [
      "1\n",
      "2\n",
      "3\n"
     ]
    }
   ],
   "source": [
    "i = 1\n",
    "while i < 6:\n",
    "    print(i)\n",
    "    if i == 3:\n",
    "        break\n",
    "    i += 1"
   ]
  },
  {
   "cell_type": "code",
   "execution_count": 19,
   "id": "fefd3aa3",
   "metadata": {},
   "outputs": [
    {
     "name": "stdout",
     "output_type": "stream",
     "text": [
      "1\n",
      "2\n",
      "4\n",
      "5\n",
      "6\n"
     ]
    }
   ],
   "source": [
    "i = 0\n",
    "while i < 6:\n",
    "    i += 1\n",
    "    if i == 3:\n",
    "        continue\n",
    "    print(i)\n"
   ]
  },
  {
   "cell_type": "code",
   "execution_count": 20,
   "id": "3f550be5",
   "metadata": {},
   "outputs": [
    {
     "name": "stdout",
     "output_type": "stream",
     "text": [
      "1\n",
      "2\n",
      "3\n",
      "4\n",
      "5\n",
      "i is no longer less than 6\n"
     ]
    }
   ],
   "source": [
    "i = 1\n",
    "while i < 6:\n",
    "    print(i)\n",
    "    i += 1\n",
    "else:\n",
    "    print(\"i is no longer less than 6\")"
   ]
  },
  {
   "cell_type": "code",
   "execution_count": null,
   "id": "7f28d070",
   "metadata": {},
   "outputs": [],
   "source": []
  }
 ],
 "metadata": {
  "kernelspec": {
   "display_name": "Python 3 (ipykernel)",
   "language": "python",
   "name": "python3"
  },
  "language_info": {
   "codemirror_mode": {
    "name": "ipython",
    "version": 3
   },
   "file_extension": ".py",
   "mimetype": "text/x-python",
   "name": "python",
   "nbconvert_exporter": "python",
   "pygments_lexer": "ipython3",
   "version": "3.9.7"
  }
 },
 "nbformat": 4,
 "nbformat_minor": 5
}
