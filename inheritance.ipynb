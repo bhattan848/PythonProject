{
 "cells": [
  {
   "cell_type": "code",
   "execution_count": 1,
   "id": "07ca7a70",
   "metadata": {},
   "outputs": [],
   "source": [
    "class A:\n",
    "    pass\n",
    "class B(A):\n",
    "    pass\n",
    "\n",
    "obj = B()"
   ]
  },
  {
   "cell_type": "code",
   "execution_count": 5,
   "id": "d3aefb5f",
   "metadata": {},
   "outputs": [
    {
     "name": "stdout",
     "output_type": "stream",
     "text": [
      "Enter name = Hari\n",
      "Enter age = 22\n",
      "Hello world I am Hari. I am 22 years old\n"
     ]
    }
   ],
   "source": [
    "class A:\n",
    "    def __init__(self):\n",
    "        self.name = input(\"Enter name = \")\n",
    "        self.age = int(input(\"Enter age = \"))\n",
    "        \n",
    "        \n",
    "class B(A):\n",
    "    def info(self):\n",
    "        print(f\"Hello world I am {self.name}. I am {self.age} years old\")\n",
    "        \n",
    "obj = B()\n",
    "obj.info()"
   ]
  },
  {
   "cell_type": "code",
   "execution_count": 6,
   "id": "84f725ba",
   "metadata": {},
   "outputs": [
    {
     "name": "stdout",
     "output_type": "stream",
     "text": [
      "Hello world I am Ram. I am 45 years old\n"
     ]
    }
   ],
   "source": [
    "class A:\n",
    "    def __init__(self,name,age):\n",
    "        self.name = name\n",
    "        self.age = age        \n",
    "        \n",
    "class B(A):\n",
    "    def info(self):\n",
    "        print(f\"Hello world I am {self.name}. I am {self.age} years old\")\n",
    "        \n",
    "obj = B('Ram',45)\n",
    "obj.info()"
   ]
  },
  {
   "cell_type": "code",
   "execution_count": 4,
   "id": "e4d9a64f",
   "metadata": {},
   "outputs": [
    {
     "name": "stdout",
     "output_type": "stream",
     "text": [
      "Hello world I am Ram. I am 45 years old\n"
     ]
    }
   ],
   "source": [
    "class A:\n",
    "    def __init__(self,age):\n",
    "        #self.name = name\n",
    "        self.age = age        \n",
    "        \n",
    "class B(A):\n",
    "    def __init__(self,name,age):\n",
    "        self.name = name\n",
    "        A.__init__(self,age)\n",
    "    def info(self):\n",
    "        print(f\"Hello world I am {self.name}. I am {self.age} years old\")\n",
    "        \n",
    "obj = B('Ram',45)\n",
    "obj.info()"
   ]
  },
  {
   "cell_type": "code",
   "execution_count": 14,
   "id": "e411f7dd",
   "metadata": {},
   "outputs": [
    {
     "name": "stdout",
     "output_type": "stream",
     "text": [
      "This is class A\n",
      "This is class B\n",
      "This is class C\n"
     ]
    }
   ],
   "source": [
    "class A:\n",
    "    print(\"This is class A\")\n",
    "\n",
    "class B(A):\n",
    "    print(\"This is class B\")\n",
    "\n",
    "class C(B):\n",
    "    print(\"This is class C\")\n",
    "\n",
    "obj = C()"
   ]
  },
  {
   "cell_type": "code",
   "execution_count": 5,
   "id": "4732a059",
   "metadata": {},
   "outputs": [
    {
     "name": "stdout",
     "output_type": "stream",
     "text": [
      "Hello I am Ram. I am from Kathmandu. I am 34 years old\n"
     ]
    }
   ],
   "source": [
    "class Age:\n",
    "    def __init__(self,age):\n",
    "        self.age = age\n",
    "        \n",
    "class Add(Age):\n",
    "    def __init__(self,age,add):\n",
    "        self.add = add\n",
    "        Age.__init__(self,age)\n",
    "        \n",
    "class Info(Add):\n",
    "    def __init__(self,name,age,add):\n",
    "        self.name = name\n",
    "        Add.__init__(self,age,add)\n",
    "        \n",
    "    def info(self):\n",
    "        print(f\"Hello I am {self.name}. I am from {self.add}. I am {self.age} years old\")\n",
    "        \n",
    "obj = Info(\"Ram\",34,\"Kathmandu\")\n",
    "obj.info()"
   ]
  },
  {
   "cell_type": "code",
   "execution_count": 5,
   "id": "8b765f68",
   "metadata": {},
   "outputs": [],
   "source": [
    "class A:\n",
    "    pass\n",
    "class B:\n",
    "    pass\n",
    "class C(A,B):\n",
    "    pass\n",
    "obj = C()"
   ]
  },
  {
   "cell_type": "code",
   "execution_count": 7,
   "id": "02bbbec0",
   "metadata": {},
   "outputs": [
    {
     "name": "stdout",
     "output_type": "stream",
     "text": [
      "Hello I am Ram. I am from Kathmandu. I am 34 years old\n"
     ]
    }
   ],
   "source": [
    "class Age:\n",
    "    def __init__(self,age):\n",
    "        self.age = age\n",
    "        \n",
    "class Add:\n",
    "    def __init__(self,add):\n",
    "        self.add = add\n",
    "        \n",
    "class Info(Age,Add):\n",
    "    def __init__(self,name,age,add):\n",
    "        self.name = name\n",
    "        Add.__init__(self,add)\n",
    "        Age.__init__(self,age)\n",
    "        \n",
    "    def info(self):\n",
    "        print(f\"Hello I am {self.name}. I am from {self.add}. I am {self.age} years old\")\n",
    "        \n",
    "obj = Info(\"Ram\",34,\"Kathmandu\")\n",
    "obj.info()"
   ]
  },
  {
   "cell_type": "code",
   "execution_count": 9,
   "id": "c6f1c354",
   "metadata": {},
   "outputs": [
    {
     "name": "stdout",
     "output_type": "stream",
     "text": [
      "Enter name Hari\n",
      "Enter age 24\n",
      "Enter address Kathmandu\n",
      "Hello I am Hari. I am 24 years old. I am from Kathmandu.\n"
     ]
    }
   ],
   "source": [
    "class Age:\n",
    "    def __init__(self):\n",
    "        self.age = int(input(\"Enter age \"))\n",
    "        \n",
    "class Add:\n",
    "    def __init__(self):\n",
    "        self.add = input(\"Enter address \")\n",
    "        \n",
    "class Info(Age,Add):\n",
    "    def __init__(self):\n",
    "        self.name = input(\"Enter name \")\n",
    "        Age.__init__(self)\n",
    "        Add.__init__(self)\n",
    "        \n",
    "    def info(self):\n",
    "        print(f\"Hello I am {self.name}. I am {self.age} years old. I am from {self.add}.\")\n",
    "        \n",
    "obj = Info()\n",
    "obj.info()"
   ]
  },
  {
   "cell_type": "code",
   "execution_count": 10,
   "id": "dbf91ee4",
   "metadata": {},
   "outputs": [
    {
     "name": "stdout",
     "output_type": "stream",
     "text": [
      "Ram\n",
      "2\n"
     ]
    }
   ],
   "source": [
    "class Person:  \n",
    "    #defining constructor  \n",
    "    def __init__(self, personName, personAge):  \n",
    "        self.name = personName  \n",
    "        self.age = personAge  \n",
    "  \n",
    "    #defining class methods  \n",
    "    def showName(self):  \n",
    "        print(self.name)  \n",
    "  \n",
    "    def showAge(self):  \n",
    "        print(self.age)  \n",
    "    \n",
    "\n",
    "class Student: # Person is the  \n",
    "    def __init__(self, studentId):  \n",
    "        self.studentId = studentId  \n",
    "  \n",
    "    def getId(self):  \n",
    "        return self.studentId  \n",
    "  \n",
    "  \n",
    "class Resident(Person, Student): # extends both Person and Student class  \n",
    "    def __init__(self, name, age, id):  \n",
    "        Person.__init__(self, name, age)  \n",
    "        Student.__init__(self, id)  \n",
    "  \n",
    "  \n",
    "# Create an object of the subclass  \n",
    "resident1 = Resident('Ram', 25, '2')  \n",
    "resident1.showName()  \n",
    "print(resident1.getId()) "
   ]
  },
  {
   "cell_type": "code",
   "execution_count": 11,
   "id": "abe5f112",
   "metadata": {},
   "outputs": [
    {
     "name": "stdout",
     "output_type": "stream",
     "text": [
      "Ram\n",
      "22\n"
     ]
    }
   ],
   "source": [
    "#public\n",
    "class Info:\n",
    "    def __init__(self,name,age):\n",
    "        self.name = name\n",
    "        self.age = age\n",
    "        \n",
    "        \n",
    "obj = Info(\"Ram\",22)\n",
    "print(obj.name)\n",
    "print(obj.age)"
   ]
  },
  {
   "cell_type": "code",
   "execution_count": 13,
   "id": "125c22ce",
   "metadata": {},
   "outputs": [
    {
     "name": "stdout",
     "output_type": "stream",
     "text": [
      "Ram\n",
      "22\n"
     ]
    }
   ],
   "source": [
    "#protected\n",
    "class Info:\n",
    "    def __init__(self,name,age):\n",
    "        self._name = name\n",
    "        self._age = age\n",
    "        \n",
    "        \n",
    "obj = Info(\"Ram\",22)\n",
    "print(obj._name)\n",
    "print(obj._age)"
   ]
  },
  {
   "cell_type": "code",
   "execution_count": 6,
   "id": "6c7c7cb4",
   "metadata": {},
   "outputs": [
    {
     "name": "stdout",
     "output_type": "stream",
     "text": [
      "Ram\n",
      "22\n"
     ]
    }
   ],
   "source": [
    "#private\n",
    "class Info:\n",
    "    def __init__(self,name,age):\n",
    "        self.__name = name\n",
    "        self.__age = age\n",
    "        \n",
    "        \n",
    "obj = Info(\"Ram\",22)\n",
    "print(obj._Info__name)\n",
    "print(obj._Info__age)"
   ]
  },
  {
   "cell_type": "code",
   "execution_count": 16,
   "id": "71678e37",
   "metadata": {},
   "outputs": [
    {
     "name": "stdout",
     "output_type": "stream",
     "text": [
      "Ram\n",
      "22\n"
     ]
    }
   ],
   "source": [
    "class Info:\n",
    "    def __init__(self,name,age):\n",
    "        self.__name = name\n",
    "        self.__age = age\n",
    "        \n",
    "obj = Info(\"Ram\",22)\n",
    "print(obj._Info__name)  \n",
    "print(obj._Info__age)"
   ]
  },
  {
   "cell_type": "code",
   "execution_count": 5,
   "id": "bda3dd3b",
   "metadata": {},
   "outputs": [
    {
     "ename": "AttributeError",
     "evalue": "'Office' object has no attribute '_Employee__sal'",
     "output_type": "error",
     "traceback": [
      "\u001b[1;31m---------------------------------------------------------------------------\u001b[0m",
      "\u001b[1;31mAttributeError\u001b[0m                            Traceback (most recent call last)",
      "\u001b[1;32m~\\AppData\\Local\\Temp/ipykernel_13896/3222618816.py\u001b[0m in \u001b[0;36m<module>\u001b[1;34m\u001b[0m\n\u001b[0;32m      9\u001b[0m         \u001b[0mself\u001b[0m\u001b[1;33m.\u001b[0m\u001b[0m__sal\u001b[0m \u001b[1;33m=\u001b[0m \u001b[0msal\u001b[0m      \u001b[1;31m# private attribute\u001b[0m\u001b[1;33m\u001b[0m\u001b[1;33m\u001b[0m\u001b[0m\n\u001b[0;32m     10\u001b[0m \u001b[0memp\u001b[0m \u001b[1;33m=\u001b[0m \u001b[0mOffice\u001b[0m\u001b[1;33m(\u001b[0m\u001b[1;34m\"Bill\"\u001b[0m\u001b[1;33m,\u001b[0m \u001b[1;36m10000\u001b[0m\u001b[1;33m)\u001b[0m\u001b[1;33m\u001b[0m\u001b[1;33m\u001b[0m\u001b[0m\n\u001b[1;32m---> 11\u001b[1;33m \u001b[0memp\u001b[0m\u001b[1;33m.\u001b[0m\u001b[0m_Employee__sal\u001b[0m\u001b[1;33m\u001b[0m\u001b[1;33m\u001b[0m\u001b[0m\n\u001b[0m",
      "\u001b[1;31mAttributeError\u001b[0m: 'Office' object has no attribute '_Employee__sal'"
     ]
    }
   ],
   "source": [
    "class Employee:\n",
    "    def __init__(self, name, sal):\n",
    "        self.__name=name  # private attribute \n",
    "        self.__salary=sal # private attribute\n",
    "\n",
    "class Office(Employee):\n",
    "    def __init__(self, name, sal):\n",
    "        self.__name = name    # private attribute \n",
    "        self.__sal = sal      # private attribute\n",
    "emp = Office(\"Bill\", 10000)\n",
    "emp.__sal\n"
   ]
  },
  {
   "cell_type": "code",
   "execution_count": 1,
   "id": "eb053d16",
   "metadata": {},
   "outputs": [
    {
     "name": "stdout",
     "output_type": "stream",
     "text": [
      "Enter name Hari\n",
      "Enter age 22\n",
      "Enter address ktm\n",
      "Hello I am Hari. I am 22 years old. I am from ktm.\n"
     ]
    }
   ],
   "source": [
    "class Age:\n",
    "    def __init__(self):\n",
    "        self._age = int(input(\"Enter age \"))\n",
    "        \n",
    "class Add:\n",
    "    def __init__(self):\n",
    "        self._add = input(\"Enter address \")\n",
    "        \n",
    "class Info(Age,Add):\n",
    "    def __init__(self):\n",
    "        self.__name = input(\"Enter name \")\n",
    "        Age.__init__(self)\n",
    "        Add.__init__(self)\n",
    "        \n",
    "    def info(self):\n",
    "        print(f\"Hello I am {self.__name}. I am {self._age} years old. I am from {self._add}.\")\n",
    "        \n",
    "obj = Info()\n",
    "obj.info()"
   ]
  },
  {
   "cell_type": "code",
   "execution_count": 4,
   "id": "1cdf4f7b",
   "metadata": {},
   "outputs": [
    {
     "name": "stdout",
     "output_type": "stream",
     "text": [
      "Hello I am Ram. I am from Kathmandu. I am 34\n"
     ]
    }
   ],
   "source": [
    "class Age:\n",
    "    def __init__(self,age):\n",
    "        self.__age = age\n",
    "        \n",
    "    def age(self):\n",
    "        return self.__age\n",
    "        \n",
    "class Add(Age):\n",
    "    def __init__(self,age,add):\n",
    "        self._add = add\n",
    "        Age.__init__(self,age)\n",
    "        \n",
    "class Info(Add):\n",
    "    def __init__(self,name,age,add):\n",
    "        self.name = name\n",
    "        Add.__init__(self,age,add)\n",
    "        \n",
    "    def info(self):\n",
    "        print(f\"Hello I am {self.name}. I am from {self._add}. I am {super().age()}\")\n",
    "        \n",
    "obj = Info(\"Ram\",34,\"Kathmandu\")\n",
    "obj.info()"
   ]
  },
  {
   "cell_type": "code",
   "execution_count": null,
   "id": "c0c0b685",
   "metadata": {},
   "outputs": [],
   "source": []
  },
  {
   "cell_type": "code",
   "execution_count": 14,
   "id": "6eccc8a6",
   "metadata": {},
   "outputs": [
    {
     "name": "stdout",
     "output_type": "stream",
     "text": [
      "This is init method 1000\n",
      "This is init method 2000\n",
      "This is init method 2500\n",
      "This is add method 3000\n",
      "This is init method 3000\n",
      "This is add method 5500\n",
      "This is init method 5500\n",
      "This is str method  5500\n",
      "5500\n"
     ]
    }
   ],
   "source": [
    "class Point:\n",
    "    def __init__(self,x=0):\n",
    "        self.x = x\n",
    "        print(\"This is init method\",self.x)\n",
    "            \n",
    "    def __str__(self):\n",
    "        print(\"This is str method \",self.x)\n",
    "        return f\"{self.x}\"\n",
    "    def __add__(self,other):\n",
    "        x = self.x + other.x\n",
    "        print(\"This is add method\",x)\n",
    "        return Point(x)\n",
    "    \n",
    "p1 = Point(1000)\n",
    "p2 = Point(2000)\n",
    "p3 = Point(2500)\n",
    "print(p1 + p2 + p3)\n",
    "        "
   ]
  },
  {
   "cell_type": "code",
   "execution_count": 15,
   "id": "497fd0a2",
   "metadata": {},
   "outputs": [
    {
     "name": "stdout",
     "output_type": "stream",
     "text": [
      "Hello World!\n"
     ]
    }
   ],
   "source": [
    "def outer_function():\n",
    "    value = \"Hello World!\"\n",
    "    def inner_function():\n",
    "        print(value)\n",
    "    return inner_function()\n",
    "\n",
    "outer_function()"
   ]
  },
  {
   "cell_type": "code",
   "execution_count": 16,
   "id": "15723a98",
   "metadata": {},
   "outputs": [
    {
     "name": "stdout",
     "output_type": "stream",
     "text": [
      "Hello World!\n"
     ]
    }
   ],
   "source": [
    "value = \"Hello World!\"\n",
    "def outer_function(x):\n",
    "   \n",
    "    def inner_function():\n",
    "        print(x)\n",
    "    return inner_function()\n",
    "\n",
    "outer_function(value)"
   ]
  },
  {
   "cell_type": "code",
   "execution_count": 17,
   "id": "e707bcfb",
   "metadata": {},
   "outputs": [
    {
     "name": "stdout",
     "output_type": "stream",
     "text": [
      "Hello World!\n"
     ]
    }
   ],
   "source": [
    "def outer_function(fun):\n",
    "   \n",
    "    def inner_function():\n",
    "        x = fun()\n",
    "    return inner_function()\n",
    "@outer_function\n",
    "def hello():\n",
    "    \n",
    "    print(\"Hello World!\")\n"
   ]
  },
  {
   "cell_type": "code",
   "execution_count": 19,
   "id": "647e0bb0",
   "metadata": {},
   "outputs": [
    {
     "name": "stdout",
     "output_type": "stream",
     "text": [
      "Hello World!\n"
     ]
    }
   ],
   "source": [
    "def outer_function(fun):\n",
    "   \n",
    "    def inner_function():\n",
    "        x = fun()\n",
    "        return x\n",
    "    return inner_function\n",
    "@outer_function\n",
    "def hello():\n",
    "    \n",
    "    return \"Hello World!\"\n",
    "print(hello())\n"
   ]
  },
  {
   "cell_type": "code",
   "execution_count": null,
   "id": "100af04e",
   "metadata": {},
   "outputs": [],
   "source": []
  }
 ],
 "metadata": {
  "kernelspec": {
   "display_name": "Python 3 (ipykernel)",
   "language": "python",
   "name": "python3"
  },
  "language_info": {
   "codemirror_mode": {
    "name": "ipython",
    "version": 3
   },
   "file_extension": ".py",
   "mimetype": "text/x-python",
   "name": "python",
   "nbconvert_exporter": "python",
   "pygments_lexer": "ipython3",
   "version": "3.9.7"
  }
 },
 "nbformat": 4,
 "nbformat_minor": 5
}
