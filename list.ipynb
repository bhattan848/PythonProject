{
 "cells": [
  {
   "cell_type": "code",
   "execution_count": null,
   "id": "e9c5e094",
   "metadata": {},
   "outputs": [],
   "source": [
    "#python collections\n",
    "#List\n",
    "#Tuple\n",
    "#Dictionary\n",
    "#Set"
   ]
  },
  {
   "cell_type": "code",
   "execution_count": null,
   "id": "14a2a77a",
   "metadata": {},
   "outputs": [],
   "source": [
    "#List\n",
    "# - Indexed\n",
    "# -Ordered\n",
    "# -Duplicate Members\n",
    "# -Mutable"
   ]
  },
  {
   "cell_type": "code",
   "execution_count": 1,
   "id": "93f3cd81",
   "metadata": {},
   "outputs": [
    {
     "name": "stdout",
     "output_type": "stream",
     "text": [
      "<class 'list'>\n",
      "<class 'list'>\n"
     ]
    }
   ],
   "source": [
    "a = [\"Apple\", \"Ball\"]\n",
    "b = [1,2,3,4,5]\n",
    "print(a)\n",
    "print(b)\n",
    "print(type(a))\n",
    "print(type(b))"
   ]
  },
  {
   "cell_type": "code",
   "execution_count": 2,
   "id": "6005c5b7",
   "metadata": {},
   "outputs": [
    {
     "name": "stdout",
     "output_type": "stream",
     "text": [
      "2\n",
      "5\n"
     ]
    }
   ],
   "source": [
    "print(len(a))\n",
    "print(len(b))"
   ]
  },
  {
   "cell_type": "code",
   "execution_count": 3,
   "id": "9a731673",
   "metadata": {},
   "outputs": [
    {
     "name": "stdout",
     "output_type": "stream",
     "text": [
      "Apple\n"
     ]
    }
   ],
   "source": [
    "a = [\"Apple\",\"Ball\",\"Cat\",\"Dog\"]\n",
    "print(a[0])"
   ]
  },
  {
   "cell_type": "code",
   "execution_count": 4,
   "id": "d63d6539",
   "metadata": {},
   "outputs": [
    {
     "name": "stdout",
     "output_type": "stream",
     "text": [
      "['Apple', 'Ball', 'Cat']\n"
     ]
    }
   ],
   "source": [
    "a = [\"Apple\",\"Ball\",\"Cat\",\"Dog\"]\n",
    "print(a[0:3])"
   ]
  },
  {
   "cell_type": "code",
   "execution_count": 6,
   "id": "cedd0cfd",
   "metadata": {},
   "outputs": [
    {
     "name": "stdout",
     "output_type": "stream",
     "text": [
      "['Apple', 'Ball', 'Cat', 'Dog', 'Dog', 'Cat']\n"
     ]
    }
   ],
   "source": [
    "a = [\"Apple\",\"Ball\",\"Cat\",\"Dog\"]\n",
    "b = [\"Dog\",\"Cat\"]\n",
    "c = a+b\n",
    "print(c)"
   ]
  },
  {
   "cell_type": "code",
   "execution_count": 2,
   "id": "0b330e98",
   "metadata": {},
   "outputs": [
    {
     "name": "stdout",
     "output_type": "stream",
     "text": [
      "Apple Ball Cat Dog Fish "
     ]
    }
   ],
   "source": [
    "a = [\"Apple\",\"Ball\",\"Cat\",\"Dog\",\"Fish\"]\n",
    "for i in a:\n",
    "    print(i,end=\" \")"
   ]
  },
  {
   "cell_type": "code",
   "execution_count": 8,
   "id": "8b60a4d2",
   "metadata": {},
   "outputs": [
    {
     "name": "stdout",
     "output_type": "stream",
     "text": [
      "Apple\n",
      "Ball\n"
     ]
    }
   ],
   "source": [
    "a = [\"Apple\",\"Ball\",\"Cat\",\"Dog\",\"Fish\"]\n",
    "for i in a:\n",
    "    if i == \"Cat\":\n",
    "        break\n",
    "    print(i)"
   ]
  },
  {
   "cell_type": "code",
   "execution_count": 9,
   "id": "1e93deab",
   "metadata": {},
   "outputs": [
    {
     "name": "stdout",
     "output_type": "stream",
     "text": [
      "Apple\n",
      "Ball\n",
      "Dog\n",
      "Fish\n"
     ]
    }
   ],
   "source": [
    "a = [\"Apple\",\"Ball\",\"Cat\",\"Dog\",\"Fish\"]\n",
    "for i in a:\n",
    "    if i == \"Cat\":\n",
    "        continue\n",
    "    print(i)"
   ]
  },
  {
   "cell_type": "code",
   "execution_count": 5,
   "id": "792190af",
   "metadata": {},
   "outputs": [
    {
     "name": "stdout",
     "output_type": "stream",
     "text": [
      "Enter n = 2\n",
      "Enter name =Ram\n",
      "Enter name =Hari\n",
      "['Ram', 'Hari']\n"
     ]
    }
   ],
   "source": [
    "names = list()\n",
    "n = int(input(\"Enter n = \"))\n",
    "for i in range(n):\n",
    "    name = input(\"Enter name =\")\n",
    " #   names = names + [name]\n",
    "    names.append(name)\n",
    "print(names)"
   ]
  },
  {
   "cell_type": "code",
   "execution_count": 1,
   "id": "45773f72",
   "metadata": {},
   "outputs": [
    {
     "name": "stdout",
     "output_type": "stream",
     "text": [
      "Enter n = 4\n",
      "Enter number =5\n",
      "Enter number =8\n",
      "Enter number =8\n",
      "Enter number =7\n",
      "[5, 8, 8, 7]\n"
     ]
    }
   ],
   "source": [
    "num = list()\n",
    "n = int(input(\"Enter n = \"))\n",
    "for i in range(n):\n",
    "    number = int(input(\"Enter number =\"))\n",
    " #   num = num + [number]\n",
    "    num.append(number)\n",
    "print(num)"
   ]
  },
  {
   "cell_type": "code",
   "execution_count": 3,
   "id": "2bc53703",
   "metadata": {},
   "outputs": [
    {
     "name": "stdout",
     "output_type": "stream",
     "text": [
      "Sum of number is = 28\n",
      "The maximum value =  8\n",
      "The minimum value = 5\n",
      "[5, 7, 8, 8]\n",
      "[8, 8, 7, 5]\n"
     ]
    }
   ],
   "source": [
    "print(\"Sum of number is =\",sum(num))\n",
    "print(\"The maximum value = \",max(num))\n",
    "print(\"The minimum value =\",min(num))\n",
    "num.sort()\n",
    "print(num)\n",
    "num.reverse()\n",
    "print(num)"
   ]
  },
  {
   "cell_type": "code",
   "execution_count": 12,
   "id": "c6e03cb6",
   "metadata": {},
   "outputs": [
    {
     "name": "stdout",
     "output_type": "stream",
     "text": [
      "['Akash', 'Hari', 'Mina', 'Sangita', 'Shyam', 'Sita']\n"
     ]
    }
   ],
   "source": [
    "a = [\"Hari\",\"Sita\",\"Akash\",\"Shyam\",\"Mina\",\"Sangita\"]\n",
    "a.sort()\n",
    "print(a)"
   ]
  },
  {
   "cell_type": "code",
   "execution_count": 13,
   "id": "9c5b9a46",
   "metadata": {},
   "outputs": [
    {
     "data": {
      "text/plain": [
       "['Hari', 'Bamdev', 'Sita', 'Akash', 'Shyam', 'Mina', 'Sangita']"
      ]
     },
     "execution_count": 13,
     "metadata": {},
     "output_type": "execute_result"
    }
   ],
   "source": [
    "#insert()\n",
    "a = [\"Hari\",\"Sita\",\"Akash\",\"Shyam\",\"Mina\",\"Sangita\"]\n",
    "a.insert(1,\"Bamdev\")\n",
    "a"
   ]
  },
  {
   "cell_type": "code",
   "execution_count": 14,
   "id": "aeca294c",
   "metadata": {},
   "outputs": [
    {
     "name": "stdout",
     "output_type": "stream",
     "text": [
      "['Hari', 'Sita', 'Akash', 'Shyam', 'Mina', 'Sangita', 1, 2, 3, 4, 5]\n"
     ]
    }
   ],
   "source": [
    "#extend\n",
    "a = [\"Hari\",\"Sita\",\"Akash\",\"Shyam\",\"Mina\",\"Sangita\"]\n",
    "b = [1,2,3,4,5]\n",
    "a.extend(b)\n",
    "print(a)"
   ]
  },
  {
   "cell_type": "code",
   "execution_count": 15,
   "id": "716a0e9b",
   "metadata": {},
   "outputs": [
    {
     "data": {
      "text/plain": [
       "['Hari', 'Laxmi', 'Akash', 'Shyam', 'Mina', 'Sangita']"
      ]
     },
     "execution_count": 15,
     "metadata": {},
     "output_type": "execute_result"
    }
   ],
   "source": [
    "a = [\"Hari\",\"Sita\",\"Akash\",\"Shyam\",\"Mina\",\"Sangita\"]\n",
    "a[1]=\"Laxmi\"\n",
    "a"
   ]
  },
  {
   "cell_type": "code",
   "execution_count": 19,
   "id": "715df20e",
   "metadata": {},
   "outputs": [
    {
     "data": {
      "text/plain": [
       "['Laxmi', 'Ram', 'Akash', 'Shyam', 'Mina', 'Sangita']"
      ]
     },
     "execution_count": 19,
     "metadata": {},
     "output_type": "execute_result"
    }
   ],
   "source": [
    "a = [\"Hari\",\"Sita\",\"Akash\",\"Shyam\",\"Mina\",\"Sangita\"]\n",
    "a[0:2]=[\"Laxmi\",\"Ram\"]\n",
    "a"
   ]
  },
  {
   "cell_type": "code",
   "execution_count": 18,
   "id": "38b1631b",
   "metadata": {},
   "outputs": [
    {
     "data": {
      "text/plain": [
       "['Hari', 1, 2, 3, 4, 5, 'Sita', 'Akash', 'Shyam', 'Mina', 'Sangita']"
      ]
     },
     "execution_count": 18,
     "metadata": {},
     "output_type": "execute_result"
    }
   ],
   "source": [
    "a = [\"Hari\",\"Sita\",\"Akash\",\"Shyam\",\"Mina\",\"Sangita\"]\n",
    "b = [1,2,3,4,5]\n",
    "x = [a[0]]\n",
    "c = x+b+a[1:]\n",
    "c"
   ]
  },
  {
   "cell_type": "code",
   "execution_count": 20,
   "id": "4435bc3c",
   "metadata": {},
   "outputs": [
    {
     "name": "stdout",
     "output_type": "stream",
     "text": [
      "['Sita', 'Akash', 'Shyam', 'Mina', 'Sangita']\n"
     ]
    }
   ],
   "source": [
    "#del mremove() pop()\n",
    "a = [\"Hari\",\"Sita\",\"Akash\",\"Shyam\",\"Mina\",\"Sangita\"]\n",
    "del a[0]\n",
    "print(a)"
   ]
  },
  {
   "cell_type": "code",
   "execution_count": 22,
   "id": "7e968863",
   "metadata": {},
   "outputs": [
    {
     "name": "stdout",
     "output_type": "stream",
     "text": [
      "['Sangita']\n"
     ]
    }
   ],
   "source": [
    "a = [\"Hari\",\"Sita\",\"Akash\",\"Shyam\",\"Mina\",\"Sangita\"]\n",
    "del a[0:5]\n",
    "print(a)"
   ]
  },
  {
   "cell_type": "code",
   "execution_count": 23,
   "id": "846febc2",
   "metadata": {},
   "outputs": [
    {
     "name": "stdout",
     "output_type": "stream",
     "text": [
      "['Hari', 'Sita', 'Shyam', 'Mina', 'Sangita']\n"
     ]
    }
   ],
   "source": [
    "a = [\"Hari\",\"Sita\",\"Akash\",\"Shyam\",\"Mina\",\"Sangita\"]\n",
    "a.remove(\"Akash\")\n",
    "print(a)"
   ]
  },
  {
   "cell_type": "code",
   "execution_count": 24,
   "id": "cec25cfa",
   "metadata": {},
   "outputs": [
    {
     "name": "stdout",
     "output_type": "stream",
     "text": [
      "['Hari', 'Sita', 'Shyam', 'Mina', 'Sangita', 'Akash']\n"
     ]
    }
   ],
   "source": [
    "a = [\"Hari\",\"Sita\",\"Akash\",\"Shyam\",\"Mina\",\"Sangita\",\"Akash\"]\n",
    "a.remove(\"Akash\")\n",
    "print(a)"
   ]
  },
  {
   "cell_type": "code",
   "execution_count": 26,
   "id": "443605db",
   "metadata": {},
   "outputs": [
    {
     "name": "stdout",
     "output_type": "stream",
     "text": [
      "['Hari', 'Sita', 'Shyam', 'Mina', 'Sangita']\n"
     ]
    }
   ],
   "source": [
    "a = [\"Hari\",\"Sita\",\"Akash\",\"Shyam\",\"Mina\",\"Sangita\",\"Akash\"]\n",
    "for i in a:\n",
    "    if i == \"Akash\":\n",
    "        a.remove(\"Akash\")\n",
    "print(a)"
   ]
  },
  {
   "cell_type": "code",
   "execution_count": 27,
   "id": "73ca4403",
   "metadata": {},
   "outputs": [
    {
     "name": "stdout",
     "output_type": "stream",
     "text": [
      "2\n",
      "6\n"
     ]
    }
   ],
   "source": [
    "a = [\"Hari\",\"Sita\",\"Akash\",\"Shyam\",\"Mina\",\"Sangita\",\"Akash\"]\n",
    "for i in range(len(a)):\n",
    "    if a[i] == \"Akash\":\n",
    "        print(i)"
   ]
  },
  {
   "cell_type": "code",
   "execution_count": 29,
   "id": "b84b7b5b",
   "metadata": {},
   "outputs": [
    {
     "name": "stdout",
     "output_type": "stream",
     "text": [
      "['Hari', 'Sita', 'Akash', 'Mina', 'Sangita', 'Akash']\n",
      "Shyam\n"
     ]
    }
   ],
   "source": [
    "#pop()\n",
    "a = [\"Hari\",\"Sita\",\"Akash\",\"Shyam\",\"Mina\",\"Sangita\",\"Akash\"]\n",
    "b = a.pop(3)\n",
    "print(a)\n",
    "print(b)"
   ]
  },
  {
   "cell_type": "code",
   "execution_count": 1,
   "id": "296a4bc0",
   "metadata": {},
   "outputs": [
    {
     "name": "stdout",
     "output_type": "stream",
     "text": [
      "['Bamdev', 'Ganesh', 'Kirt', 'Mahesh', 'Nabin', 'Shiv', 'Shrawan']\n"
     ]
    }
   ],
   "source": [
    "name = [\"Nabin\",\"Mahesh\",\"Ganesh\",\"Bamdev\",\"Kirt\",\"Shiv\",\"Shrawan\"]\n",
    "name.sort()\n",
    "print(name)"
   ]
  },
  {
   "cell_type": "code",
   "execution_count": 4,
   "id": "b1ee063d",
   "metadata": {},
   "outputs": [
    {
     "name": "stdout",
     "output_type": "stream",
     "text": [
      "['Nabin', 'Mahesh', 'Ganesh', 'Bamdev', 'Kirt', 'Shiv', 'Shrawan', 'Sangita']\n"
     ]
    }
   ],
   "source": [
    "name = [\"Nabin\",\"Mahesh\",\"Ganesh\",\"Bamdev\",\"Kirt\",\"Shiv\",\"Shrawan\"]\n",
    "name.append(\"Sangita\")\n",
    "print(name)"
   ]
  },
  {
   "cell_type": "code",
   "execution_count": 5,
   "id": "3f74d532",
   "metadata": {},
   "outputs": [
    {
     "name": "stdout",
     "output_type": "stream",
     "text": [
      "<class 'list'>\n"
     ]
    }
   ],
   "source": [
    "# list inside list\n",
    "a = [[1,2,3],[4,5,6],[7,8,9]]\n",
    "print(type(a))"
   ]
  },
  {
   "cell_type": "code",
   "execution_count": 8,
   "id": "d798faec",
   "metadata": {},
   "outputs": [
    {
     "name": "stdout",
     "output_type": "stream",
     "text": [
      "['Ram', 35, 'Kathmandu']\n",
      "[['Ram', 35, 'Kathmandu'], ['Shyam', 34, 'Bhaktapur']]\n"
     ]
    }
   ],
   "source": [
    "a = [[\"Ram\",35,\"Kathmandu\"],\n",
    "     [\"Shyam\",34,\"Bhaktapur\"],\n",
    "     [\"Siva\",23,\"Patan\"]]\n",
    "print(a[0])\n",
    "print(a[0:2])"
   ]
  },
  {
   "cell_type": "code",
   "execution_count": 10,
   "id": "64f1a340",
   "metadata": {},
   "outputs": [
    {
     "name": "stdout",
     "output_type": "stream",
     "text": [
      "[['Ram', 35, 'Kathmandu'], ['Shyam', 34, 'Bhaktapur'], ['Nabin', 56, 'Bara']]\n"
     ]
    }
   ],
   "source": [
    "b = [['Ram', 35, 'Kathmandu'], ['Shyam', 34, 'Bhaktapur']]\n",
    "c = [[\"Nabin\",56,\"Bara\"]]\n",
    "d = b+c\n",
    "print(d)"
   ]
  },
  {
   "cell_type": "code",
   "execution_count": 11,
   "id": "7642292f",
   "metadata": {},
   "outputs": [
    {
     "data": {
      "text/plain": [
       "[['Ram', 35, 'Kathmandu'], ['Shyam', 34, 'Bhaktapur'], [['Nabin', 56, 'Bara']]]"
      ]
     },
     "execution_count": 11,
     "metadata": {},
     "output_type": "execute_result"
    }
   ],
   "source": [
    "b = [['Ram', 35, 'Kathmandu'], ['Shyam', 34, 'Bhaktapur']]\n",
    "c = [[\"Nabin\",56,\"Bara\"]]\n",
    "b.append(c)\n",
    "b"
   ]
  },
  {
   "cell_type": "code",
   "execution_count": 1,
   "id": "5f8aafad",
   "metadata": {},
   "outputs": [
    {
     "name": "stdout",
     "output_type": "stream",
     "text": [
      "Enter n =2\n",
      "Enter name = Bamdev \n",
      "Enter age = 23\n",
      "Enter address = Kailali\n",
      "Enter name = Mahesh\n",
      "Enter age = 23\n",
      "Enter address = Darchula\n",
      "[['Bamdev ', 23, 'Kailali'], ['Mahesh', 23, 'Darchula']]\n"
     ]
    }
   ],
   "source": [
    "data = []\n",
    "n = int(input(\"Enter n =\"))\n",
    "for i in range(n):\n",
    "    name = input(\"Enter name = \")\n",
    "    age = int(input(\"Enter age = \"))\n",
    "    add = input(\"Enter address = \")\n",
    "    info = [name,age,add]\n",
    "    data.append(info)\n",
    "print(data)"
   ]
  },
  {
   "cell_type": "code",
   "execution_count": 14,
   "id": "6d44b63a",
   "metadata": {},
   "outputs": [
    {
     "name": "stdout",
     "output_type": "stream",
     "text": [
      "Enter name =Ram\n",
      "['Ram', 22, 'Kathmandu']\n"
     ]
    }
   ],
   "source": [
    "a = [['Ram', 22, 'Kathmandu'], ['hari', 55, 'Bhaktapur']]\n",
    "name = input(\"Enter name =\")\n",
    "for i in a:\n",
    "    if name in i:\n",
    "        print(i)\n"
   ]
  },
  {
   "cell_type": "code",
   "execution_count": 16,
   "id": "78b5ca5f",
   "metadata": {},
   "outputs": [
    {
     "name": "stdout",
     "output_type": "stream",
     "text": [
      "Enter name =hari\n",
      "1\n"
     ]
    }
   ],
   "source": [
    "a = [['Ram', 22, 'Kathmandu'], ['Hari', 55, 'Bhaktapur']]\n",
    "name = input(\"Enter name =\")\n",
    "for i in range(len(a)):\n",
    "    if name in a[i]:\n",
    "        print(i)\n"
   ]
  },
  {
   "cell_type": "code",
   "execution_count": 20,
   "id": "1da46ec9",
   "metadata": {},
   "outputs": [
    {
     "name": "stdout",
     "output_type": "stream",
     "text": [
      "[['Ram Prasad', 22, 'Lalitpur'], ['Hari', 55, 'Bhaktapur']]\n"
     ]
    }
   ],
   "source": [
    "a = [['Ram', 22, 'Kathmandu'],\n",
    "     ['Hari', 55, 'Bhaktapur']]\n",
    "a[0][0] = \"Ram Prasad\"\n",
    "a[0][2] = \"Lalitpur\"\n",
    "print(a)"
   ]
  },
  {
   "cell_type": "code",
   "execution_count": 21,
   "id": "c0ab5c2c",
   "metadata": {},
   "outputs": [
    {
     "data": {
      "text/plain": [
       "[['Rama', 44, 'Kathmandu'], ['Hari', 55, 'Bhaktapur']]"
      ]
     },
     "execution_count": 21,
     "metadata": {},
     "output_type": "execute_result"
    }
   ],
   "source": [
    "a = [['Ram', 22, 'Kathmandu'],\n",
    "     ['Hari', 55, 'Bhaktapur']]\n",
    "a[0] = [\"Rama\",44,\"Kathmandu\"]\n",
    "a"
   ]
  },
  {
   "cell_type": "code",
   "execution_count": 22,
   "id": "318df52c",
   "metadata": {},
   "outputs": [
    {
     "name": "stdout",
     "output_type": "stream",
     "text": [
      "[[22, 'Kathmandu'], ['Hari', 55, 'Bhaktapur']]\n"
     ]
    }
   ],
   "source": [
    "a = [['Ram', 22, 'Kathmandu'],\n",
    "     ['Hari', 55, 'Bhaktapur']]\n",
    "del a[0][0]\n",
    "print(a)"
   ]
  },
  {
   "cell_type": "code",
   "execution_count": 25,
   "id": "d33afa4c",
   "metadata": {},
   "outputs": [
    {
     "name": "stdout",
     "output_type": "stream",
     "text": [
      "[['Ram', 22, 'Kathmandu']]\n"
     ]
    }
   ],
   "source": [
    "a = [['Ram', 22, 'Kathmandu'],\n",
    "     ['Hari', 55, 'Bhaktapur']]\n",
    "a.remove(a[1])\n",
    "print(a)"
   ]
  },
  {
   "cell_type": "code",
   "execution_count": 29,
   "id": "d420b846",
   "metadata": {},
   "outputs": [
    {
     "name": "stdout",
     "output_type": "stream",
     "text": [
      "Enter n =2\n",
      "Enter product name = momo\n",
      "Enter price = 100\n",
      "Enter quantity = 1\n",
      "Enter product name = tea\n",
      "Enter price = 100\n",
      "Enter quantity = 4\n",
      "product Price Quantity Total\n",
      "\n",
      " momo 100 1 100\n",
      " tea 100 4 400\n",
      " \n",
      "\n"
     ]
    }
   ],
   "source": [
    "s = \"\"\n",
    "n = int(input(\"Enter n =\"))\n",
    "for i in range(n):\n",
    "    name = input(\"Enter product name = \")\n",
    "    price = int(input(\"Enter price = \"))\n",
    "    quantity = int(input(\"Enter quantity = \"))\n",
    "    total = price * quantity\n",
    "    info = f\"{name} {price} {quantity} {total}\"\n",
    "    s = s+ \" \" + info +\"\\n\"\n",
    "    \n",
    "print(\"product Price Quantity Total\\n\")\n",
    "print(s,\"\\n\")\n",
    "\n",
    "    "
   ]
  },
  {
   "cell_type": "code",
   "execution_count": 32,
   "id": "f43c198c",
   "metadata": {},
   "outputs": [
    {
     "data": {
      "text/plain": [
       "[['momo', '100', '1', '100'], ['tea', '100', '4', '400']]"
      ]
     },
     "execution_count": 32,
     "metadata": {},
     "output_type": "execute_result"
    }
   ],
   "source": [
    "bill = []\n",
    "data = s.split('\\n')[:-1]\n",
    "for i in data:\n",
    "    bill.append(i.split())\n",
    "bill"
   ]
  },
  {
   "cell_type": "code",
   "execution_count": 2,
   "id": "0a0797db",
   "metadata": {},
   "outputs": [
    {
     "name": "stdout",
     "output_type": "stream",
     "text": [
      "Enter n =2\n",
      "Enter product name = momo\n",
      "Enter price = 100\n",
      "Enter quantity = 5\n",
      "Enter product name = tea\n",
      "Enter price = 20\n",
      "Enter quantity = 5\n",
      "product Price Quantity Total\n",
      "\n",
      " momo 100 5 500\n",
      " tea 20 5 100\n",
      " \n",
      "\n"
     ]
    },
    {
     "data": {
      "text/plain": [
       "[['momo', '100', '5', '500'], ['tea', '20', '5', '100']]"
      ]
     },
     "execution_count": 2,
     "metadata": {},
     "output_type": "execute_result"
    }
   ],
   "source": [
    "bill = []\n",
    "s = \"\"\n",
    "n = int(input(\"Enter n =\"))\n",
    "for i in range(n):\n",
    "    name = input(\"Enter product name = \")\n",
    "    price = int(input(\"Enter price = \"))\n",
    "    quantity = int(input(\"Enter quantity = \"))\n",
    "    total = price * quantity\n",
    "    info = f\"{name} {price} {quantity} {total}\"\n",
    "    s = s+ \" \" + info +\"\\n\"\n",
    "print(\"product Price Quantity Total\\n\")\n",
    "print(s,\"\\n\")  \n",
    "\n",
    "data = s.split('\\n')[:-1]\n",
    "for i in data:\n",
    "    bill.append(i.split())\n",
    "bill"
   ]
  },
  {
   "cell_type": "code",
   "execution_count": 1,
   "id": "84c0d3bb",
   "metadata": {},
   "outputs": [
    {
     "name": "stdout",
     "output_type": "stream",
     "text": [
      "Enter n =2\n",
      "Enter student name \n",
      "Ram\n",
      "Enter marks of java: 78\n",
      "Enter marks of web technology: 85\n",
      "Enter marks of maths: 96\n",
      "Enter marks of operating system: 47\n",
      "Enter marks of theory of computation: 78\n",
      "The percentage is = 76.8\n",
      "Enter student name \n",
      "Sita\n",
      "Enter marks of java: 74\n",
      "Enter marks of web technology: 85\n",
      "Enter marks of maths: 69\n",
      "Enter marks of operating system: 78\n",
      "Enter marks of theory of computation: 98\n",
      "The percentage is = 80.8\n",
      "  Ram  78.0 85.0 96.0 47.0 78.0 76.8 B\n",
      " Sita  74.0 85.0 69.0 78.0 98.0 80.8 A\n",
      "\n",
      "[['Ram', '78.0', '85.0', '96.0', '47.0', '78.0', '76.8', 'B'], ['Sita', '74.0', '85.0', '69.0', '78.0', '98.0', '80.8', 'A']]\n"
     ]
    }
   ],
   "source": [
    "result = []\n",
    "s = \" \"\n",
    "n = int(input(\"Enter n =\"))\n",
    "for i in range(n):\n",
    "    name = input('Enter student name \\n')\n",
    "    java = float(input('Enter marks of java: '))\n",
    "    webtech = float(input('Enter marks of web technology: '))\n",
    "    maths = float(input('Enter marks of maths: '))\n",
    "    os = float(input('Enter marks of operating system: '))\n",
    "    toc = float(input('Enter marks of theory of computation: '))\n",
    "\n",
    "    avg = (java + webtech + maths + os + toc)/5\n",
    "\n",
    "\n",
    "    print('The percentage is =',avg)\n",
    "\n",
    "    if avg>=80:\n",
    "        grade = 'A'\n",
    "    elif avg>=60:\n",
    "         grade = 'B'\n",
    "    elif avg>=50:\n",
    "         grade = 'C'\n",
    "    else:\n",
    "         grade = 'F'\n",
    "\n",
    "    info = f\"{name}  {java} {webtech} {maths} {os} {toc} {avg} {grade}\"\n",
    "    s = s + \" \" + info +\"\\n\"\n",
    "#print(\"Name Java Webtech Maths Operating_System Theory_of_computation Percentage Grade\\n\")\n",
    "print(s)\n",
    "\n",
    "data = s.split('\\n')[:-1]\n",
    "for i in data:\n",
    "    result.append(i.split())\n",
    "print(result)"
   ]
  },
  {
   "cell_type": "code",
   "execution_count": null,
   "id": "310c4002",
   "metadata": {},
   "outputs": [],
   "source": []
  },
  {
   "cell_type": "code",
   "execution_count": null,
   "id": "173d1d07",
   "metadata": {},
   "outputs": [],
   "source": []
  }
 ],
 "metadata": {
  "kernelspec": {
   "display_name": "Python 3 (ipykernel)",
   "language": "python",
   "name": "python3"
  },
  "language_info": {
   "codemirror_mode": {
    "name": "ipython",
    "version": 3
   },
   "file_extension": ".py",
   "mimetype": "text/x-python",
   "name": "python",
   "nbconvert_exporter": "python",
   "pygments_lexer": "ipython3",
   "version": "3.9.7"
  }
 },
 "nbformat": 4,
 "nbformat_minor": 5
}
