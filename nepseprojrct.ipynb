{
 "cells": [
  {
   "cell_type": "code",
   "execution_count": 19,
   "id": "1ac3c3ee",
   "metadata": {},
   "outputs": [
    {
     "name": "stderr",
     "output_type": "stream",
     "text": [
      "C:\\Users\\user\\anaconda3\\lib\\site-packages\\bs4\\__init__.py:431: MarkupResemblesLocatorWarning: \"http://www.nepalstock.com/calculation\" looks like a URL. Beautiful Soup is not an HTTP client. You should probably use an HTTP client like requests to get the document behind the URL, and feed that document to Beautiful Soup.\n",
      "  warnings.warn(\n"
     ]
    }
   ],
   "source": [
    "from bs4 import BeautifulSoup\n",
    "import requests\n",
    "soup = BeautifulSoup('http://www.nepalstock.com/calculation', 'html.parser')\n",
    "url = requests.get(soup)\n",
    "source = url.text\n",
    "source_code= BeautifulSoup(source, \"lxml\") "
   ]
  },
  {
   "cell_type": "code",
   "execution_count": 8,
   "id": "d4ad32e2",
   "metadata": {},
   "outputs": [
    {
     "name": "stdout",
     "output_type": "stream",
     "text": [
      "<tr class=\"unique\">\n",
      "<td>S.N.</td>\n",
      "<td class=\"alnright\">Stock Symbol</td>\n",
      "<td class=\"alnright\">Closing Price Average</td>\n",
      "<td class=\"alnright\">Total Traded Amount</td>\n",
      "<td class=\"alnright\">Total Traded Shares</td>\n",
      "<td class=\"alnright\">Weighted Average</td>\n",
      "<td class=\"alnright\">Closing Price</td>\n",
      "<td class=\"alnright\">Closing Date</td>\n",
      "</tr>\n"
     ]
    }
   ],
   "source": [
    "tag = source_code.table\n",
    "tags = tag.find (class_= 'unique')\n",
    "print(tags)"
   ]
  },
  {
   "cell_type": "code",
   "execution_count": 11,
   "id": "cf89c349",
   "metadata": {},
   "outputs": [
    {
     "data": {
      "text/plain": [
       "['\\n',\n",
       " 'S.N.',\n",
       " '\\n',\n",
       " 'Stock Symbol',\n",
       " '\\n',\n",
       " 'Closing Price Average',\n",
       " '\\n',\n",
       " 'Total Traded Amount',\n",
       " '\\n',\n",
       " 'Total Traded Shares',\n",
       " '\\n',\n",
       " 'Weighted Average',\n",
       " '\\n',\n",
       " 'Closing Price',\n",
       " '\\n',\n",
       " 'Closing Date',\n",
       " '\\n']"
      ]
     },
     "execution_count": 11,
     "metadata": {},
     "output_type": "execute_result"
    }
   ],
   "source": [
    "data = []\n",
    "for i in tags:\n",
    "    x = i.text\n",
    "    data.append(x)\n",
    "data"
   ]
  },
  {
   "cell_type": "code",
   "execution_count": 16,
   "id": "60ca0dab",
   "metadata": {},
   "outputs": [
    {
     "name": "stdout",
     "output_type": "stream",
     "text": [
      "[['', ''], ['S.N.'], ['', ''], ['Stock Symbol'], ['', ''], ['Closing Price Average'], ['', ''], ['Total Traded Amount'], ['', ''], ['Total Traded Shares'], ['', ''], ['Weighted Average'], ['', ''], ['Closing Price'], ['', ''], ['Closing Date'], ['', '']]\n"
     ]
    }
   ],
   "source": [
    "final_data = []\n",
    "for j in data:\n",
    "    final_data.append(j.split('\\n'))\n",
    "print(final_data)"
   ]
  },
  {
   "cell_type": "code",
   "execution_count": 17,
   "id": "86ee44b3",
   "metadata": {},
   "outputs": [],
   "source": [
    "import csv\n",
    "f = open('bb.csv','a')\n",
    "x = csv.writer(f)\n",
    "for i in final_data:\n",
    "    x.writerow(i)"
   ]
  },
  {
   "cell_type": "code",
   "execution_count": 18,
   "id": "a17afe3c",
   "metadata": {},
   "outputs": [
    {
     "data": {
      "text/html": [
       "<div>\n",
       "<style scoped>\n",
       "    .dataframe tbody tr th:only-of-type {\n",
       "        vertical-align: middle;\n",
       "    }\n",
       "\n",
       "    .dataframe tbody tr th {\n",
       "        vertical-align: top;\n",
       "    }\n",
       "\n",
       "    .dataframe thead th {\n",
       "        text-align: right;\n",
       "    }\n",
       "</style>\n",
       "<table border=\"1\" class=\"dataframe\">\n",
       "  <thead>\n",
       "    <tr style=\"text-align: right;\">\n",
       "      <th></th>\n",
       "      <th>Unnamed: 0</th>\n",
       "      <th>Unnamed: 1</th>\n",
       "    </tr>\n",
       "  </thead>\n",
       "  <tbody>\n",
       "    <tr>\n",
       "      <th>0</th>\n",
       "      <td>S.N.</td>\n",
       "      <td>NaN</td>\n",
       "    </tr>\n",
       "    <tr>\n",
       "      <th>1</th>\n",
       "      <td>NaN</td>\n",
       "      <td>NaN</td>\n",
       "    </tr>\n",
       "    <tr>\n",
       "      <th>2</th>\n",
       "      <td>Stock Symbol</td>\n",
       "      <td>NaN</td>\n",
       "    </tr>\n",
       "    <tr>\n",
       "      <th>3</th>\n",
       "      <td>NaN</td>\n",
       "      <td>NaN</td>\n",
       "    </tr>\n",
       "    <tr>\n",
       "      <th>4</th>\n",
       "      <td>Closing Price Average</td>\n",
       "      <td>NaN</td>\n",
       "    </tr>\n",
       "    <tr>\n",
       "      <th>5</th>\n",
       "      <td>NaN</td>\n",
       "      <td>NaN</td>\n",
       "    </tr>\n",
       "    <tr>\n",
       "      <th>6</th>\n",
       "      <td>Total Traded Amount</td>\n",
       "      <td>NaN</td>\n",
       "    </tr>\n",
       "    <tr>\n",
       "      <th>7</th>\n",
       "      <td>NaN</td>\n",
       "      <td>NaN</td>\n",
       "    </tr>\n",
       "    <tr>\n",
       "      <th>8</th>\n",
       "      <td>Total Traded Shares</td>\n",
       "      <td>NaN</td>\n",
       "    </tr>\n",
       "    <tr>\n",
       "      <th>9</th>\n",
       "      <td>NaN</td>\n",
       "      <td>NaN</td>\n",
       "    </tr>\n",
       "    <tr>\n",
       "      <th>10</th>\n",
       "      <td>Weighted Average</td>\n",
       "      <td>NaN</td>\n",
       "    </tr>\n",
       "    <tr>\n",
       "      <th>11</th>\n",
       "      <td>NaN</td>\n",
       "      <td>NaN</td>\n",
       "    </tr>\n",
       "    <tr>\n",
       "      <th>12</th>\n",
       "      <td>Closing Price</td>\n",
       "      <td>NaN</td>\n",
       "    </tr>\n",
       "    <tr>\n",
       "      <th>13</th>\n",
       "      <td>NaN</td>\n",
       "      <td>NaN</td>\n",
       "    </tr>\n",
       "    <tr>\n",
       "      <th>14</th>\n",
       "      <td>Closing Date</td>\n",
       "      <td>NaN</td>\n",
       "    </tr>\n",
       "    <tr>\n",
       "      <th>15</th>\n",
       "      <td>NaN</td>\n",
       "      <td>NaN</td>\n",
       "    </tr>\n",
       "  </tbody>\n",
       "</table>\n",
       "</div>"
      ],
      "text/plain": [
       "               Unnamed: 0  Unnamed: 1\n",
       "0                    S.N.         NaN\n",
       "1                     NaN         NaN\n",
       "2            Stock Symbol         NaN\n",
       "3                     NaN         NaN\n",
       "4   Closing Price Average         NaN\n",
       "5                     NaN         NaN\n",
       "6     Total Traded Amount         NaN\n",
       "7                     NaN         NaN\n",
       "8     Total Traded Shares         NaN\n",
       "9                     NaN         NaN\n",
       "10       Weighted Average         NaN\n",
       "11                    NaN         NaN\n",
       "12          Closing Price         NaN\n",
       "13                    NaN         NaN\n",
       "14           Closing Date         NaN\n",
       "15                    NaN         NaN"
      ]
     },
     "execution_count": 18,
     "metadata": {},
     "output_type": "execute_result"
    }
   ],
   "source": [
    "import pandas as pd\n",
    "df = pd.read_csv('bb.csv')\n",
    "df"
   ]
  },
  {
   "cell_type": "code",
   "execution_count": null,
   "id": "358b8c9f",
   "metadata": {},
   "outputs": [],
   "source": []
  }
 ],
 "metadata": {
  "kernelspec": {
   "display_name": "Python 3 (ipykernel)",
   "language": "python",
   "name": "python3"
  },
  "language_info": {
   "codemirror_mode": {
    "name": "ipython",
    "version": 3
   },
   "file_extension": ".py",
   "mimetype": "text/x-python",
   "name": "python",
   "nbconvert_exporter": "python",
   "pygments_lexer": "ipython3",
   "version": "3.9.7"
  }
 },
 "nbformat": 4,
 "nbformat_minor": 5
}
