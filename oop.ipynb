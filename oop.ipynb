{
 "cells": [
  {
   "cell_type": "code",
   "execution_count": 1,
   "id": "6ad5a039",
   "metadata": {},
   "outputs": [],
   "source": [
    "# class <class_name>\n",
    "#     <methods or attributes>\n",
    "# # obj = <class_name>"
   ]
  },
  {
   "cell_type": "code",
   "execution_count": 3,
   "id": "c4bc86f3",
   "metadata": {},
   "outputs": [
    {
     "name": "stdout",
     "output_type": "stream",
     "text": [
      "Hello World\n"
     ]
    }
   ],
   "source": [
    "class Hello:                    #class\n",
    "    print(\"Hello World\")\n",
    "obj = Hello()                  #object"
   ]
  },
  {
   "cell_type": "code",
   "execution_count": 5,
   "id": "3024dddb",
   "metadata": {},
   "outputs": [
    {
     "name": "stdout",
     "output_type": "stream",
     "text": [
      "Hello World\n"
     ]
    }
   ],
   "source": [
    "class Hello:           #class\n",
    "    \n",
    "    def hello(self):   #method\n",
    "        print(\"Hello World\")\n",
    "        \n",
    "obj = Hello()       #object\n",
    "obj.hello()         "
   ]
  },
  {
   "cell_type": "code",
   "execution_count": 6,
   "id": "43106bad",
   "metadata": {},
   "outputs": [
    {
     "name": "stdout",
     "output_type": "stream",
     "text": [
      "Hello World\n"
     ]
    }
   ],
   "source": [
    "class Hello:      #class\n",
    "\n",
    "    @staticmethod\n",
    "    \n",
    "    def hello():   #method\n",
    "        print(\"Hello World\")\n",
    "        \n",
    "obj = Hello()       #object\n",
    "obj.hello()         "
   ]
  },
  {
   "cell_type": "code",
   "execution_count": 7,
   "id": "c4d23fc9",
   "metadata": {},
   "outputs": [
    {
     "name": "stdout",
     "output_type": "stream",
     "text": [
      "50\n"
     ]
    }
   ],
   "source": [
    "class Cal:           \n",
    "    def calculation(self,l,b): \n",
    "        a = l*b\n",
    "        print(a)\n",
    "        \n",
    "obj = Cal()       \n",
    "obj.calculation(10,5)         "
   ]
  },
  {
   "cell_type": "code",
   "execution_count": 10,
   "id": "60d92e99",
   "metadata": {},
   "outputs": [
    {
     "name": "stdout",
     "output_type": "stream",
     "text": [
      "50\n",
      "100\n"
     ]
    }
   ],
   "source": [
    "class Cal: \n",
    "    @staticmethod\n",
    "    def area(l,b): \n",
    "        a = l*b\n",
    "        print(a)\n",
    "        \n",
    "    def volume(self,l,b,h):\n",
    "        v = l*b*h\n",
    "        print(v)\n",
    "        \n",
    "obj = Cal()       \n",
    "obj.area(10,5)\n",
    "obj.volume(10,5,2)"
   ]
  },
  {
   "cell_type": "code",
   "execution_count": 13,
   "id": "6d4bc3d4",
   "metadata": {},
   "outputs": [
    {
     "name": "stdout",
     "output_type": "stream",
     "text": [
      "50\n",
      "100\n"
     ]
    }
   ],
   "source": [
    "class Cal: \n",
    "    def __init__(self,l,b,h):\n",
    "        self.l = l\n",
    "        self.b = b\n",
    "        self.h = h\n",
    "    def area(self): \n",
    "        a = self.l*self.b\n",
    "        print(a)\n",
    "        \n",
    "    def volume(self):\n",
    "        v = self.l*self.b*self.h\n",
    "        print(v)\n",
    "        \n",
    "obj = Cal(10,5,2)       \n",
    "obj.area()\n",
    "obj.volume()"
   ]
  },
  {
   "cell_type": "code",
   "execution_count": 15,
   "id": "9ae7e7f0",
   "metadata": {},
   "outputs": [
    {
     "name": "stdout",
     "output_type": "stream",
     "text": [
      "50\n",
      "100\n"
     ]
    }
   ],
   "source": [
    "class Cal: \n",
    "    def __init__(self,l,b):\n",
    "        self.l = l\n",
    "        self.b = b\n",
    "        \n",
    "    def area(self): \n",
    "        a = self.l*self.b\n",
    "        print(a)\n",
    "        \n",
    "    def volume(self,h):\n",
    "        v = self.l*self.b*h\n",
    "        print(v)\n",
    "        \n",
    "obj = Cal(10,5)       \n",
    "obj.area()\n",
    "obj.volume(2)"
   ]
  },
  {
   "cell_type": "code",
   "execution_count": 17,
   "id": "d26ba8a7",
   "metadata": {},
   "outputs": [
    {
     "name": "stdout",
     "output_type": "stream",
     "text": [
      "63\n",
      "126\n"
     ]
    }
   ],
   "source": [
    "class Area:\n",
    "    def __init__(self,l,b):\n",
    "        self.l = l\n",
    "        self.b = b\n",
    "    def area(self):\n",
    "        a = self.l*self.b\n",
    "        return a\n",
    "    \n",
    "class Volume:\n",
    "    def __init__(self,l,b,h):\n",
    "        self.l = l \n",
    "        self.b = b\n",
    "        self.h = h\n",
    "        \n",
    "    def volume(self):\n",
    "        v = self.l*self.b*self.h\n",
    "        return v\n",
    "    \n",
    "obj1 = Area(9,7)\n",
    "obj2 = Volume(9,7,2)\n",
    "print(obj1.area())\n",
    "print(obj2.volume())"
   ]
  },
  {
   "cell_type": "code",
   "execution_count": 19,
   "id": "8eb5496a",
   "metadata": {},
   "outputs": [
    {
     "name": "stdout",
     "output_type": "stream",
     "text": [
      "Ram\n"
     ]
    }
   ],
   "source": [
    "class Info:\n",
    "    def __init__(self,name,age,address):\n",
    "        self.name = name \n",
    "        self.age = age\n",
    "        self.address = address\n",
    "        \n",
    "    def __str__(self):\n",
    "        \n",
    "        return self.name\n",
    "    \n",
    "obj = Info(\"Ram\",24,\"Kathmandu\")\n",
    "print(obj)"
   ]
  },
  {
   "cell_type": "code",
   "execution_count": 31,
   "id": "8e12e83c",
   "metadata": {},
   "outputs": [
    {
     "name": "stdout",
     "output_type": "stream",
     "text": [
      "Ram\n",
      "Ram\n"
     ]
    },
    {
     "data": {
      "text/plain": [
       "'Ram'"
      ]
     },
     "execution_count": 31,
     "metadata": {},
     "output_type": "execute_result"
    }
   ],
   "source": [
    "class Info:\n",
    "    def __init__(self,name,age,address):\n",
    "        self.name = name \n",
    "        self.age = age\n",
    "        self.address = address\n",
    "        \n",
    "    def __str__(self):\n",
    "        \n",
    "        return self.name\n",
    "    \n",
    "obj = Info(\"Ram\",24,\"Kathmandu\")\n",
    "print(obj)\n",
    "print(obj.__str__())\n",
    "str(obj)"
   ]
  },
  {
   "cell_type": "code",
   "execution_count": 1,
   "id": "7742f1b7",
   "metadata": {},
   "outputs": [
    {
     "name": "stdout",
     "output_type": "stream",
     "text": [
      "{'Name': 'Ram', 'Age': 24, 'Address': 'Kathmandu'}\n"
     ]
    }
   ],
   "source": [
    "class Info:\n",
    "    def __init__(self,name,age,address):\n",
    "        self.name = name \n",
    "        self.age = age\n",
    "        self.address = address\n",
    "        \n",
    "    def __repr__(self):\n",
    "        return {\"Name\":self.name,\"Age\":self.age,\"Address\":self.address}\n",
    "    \n",
    "obj = Info(\"Ram\",24,\"Kathmandu\")\n",
    "print(obj.__repr__())"
   ]
  },
  {
   "cell_type": "code",
   "execution_count": null,
   "id": "5d08c8f7",
   "metadata": {},
   "outputs": [],
   "source": []
  }
 ],
 "metadata": {
  "kernelspec": {
   "display_name": "Python 3 (ipykernel)",
   "language": "python",
   "name": "python3"
  },
  "language_info": {
   "codemirror_mode": {
    "name": "ipython",
    "version": 3
   },
   "file_extension": ".py",
   "mimetype": "text/x-python",
   "name": "python",
   "nbconvert_exporter": "python",
   "pygments_lexer": "ipython3",
   "version": "3.9.7"
  }
 },
 "nbformat": 4,
 "nbformat_minor": 5
}
