{
 "cells": [
  {
   "cell_type": "code",
   "execution_count": 2,
   "id": "37238838",
   "metadata": {},
   "outputs": [],
   "source": [
    "# # step 1 : Install all the requirements\n",
    "# # pip install requests\n",
    "# # pip install html5lib\n",
    "# # pip install bs4\n",
    "# import requests \n",
    "# from bs4 import BeautifulSoup\n",
    "# url = \"http://www.nepalstock.com/\" \n",
    "# # step 2: Get the html\n",
    "# r = requests.get(url)\n",
    "# htmlContent = r.content\n",
    "# # print(htmlContent)\n",
    "# #step 3 : parse the HTML\n",
    "# soup = BeautifulSoup(htmlContent,'html.parser')\n",
    "# # print(soup.prettify)\n",
    "# #step 4: HTML tree traversal\n",
    "# #commonly used types of objects:\n",
    "# #1.Tag  print(type(title))\n",
    "# #2. NavigableString print(type(title.string))\n",
    "# #3. BeautifulSoup print(type(soup))\n",
    "# #4. Comment\n",
    "# # markup = \"<p><!-- This is a comment--></p>\"\n",
    "# # soup2 = BeautifulSoup(markup)\n",
    "# # print(soup2)\n",
    "#   # Get the title of the HTML page\n",
    "# title = soup.title\n",
    "# # print(title)\n",
    "#  # Get all the paragraphs from the page\n",
    "# paras = soup.find_all('p')\n",
    "# # print(paras)\n",
    "\n",
    "# # Get all the anchor tags from the page\n",
    "# anchors = soup.find_all('a')\n",
    "# # print(anchors)\n",
    "# all_links = set()\n",
    "# for link in anchors:\n",
    "#    if (link.get('href')) != '#':\n",
    "#       linkText = \"http://www.nepalstock.com/\" + link.get('href')\n",
    "#       all_links.add(link)\n",
    "#       # print(linkText)\n",
    "\n",
    "\n",
    "# #Get first element in the HTML page\n",
    "# # print(soup.find('p')['class'])  \n",
    "# #find all the elements with the class lead\n",
    "# # print(soup.find_all(\"p\",class__ =\"lead\"))\n"
   ]
  },
  {
   "cell_type": "code",
   "execution_count": 9,
   "id": "eae82603",
   "metadata": {},
   "outputs": [
    {
     "name": "stdout",
     "output_type": "stream",
     "text": [
      "['Nabin', 'Hari', 'Bamdev', 'Ram']\n"
     ]
    }
   ],
   "source": [
    "a = [\"Nabin\",'Hari']\n",
    "b = ['Bamdev','Ram']\n",
    "c = a + b\n",
    "print(c)"
   ]
  },
  {
   "cell_type": "code",
   "execution_count": 15,
   "id": "242fb99f",
   "metadata": {},
   "outputs": [
    {
     "name": "stdout",
     "output_type": "stream",
     "text": [
      "1 2 3 4 5 6 7 8 9 "
     ]
    }
   ],
   "source": [
    "a = [1,2,3,4,5,6,7,8,9]\n",
    "for i in a:\n",
    "    print(i, end = ' ')"
   ]
  },
  {
   "cell_type": "code",
   "execution_count": 17,
   "id": "efe20fba",
   "metadata": {},
   "outputs": [
    {
     "name": "stdout",
     "output_type": "stream",
     "text": [
      "1 2 3 4 "
     ]
    }
   ],
   "source": [
    "a = [1,2,3,4,5,6,7,8,9]\n",
    "for i in a:\n",
    "    if i == 5:\n",
    "        break;\n",
    "    print(i, end = ' ')"
   ]
  },
  {
   "cell_type": "code",
   "execution_count": 18,
   "id": "ed20ecd1",
   "metadata": {},
   "outputs": [
    {
     "name": "stdout",
     "output_type": "stream",
     "text": [
      "1 2 3 4 6 7 8 9 "
     ]
    }
   ],
   "source": [
    "a = [1,2,3,4,5,6,7,8,9]\n",
    "for i in a:\n",
    "    if i == 5:\n",
    "        continue;\n",
    "    print(i, end = ' ')"
   ]
  },
  {
   "cell_type": "code",
   "execution_count": 20,
   "id": "b5575935",
   "metadata": {},
   "outputs": [
    {
     "name": "stdout",
     "output_type": "stream",
     "text": [
      "Enter how many recodrs? 2\n",
      "Enter name Hari\n",
      "Enter name Ram\n",
      "['Hari', 'Ram']\n"
     ]
    }
   ],
   "source": [
    "names = list()\n",
    "n = int(input('Enter how many recodrs? '))\n",
    "for i in range(n):\n",
    "    name = input('Enter name ')\n",
    "    names.append(name)\n",
    "print(names)"
   ]
  },
  {
   "cell_type": "code",
   "execution_count": 25,
   "id": "5736ed31",
   "metadata": {},
   "outputs": [
    {
     "name": "stdout",
     "output_type": "stream",
     "text": [
      "['Ram', 'Laxman', 'Hari', 'Sita', 'Gita']\n"
     ]
    }
   ],
   "source": [
    "a = ['Ram','Hari','Sita','Gita']\n",
    "a.insert(1,'Laxman')\n",
    "print(a)"
   ]
  },
  {
   "cell_type": "code",
   "execution_count": 28,
   "id": "78db7317",
   "metadata": {},
   "outputs": [
    {
     "name": "stdout",
     "output_type": "stream",
     "text": [
      "Enter how many records? 2\n",
      "Enter name Nabin Bhatta\n",
      "Enter age 23\n",
      "Enter address Baitadi\n",
      "Enter name Bobby Bhatta\n",
      "Enter age 22\n",
      "Enter address Kailali\n",
      "[('Nabin Bhatta', '23', 'Baitadi'), ('Bobby Bhatta', '22', 'Kailali')]\n"
     ]
    }
   ],
   "source": [
    "data = []\n",
    "n = int(input('Enter how many records? '))\n",
    "for i in range(n):\n",
    "    name = input('Enter name ')\n",
    "    age = input('Enter age ')\n",
    "    address = input('Enter address ')\n",
    "    \n",
    "    info = [name , age , address]\n",
    "    data.append(info)\n",
    "    \n",
    "print(data)"
   ]
  },
  {
   "cell_type": "code",
   "execution_count": 32,
   "id": "ccc7d2ae",
   "metadata": {},
   "outputs": [
    {
     "name": "stdout",
     "output_type": "stream",
     "text": [
      "Enter how many items? 2\n",
      "Enter product name Grapes\n",
      "Enter price of product 150\n",
      "Enter quantity 5\n",
      "Enter product name Banana\n",
      "Enter price of product 90\n",
      "Enter quantity 5\n",
      " Grapes 150.0 5 750.0\n",
      " Banana 90.0 5 450.0\n",
      " \n",
      "\n",
      "Your bill is  [['Grapes', '150.0', '5', '750.0'], ['Banana', '90.0', '5', '450.0']]\n"
     ]
    }
   ],
   "source": [
    "bill = []\n",
    "s = ''\n",
    "\n",
    "n = int(input('Enter how many items? '))\n",
    "for i in range(n):\n",
    "    name = input('Enter product name ')\n",
    "    price = float(input('Enter price of product '))\n",
    "    quantity = int(input('Enter quantity '))\n",
    "    total = price * quantity\n",
    "    info = f'{name} {price} {quantity} {total}'\n",
    "    s = s + ' ' + info +'\\n'\n",
    "print(s ,'\\n')\n",
    "data = s.split('\\n')[:-1]\n",
    "for i in data:\n",
    "    bill.append(i.split())\n",
    "print('Your bill is ', bill)"
   ]
  },
  {
   "cell_type": "code",
   "execution_count": 35,
   "id": "7adc20f2",
   "metadata": {},
   "outputs": [
    {
     "name": "stdout",
     "output_type": "stream",
     "text": [
      "50\n"
     ]
    }
   ],
   "source": [
    "class Cal:\n",
    "    def calculation(self,l,b):\n",
    "        a = l * b\n",
    "        print(a)\n",
    "obj = Cal()\n",
    "obj.calculation(10,5)"
   ]
  },
  {
   "cell_type": "code",
   "execution_count": 42,
   "id": "c67b35c0",
   "metadata": {},
   "outputs": [
    {
     "name": "stdout",
     "output_type": "stream",
     "text": [
      "Enter name Bamdev \n",
      "Enter age 22\n",
      "Bamdev  you are 22 years old\n"
     ]
    }
   ],
   "source": [
    "class Info:\n",
    "    def intro(self):\n",
    "        self.name = input('Enter name ')\n",
    "        self.age = int(input('Enter age '))\n",
    "        print(f'{self.name} you are { self.age} years old')\n",
    "obj = Info()\n",
    "obj.intro()"
   ]
  },
  {
   "cell_type": "code",
   "execution_count": null,
   "id": "ca00af55",
   "metadata": {},
   "outputs": [],
   "source": []
  }
 ],
 "metadata": {
  "kernelspec": {
   "display_name": "Python 3 (ipykernel)",
   "language": "python",
   "name": "python3"
  },
  "language_info": {
   "codemirror_mode": {
    "name": "ipython",
    "version": 3
   },
   "file_extension": ".py",
   "mimetype": "text/x-python",
   "name": "python",
   "nbconvert_exporter": "python",
   "pygments_lexer": "ipython3",
   "version": "3.9.7"
  }
 },
 "nbformat": 4,
 "nbformat_minor": 5
}
