{
 "cells": [
  {
   "cell_type": "code",
   "execution_count": 4,
   "id": "37fb31e4",
   "metadata": {},
   "outputs": [
    {
     "name": "stdout",
     "output_type": "stream",
     "text": [
      "Hello Nabin\n",
      "How are you?\n"
     ]
    }
   ],
   "source": [
    "def greet(name):\n",
    "    print(\"Hello\",name)\n",
    "    print(\"How are you?\")\n",
    "greet(\"Nabin\")"
   ]
  },
  {
   "cell_type": "code",
   "execution_count": 14,
   "id": "7f2303bf",
   "metadata": {},
   "outputs": [
    {
     "name": "stdout",
     "output_type": "stream",
     "text": [
      "Your average marks is  75.8\n",
      "Your grade is  B\n"
     ]
    }
   ],
   "source": [
    "#function to find average marks\n",
    "\n",
    "def find_average_marks(marks):\n",
    "    sum_of_marks = sum(marks)\n",
    "    total_subjects = len(marks)\n",
    "    average_marks = sum_of_marks/total_subjects\n",
    "    return average_marks\n",
    "\n",
    "#function to calculate grade and return it\n",
    "\n",
    "def compute_grade(average_marks):\n",
    "    if average_marks>=80:\n",
    "        grade = 'A'\n",
    "    elif average_marks>=60:\n",
    "        grade = 'B'\n",
    "    elif average_marks>=50:\n",
    "        grade = 'C'\n",
    "    else:\n",
    "        grade = 'F'\n",
    "    return grade\n",
    "\n",
    "\n",
    "marks = [75 ,78,76,70,80]\n",
    "average_marks = find_average_marks(marks)\n",
    "grade = compute_grade(average_marks)\n",
    "print(\"Your average marks is \",average_marks)\n",
    "print(\"Your grade is \",grade)"
   ]
  },
  {
   "cell_type": "code",
   "execution_count": 15,
   "id": "b77fa078",
   "metadata": {},
   "outputs": [
    {
     "name": "stdout",
     "output_type": "stream",
     "text": [
      "What is your name?Nabin Bhatta\n"
     ]
    },
    {
     "data": {
      "text/plain": [
       "'Nabin Bhatta'"
      ]
     },
     "execution_count": 15,
     "metadata": {},
     "output_type": "execute_result"
    }
   ],
   "source": [
    "input(\"What is your name?\")"
   ]
  },
  {
   "cell_type": "code",
   "execution_count": 1,
   "id": "70a0685b",
   "metadata": {},
   "outputs": [
    {
     "name": "stdout",
     "output_type": "stream",
     "text": [
      "x is smaller \n"
     ]
    }
   ],
   "source": [
    "x = 5\n",
    "if x<10:\n",
    "    print(\"x is smaller \")\n",
    "else:\n",
    "    print(\"x is grater\")"
   ]
  },
  {
   "cell_type": "code",
   "execution_count": 2,
   "id": "9b8d84fd",
   "metadata": {},
   "outputs": [
    {
     "name": "stdout",
     "output_type": "stream",
     "text": [
      "Enter first number =100\n",
      "Enter second number =50\n",
      "the sum is  150\n",
      "The difference is  50\n",
      "The multiplication is  5000\n",
      "The division is  2\n",
      "The modulus is  0\n"
     ]
    }
   ],
   "source": [
    "a = int(input(\"Enter first number =\"))\n",
    "b = int(input(\"Enter second number =\"))\n",
    "sum = a+b\n",
    "diff = a-b\n",
    "mul = a*b\n",
    "div = a//b\n",
    "mod = a%b\n",
    "print(\"the sum is \",sum)\n",
    "print(\"The difference is \",diff)\n",
    "print(\"The multiplication is \",mul)\n",
    "print(\"The division is \",div)\n",
    "print(\"The modulus is \",mod)"
   ]
  },
  {
   "cell_type": "code",
   "execution_count": 5,
   "id": "93583369",
   "metadata": {},
   "outputs": [
    {
     "name": "stdout",
     "output_type": "stream",
     "text": [
      "Nabin\n"
     ]
    }
   ],
   "source": [
    "a = \"Nabin\"\n",
    "print(a[0:5])"
   ]
  },
  {
   "cell_type": "code",
   "execution_count": 8,
   "id": "86349405",
   "metadata": {},
   "outputs": [
    {
     "name": "stdout",
     "output_type": "stream",
     "text": [
      "6.0\n"
     ]
    }
   ],
   "source": [
    "a = 2.3\n",
    "\n",
    "b = 3.7\n",
    "sum = a+b\n",
    "print(sum)"
   ]
  },
  {
   "cell_type": "code",
   "execution_count": 23,
   "id": "3e9525c0",
   "metadata": {},
   "outputs": [
    {
     "name": "stdout",
     "output_type": "stream",
     "text": [
      "Enter your name Nabin\n",
      "Hello Nabin\n"
     ]
    }
   ],
   "source": [
    "name = input(\"Enter your name \")\n",
    "print(\"Hello\",name)"
   ]
  },
  {
   "cell_type": "code",
   "execution_count": 19,
   "id": "23749a85",
   "metadata": {},
   "outputs": [
    {
     "name": "stdout",
     "output_type": "stream",
     "text": [
      "[45, 54, 56, 59, 65, 78, 85, 89, 89, 94]\n"
     ]
    }
   ],
   "source": [
    "marks = [45,56,85,94,78,54,89,89,65,59]\n",
    "marks.sort()\n",
    "print(marks)"
   ]
  },
  {
   "cell_type": "code",
   "execution_count": 28,
   "id": "9e43643d",
   "metadata": {},
   "outputs": [
    {
     "name": "stdout",
     "output_type": "stream",
     "text": [
      "Enter first number =55\n",
      "Enter second number = 80\n",
      "Enter third number = 777\n",
      "The greates number is  777\n"
     ]
    }
   ],
   "source": [
    "a = int(input(\"Enter first number =\"))\n",
    "b = int(input(\"Enter second number = \"))\n",
    "c = int(input(\"Enter third number = \"))\n",
    "if (a>b) & (a>c):\n",
    "    print(\"The greatest number is \",a)\n",
    "elif (b>c) & (b>a):\n",
    "    print(\"The greatest number is \",b)\n",
    "else:\n",
    "    print(\"The greates number is \",c)\n",
    "    "
   ]
  },
  {
   "cell_type": "code",
   "execution_count": 29,
   "id": "bedaf4ae",
   "metadata": {},
   "outputs": [
    {
     "name": "stdout",
     "output_type": "stream",
     "text": [
      "Hello world!\n"
     ]
    }
   ],
   "source": [
    "def hello():\n",
    "    print(\"Hello world!\")\n",
    "hello()"
   ]
  },
  {
   "cell_type": "code",
   "execution_count": 33,
   "id": "0b69170d",
   "metadata": {},
   "outputs": [
    {
     "name": "stdout",
     "output_type": "stream",
     "text": [
      "3.141592653589793\n"
     ]
    }
   ],
   "source": [
    "import math as m\n",
    "print(m.pi)"
   ]
  },
  {
   "cell_type": "code",
   "execution_count": 34,
   "id": "1758c500",
   "metadata": {},
   "outputs": [
    {
     "data": {
      "text/plain": [
       "362880"
      ]
     },
     "execution_count": 34,
     "metadata": {},
     "output_type": "execute_result"
    }
   ],
   "source": [
    "m.factorial(9)"
   ]
  },
  {
   "cell_type": "code",
   "execution_count": 35,
   "id": "9848dd40",
   "metadata": {},
   "outputs": [
    {
     "name": "stdout",
     "output_type": "stream",
     "text": [
      "Enter l =7\n",
      "Entr b = 8\n",
      "Enter h = 9\n",
      "(56, 504)\n",
      "The area= 56\n",
      "The volume =  504\n"
     ]
    }
   ],
   "source": [
    "#find the area and volume\n",
    "def cal(l,b,h):\n",
    "    a = l*b\n",
    "    v = a*h\n",
    "    return a,v\n",
    "\n",
    "l = int(input(\"Enter l =\"))\n",
    "b = int(input(\"Entr b = \"))\n",
    "h = int(input(\"Enter h = \"))\n",
    "x = cal(l,b,h)\n",
    "print(x)\n",
    "area,volume = x\n",
    "print(\"The area=\",area)\n",
    "print(\"The volume = \",volume)"
   ]
  },
  {
   "cell_type": "code",
   "execution_count": 41,
   "id": "14f415ac",
   "metadata": {},
   "outputs": [
    {
     "name": "stdout",
     "output_type": "stream",
     "text": [
      "Enter n: 100\n",
      "The sum is 5050\n"
     ]
    }
   ],
   "source": [
    "# Program to add natural\n",
    "# numbers up to \n",
    "# sum = 1+2+3+...+n\n",
    "\n",
    "n = int(input(\"Enter n: \"))\n",
    "\n",
    "sum = 0\n",
    "i = 1\n",
    "\n",
    "while i <= n:\n",
    "    sum = sum + i\n",
    "    i = i+1    \n",
    "\n",
    "print(\"The sum is\", sum)"
   ]
  },
  {
   "cell_type": "code",
   "execution_count": 44,
   "id": "68a0dc7a",
   "metadata": {},
   "outputs": [
    {
     "name": "stdout",
     "output_type": "stream",
     "text": [
      "Enter a vowel: q\n",
      "That is not a vowel. Try again!\n",
      "Enter a vowel: v\n",
      "That is not a vowel. Try again!\n",
      "Enter a vowel: u\n",
      "Thank you!\n"
     ]
    }
   ],
   "source": [
    "# Program to illustrate a loop with condition in the middle. \n",
    "# Take input from the user until a vowel is entered\n",
    "\n",
    "vowels = \"aeiouAEIOU\"\n",
    "\n",
    "# infinite loop\n",
    "while True:\n",
    "    v = input(\"Enter a vowel: \")\n",
    "   # condition in the middle\n",
    "    if v in vowels:\n",
    "        break\n",
    "    print(\"That is not a vowel. Try again!\")\n",
    "\n",
    "print(\"Thank you!\")"
   ]
  },
  {
   "cell_type": "code",
   "execution_count": 46,
   "id": "1f45c330",
   "metadata": {},
   "outputs": [
    {
     "name": "stdout",
     "output_type": "stream",
     "text": [
      "The sum is 48\n"
     ]
    }
   ],
   "source": [
    "# Program to find the sum of all numbers stored in a list\n",
    "\n",
    "\n",
    "numbers = [6, 5, 3, 8, 4, 2, 5, 4, 11]\n",
    "\n",
    "sum = 0\n",
    "\n",
    "for value in numbers:\n",
    "    sum = sum+value\n",
    "\n",
    "print(\"The sum is\", sum)"
   ]
  },
  {
   "cell_type": "code",
   "execution_count": 53,
   "id": "0c1b2444",
   "metadata": {},
   "outputs": [
    {
     "name": "stdout",
     "output_type": "stream",
     "text": [
      "The marks of  James 90\n"
     ]
    }
   ],
   "source": [
    "# program to display student's marks from record\n",
    "student_name = 'James'\n",
    "\n",
    "marks = {'James': 90, 'Jules': 55, 'Arthur': 77}\n",
    "\n",
    "for student in marks:\n",
    "    if student == student_name:\n",
    "        print('The marks of ',student_name ,marks[student])\n",
    "        break\n",
    "else:\n",
    "    print('No entry with that name found.')"
   ]
  },
  {
   "cell_type": "code",
   "execution_count": 54,
   "id": "0a87ebbf",
   "metadata": {},
   "outputs": [
    {
     "name": "stdout",
     "output_type": "stream",
     "text": [
      "s\n",
      "t\n",
      "r\n",
      "n\n",
      "g\n",
      "The end\n"
     ]
    }
   ],
   "source": [
    "# Program to show the use of continue statement inside loops\n",
    "\n",
    "for val in \"string\":\n",
    "    if val == \"i\":\n",
    "        continue\n",
    "    print(val)\n",
    "\n",
    "print(\"The end\")"
   ]
  },
  {
   "cell_type": "code",
   "execution_count": 56,
   "id": "f4b956b5",
   "metadata": {},
   "outputs": [
    {
     "name": "stdout",
     "output_type": "stream",
     "text": [
      "3\n"
     ]
    }
   ],
   "source": [
    "c = 1 # global variable\n",
    "    \n",
    "def add():\n",
    "    global c\n",
    "    c = c + 2 # increment c by 2\n",
    "    print(c)\n",
    "\n",
    "add()"
   ]
  },
  {
   "cell_type": "code",
   "execution_count": 6,
   "id": "5f2d9fb8",
   "metadata": {},
   "outputs": [
    {
     "name": "stdout",
     "output_type": "stream",
     "text": [
      "The sum is 7.8\n"
     ]
    }
   ],
   "source": [
    "# This program adds two numbers\n",
    "\n",
    "num1 = 1.5\n",
    "num2 = 6.3\n",
    "\n",
    "# Add two numbers\n",
    "sum = num1 + num2\n",
    "\n",
    "# Display the sum\n",
    "print(\"The sum is\", sum)"
   ]
  },
  {
   "cell_type": "code",
   "execution_count": 13,
   "id": "af845fc2",
   "metadata": {},
   "outputs": [
    {
     "name": "stdout",
     "output_type": "stream",
     "text": [
      "Enter a number: 81\n",
      "The square root of 81.000 is 9.000\n"
     ]
    }
   ],
   "source": [
    "# Python Program to calculate the square root\n",
    "\n",
    "num = float(input('Enter a number: '))\n",
    "\n",
    "num_sqrt = num ** 0.5\n",
    "print('The square root of %0.3f is %0.3f'%(num ,num_sqrt))"
   ]
  },
  {
   "cell_type": "code",
   "execution_count": 12,
   "id": "f8e0366b",
   "metadata": {},
   "outputs": [
    {
     "name": "stdout",
     "output_type": "stream",
     "text": [
      "Enter first side: 8\n",
      "Enter second side: 7\n",
      "Enter third side: 7\n",
      "The area of the triangle is 22.98\n"
     ]
    }
   ],
   "source": [
    "# Python Program to find the area of triangle\n",
    "\n",
    "\n",
    "a = float(input('Enter first side: '))\n",
    "b = float(input('Enter second side: '))\n",
    "c = float(input('Enter third side: '))\n",
    "\n",
    "# semi-perimeter\n",
    "s = (a + b + c) / 2\n",
    "\n",
    "#  area\n",
    "area = (s*(s-a)*(s-b)*(s-c)) ** 0.5\n",
    "print('The area of the triangle is %0.2f' %area)"
   ]
  },
  {
   "cell_type": "code",
   "execution_count": 24,
   "id": "f8ae93e0",
   "metadata": {},
   "outputs": [
    {
     "name": "stdout",
     "output_type": "stream",
     "text": [
      "Select operation.\n",
      "1.Add\n",
      "2.Subtract\n",
      "3.Multiply\n",
      "4.Divide\n",
      "Enter choice(1/2/3/4): 1\n",
      "Enter first number: 99\n",
      "Enter second number: 89\n",
      "99.0 + 89.0 = 188.0\n",
      "Let's do next calculation? (yes/no): yes\n",
      "Enter choice(1/2/3/4): 4\n",
      "Enter first number: 90\n",
      "Enter second number: 89\n",
      "90.0 / 89.0 = 1.0112359550561798\n",
      "Let's do next calculation? (yes/no): no\n"
     ]
    }
   ],
   "source": [
    "# Program make a simple calculator\n",
    "\n",
    "# This function adds two numbers\n",
    "def add(x, y):\n",
    "    return x + y\n",
    "\n",
    "# This function subtracts two numbers\n",
    "def subtract(x, y):\n",
    "    return x - y\n",
    "\n",
    "# This function multiplies two numbers\n",
    "def multiply(x, y):\n",
    "    return x * y\n",
    "\n",
    "# This function divides two numbers\n",
    "def divide(x, y):\n",
    "    return x / y\n",
    "\n",
    "\n",
    "print(\"Select operation.\")\n",
    "print(\"1.Add\")\n",
    "print(\"2.Subtract\")\n",
    "print(\"3.Multiply\")\n",
    "print(\"4.Divide\")\n",
    "\n",
    "while True:\n",
    "   \n",
    "    choice = input(\"Enter choice(1/2/3/4): \")\n",
    "\n",
    "   \n",
    "    if choice in ('1', '2', '3', '4'):\n",
    "        num1 = float(input(\"Enter first number: \"))\n",
    "        num2 = float(input(\"Enter second number: \"))\n",
    "\n",
    "        if choice == '1':\n",
    "            print(num1, \"+\", num2, \"=\", add(num1, num2))\n",
    "\n",
    "        elif choice == '2':\n",
    "            print(num1, \"-\", num2, \"=\", subtract(num1, num2))\n",
    "\n",
    "        elif choice == '3':\n",
    "            print(num1, \"*\", num2, \"=\", multiply(num1, num2))\n",
    "\n",
    "        elif choice == '4':\n",
    "            print(num1, \"/\", num2, \"=\", divide(num1, num2))\n",
    "        \n",
    "      \n",
    "        next_calculation = input(\"Let's do next calculation? (yes/no): \")\n",
    "        if next_calculation == \"no\":\n",
    "            break\n",
    "    \n",
    "    else:\n",
    "        print(\"Invalid Input\")"
   ]
  },
  {
   "cell_type": "code",
   "execution_count": 1,
   "id": "9b9cea79",
   "metadata": {},
   "outputs": [
    {
     "name": "stdout",
     "output_type": "stream",
     "text": [
      "Enter n =2\n",
      "Enter student name \n",
      "nabin\n",
      "Enter marks of java: 78\n",
      "Enter marks of web technology: 87\n",
      "Enter marks of maths: 88\n",
      "Enter marks of operating system: 96\n",
      "Enter marks of theory of computation: 98\n",
      "The percentage is = 89.4\n",
      "Enter student name \n",
      "hari\n",
      "Enter marks of java: 74\n",
      "Enter marks of web technology: 85\n",
      "Enter marks of maths: 96\n",
      "Enter marks of operating system: 74\n",
      "Enter marks of theory of computation: 78\n",
      "The percentage is = 81.4\n",
      "  nabin  78.0 87.0 88.0 96.0 98.0 89.4 A\n",
      " hari  74.0 85.0 96.0 74.0 78.0 81.4 A\n",
      "\n"
     ]
    }
   ],
   "source": [
    "s = \" \"\n",
    "n = int(input(\"Enter n =\"))\n",
    "for i in range(n):\n",
    "    name = input('Enter student name \\n')\n",
    "    java = float(input('Enter marks of java: '))\n",
    "    webtech = float(input('Enter marks of web technology: '))\n",
    "    maths = float(input('Enter marks of maths: '))\n",
    "    os = float(input('Enter marks of operating system: '))\n",
    "    toc = float(input('Enter marks of theory of computation: '))\n",
    "\n",
    "    avg = (java + webtech + maths + os + toc)/5\n",
    "\n",
    "\n",
    "    print('The percentage is =',avg)\n",
    "\n",
    "    if avg>=80:\n",
    "        grade = 'A'\n",
    "    elif avg>=60:\n",
    "         grade = 'B'\n",
    "    elif avg>=50:\n",
    "         grade = 'C'\n",
    "    else:\n",
    "         grade = 'F'\n",
    "\n",
    "    info = f\"{name}  {java} {webtech} {maths} {os} {toc} {avg} {grade}\"\n",
    "    s = s + \" \" + info +\"\\n\"\n",
    "#print(\"Name Java Webtech Maths Operating_System Theory_of_computation Percentage Grade\\n\")\n",
    "print(s)"
   ]
  },
  {
   "cell_type": "code",
   "execution_count": 5,
   "id": "66d5a187",
   "metadata": {},
   "outputs": [
    {
     "name": "stdout",
     "output_type": "stream",
     "text": [
      "Enter number of record you want 2\n",
      "Enter student name = hari \n",
      "Enter marks of physics = 78\n",
      "Enter marks of chemistry = 47\n",
      "Enter marks of maths = 85\n",
      "Enter marks of computer = 95\n",
      "Enter marks of english = 56\n",
      "your percentage is  72.2\n",
      "Enter student name = sita\n",
      "Enter marks of physics = 45\n",
      "Enter marks of chemistry = 63\n",
      "Enter marks of maths = 62\n",
      "Enter marks of computer = 98\n",
      "Enter marks of english = 78\n",
      "your percentage is  69.2\n",
      "  hari  78.0 47.0 85.0 95.0 56.0 B\n",
      " sita 45.0 63.0 62.0 98.0 78.0 B\n",
      "\n",
      "[['hari', '78.0', '47.0', '85.0', '95.0', '56.0', 'B'], ['sita', '45.0', '63.0', '62.0', '98.0', '78.0', 'B']]\n"
     ]
    }
   ],
   "source": [
    "result = []\n",
    "s = \" \"\n",
    "n = int(input(\"Enter number of record you want \"))\n",
    "for i in range(n):\n",
    "    name = input(\"Enter student name = \")\n",
    "    physics = float(input(\"Enter marks of physics = \"))\n",
    "    chemistry = float(input(\"Enter marks of chemistry = \"))\n",
    "    maths = float(input(\"Enter marks of maths = \"))\n",
    "    computer = float(input(\"Enter marks of computer = \"))\n",
    "    english = float(input(\"Enter marks of english = \"))\n",
    "    total = physics+chemistry+maths+computer+english\n",
    "    per = total/5\n",
    "    print(\"your percentage is \",per)\n",
    "    \n",
    "    \n",
    "    if per>=80:\n",
    "        grade = 'A'\n",
    "    elif per>=60:\n",
    "        grade = 'B'\n",
    "    elif per>=50:\n",
    "        grade = 'C'\n",
    "    else:\n",
    "        grade = 'F'\n",
    "        \n",
    "    info = f\"{name} {physics} {chemistry} {maths} {computer} {english} {grade}\"\n",
    "    s = s + \" \" +info + \"\\n\"\n",
    "print(s)\n",
    "\n",
    "data = s.split('\\n')[:-1]\n",
    "for i in data:\n",
    "    result.append(i.split())\n",
    "print(result)\n",
    "    \n",
    "    "
   ]
  },
  {
   "cell_type": "code",
   "execution_count": 6,
   "id": "fdf56853",
   "metadata": {},
   "outputs": [
    {
     "name": "stdout",
     "output_type": "stream",
     "text": [
      "Enter l = 9\n",
      "Enter b = 7\n",
      "63\n"
     ]
    }
   ],
   "source": [
    "l = int(input(\"Enter l = \"))  #global variables \n",
    "b = int(input(\"Enter b = \"))  #global variables\n",
    "def cal():\n",
    "   \n",
    "    a = l*b\n",
    "    print(a)\n",
    "    \n",
    "cal()"
   ]
  },
  {
   "cell_type": "code",
   "execution_count": 8,
   "id": "4fe712a1",
   "metadata": {},
   "outputs": [
    {
     "name": "stdout",
     "output_type": "stream",
     "text": [
      "Enter the value of l = 9\n",
      "Enter the value of b = 9\n",
      "81\n"
     ]
    }
   ],
   "source": [
    "#Function with argument\n",
    "def area(l,b):\n",
    "    a = l *b\n",
    "    print(a)\n",
    "\n",
    "l = int(input(\"Enter the value of l = \"))\n",
    "b = int(input(\"Enter the value of b = \" ))\n",
    "\n",
    "area(l,b)"
   ]
  },
  {
   "cell_type": "code",
   "execution_count": 3,
   "id": "a16763ab",
   "metadata": {},
   "outputs": [
    {
     "name": "stdout",
     "output_type": "stream",
     "text": [
      "Enter name = nabin\n",
      "Enter age = 24\n",
      "Enter address = Baitadi\n",
      "nabin 24 Baitadi\n"
     ]
    }
   ],
   "source": [
    "def info():\n",
    "    name = input(\"Enter name = \")\n",
    "    age = int(input(\"Enter age = \"))\n",
    "    address = input(\"Enter address = \")\n",
    "    details = name + \" \" + str(age)+ \" \" + address\n",
    "    print(details)\n",
    "info()"
   ]
  },
  {
   "cell_type": "code",
   "execution_count": 4,
   "id": "c8a83e76",
   "metadata": {},
   "outputs": [
    {
     "name": "stdout",
     "output_type": "stream",
     "text": [
      "Twinkle, twinkle, little star, \n",
      "\tHow I wonder what you are! \n",
      "\t\tUp above the world so high, \n",
      "\t\tLike a diamond in the sky. \n",
      "Twinkle, twinkle, little star, \n",
      "\tHow I wonder what you are!\n"
     ]
    }
   ],
   "source": [
    "print(\"Twinkle, twinkle, little star, \\n\\tHow I wonder what you are! \\n\\t\\tUp above the world so high, \\n\\t\\tLike a diamond in the sky. \\nTwinkle, twinkle, little star, \\n\\tHow I wonder what you are!\")\n"
   ]
  },
  {
   "cell_type": "code",
   "execution_count": 5,
   "id": "86877e4d",
   "metadata": {},
   "outputs": [
    {
     "name": "stdout",
     "output_type": "stream",
     "text": [
      "Current date and time : \n",
      "2022-03-06 11:53:54\n"
     ]
    }
   ],
   "source": [
    "import datetime\n",
    "now = datetime.datetime.now()\n",
    "print (\"Current date and time : \")\n",
    "print (now.strftime(\"%Y-%m-%d %H:%M:%S\"))"
   ]
  },
  {
   "cell_type": "code",
   "execution_count": 17,
   "id": "17bba354",
   "metadata": {},
   "outputs": [
    {
     "name": "stdout",
     "output_type": "stream",
     "text": [
      " #  #  #  # \n",
      " #  #  #  # \n",
      " #  #  #  # \n",
      " #  #  #  # \n"
     ]
    }
   ],
   "source": [
    "for i in range(4):    \n",
    "    for j in range(4):\n",
    "        print(' # ',end = \"\")\n",
    "    print()"
   ]
  },
  {
   "cell_type": "code",
   "execution_count": 18,
   "id": "b30f83e3",
   "metadata": {},
   "outputs": [
    {
     "name": "stdout",
     "output_type": "stream",
     "text": [
      " # \n",
      " #  # \n",
      " #  #  # \n",
      " #  #  #  # \n"
     ]
    }
   ],
   "source": [
    "for i in range(4):    \n",
    "    for j in range(i+1):\n",
    "        print(' # ',end = \"\")\n",
    "    print()"
   ]
  },
  {
   "cell_type": "code",
   "execution_count": 19,
   "id": "4f8ef84d",
   "metadata": {},
   "outputs": [
    {
     "name": "stdout",
     "output_type": "stream",
     "text": [
      " #  #  #  # \n",
      " #  #  # \n",
      " #  # \n",
      " # \n"
     ]
    }
   ],
   "source": [
    "for i in range(4):    \n",
    "    for j in range(4-i):\n",
    "        print(' # ',end = \"\")\n",
    "    print()"
   ]
  },
  {
   "cell_type": "code",
   "execution_count": 24,
   "id": "1970546b",
   "metadata": {},
   "outputs": [
    {
     "name": "stdout",
     "output_type": "stream",
     "text": [
      "Enter the string: Python\n",
      "P\n",
      "Py\n",
      "Pyt\n",
      "Pyth\n",
      "Pytho\n",
      "Python\n"
     ]
    }
   ],
   "source": [
    "string = input(\"Enter the string: \")\n",
    "length = len(string)\n",
    "for i in range(length):\n",
    "    \n",
    "    for j in range(i+1):\n",
    "        print(string[j],end=\"\")\n",
    "    print()"
   ]
  },
  {
   "cell_type": "code",
   "execution_count": 32,
   "id": "6de3d379",
   "metadata": {},
   "outputs": [
    {
     "name": "stdout",
     "output_type": "stream",
     "text": [
      "Enter number of rows:9\n",
      "1 \n",
      "2 3 \n",
      "4 5 6 \n",
      "7 8 9 10 \n",
      "11 12 13 14 15 \n",
      "16 17 18 19 20 21 \n",
      "22 23 24 25 26 27 28 \n",
      "29 30 31 32 33 34 35 36 \n",
      "37 38 39 40 41 42 43 44 45 \n"
     ]
    }
   ],
   "source": [
    "n = int(input(\"Enter number of rows:\"))\n",
    "num = 1\n",
    "for i in range(1,n+1):     #for row\n",
    "    for j in range(1,i+1): #for column\n",
    "        print(num , end=' ')\n",
    "        num += 1\n",
    "    print( )"
   ]
  },
  {
   "cell_type": "code",
   "execution_count": 33,
   "id": "6b365eca",
   "metadata": {},
   "outputs": [
    {
     "name": "stdout",
     "output_type": "stream",
     "text": [
      "Enter the number of rows:5\n",
      "55555\n",
      "4444\n",
      "333\n",
      "22\n",
      "1\n"
     ]
    }
   ],
   "source": [
    "n = int(input(\"Enter the number of rows:\"))\n",
    "for i in range(n,0,-1):\n",
    "    for j in range(1,i+1):\n",
    "        print(i,end=\"\")\n",
    "    print()"
   ]
  },
  {
   "cell_type": "code",
   "execution_count": 34,
   "id": "7e7bf7a9",
   "metadata": {},
   "outputs": [
    {
     "name": "stdout",
     "output_type": "stream",
     "text": [
      "Enter the number of rows:5\n",
      "12345\n",
      "1234\n",
      "123\n",
      "12\n",
      "1\n"
     ]
    }
   ],
   "source": [
    "n = int(input(\"Enter the number of rows:\"))\n",
    "for i in range(n,0,-1):\n",
    "    for j in range(1,i+1):\n",
    "        print(j,end=\"\")\n",
    "    print()"
   ]
  },
  {
   "cell_type": "code",
   "execution_count": 2,
   "id": "698b59e3",
   "metadata": {},
   "outputs": [
    {
     "name": "stdout",
     "output_type": "stream",
     "text": [
      "Enter how many records you want keep 3\n",
      "Enter name =Nabin\n",
      "Enter ntc number = 9843912388\n",
      "Enter ncell number = 9810658960\n",
      "Enter name =Bamdev\n",
      "Enter ntc number = 9865879685\n",
      "Enter ncell number = 9802365978\n",
      "Enter name =Ganesh\n",
      "Enter ntc number = 98421569455\n",
      "Enter ncell number = 981036854796\n",
      "{'Nabin': ['9843912388', '9810658960'], 'Bamdev': ['9865879685', '9802365978'], 'Ganesh': ['98421569455', '981036854796']}\n"
     ]
    }
   ],
   "source": [
    "data = {}\n",
    "n = int(input(\"Enter how many records you want keep \"))\n",
    "for i in range(n):\n",
    "    name = input(\"Enter name =\")\n",
    "    ntc = input(\"Enter ntc number = \")\n",
    "    ncell = input(\"Enter ncell number = \")\n",
    "    data[name] = [ntc,ncell]\n",
    "print(data)"
   ]
  },
  {
   "cell_type": "code",
   "execution_count": 3,
   "id": "e10f5023",
   "metadata": {},
   "outputs": [
    {
     "name": "stdout",
     "output_type": "stream",
     "text": [
      "{'Nabin': ['9843912388', '9810658960'], 'Bamdev': ['9865879685', '9802365978'], 'Ganesh': ['98421569455', '981036854796'], 'Mahesh': ['9868475965', '98123569874']}\n"
     ]
    }
   ],
   "source": [
    "a = {'Nabin': ['9843912388', '9810658960'], 'Bamdev': ['9865879685', '9802365978'], 'Ganesh': ['98421569455', '981036854796']}\n",
    "a['Mahesh'] = ['9868475965','98123569874']\n",
    "print(a)"
   ]
  },
  {
   "cell_type": "code",
   "execution_count": 4,
   "id": "53d056da",
   "metadata": {},
   "outputs": [
    {
     "name": "stdout",
     "output_type": "stream",
     "text": [
      "Enter name = Nabin\n",
      "Enter 0 for ntc and 1 for ncell :1\n",
      "The ncell number of Nabin 9810658960\n"
     ]
    }
   ],
   "source": [
    "name = input(\"Enter name = \")\n",
    "a = {'Nabin': ['9843912388', '9810658960'], 'Bamdev': ['9865879685', '9802365978'], 'Ganesh': ['98421569455', '981036854796']}\n",
    "x = int(input(\"Enter 0 for ntc and 1 for ncell :\"))\n",
    "if x == 0:\n",
    "    print(f\"The ntc number of {name}\",a[name][0])\n",
    "elif x==1:\n",
    "    print(f\"The ncell number of {name}\",a[name][1])\n",
    "    "
   ]
  },
  {
   "cell_type": "code",
   "execution_count": 10,
   "id": "b48748e5",
   "metadata": {},
   "outputs": [
    {
     "name": "stdout",
     "output_type": "stream",
     "text": [
      "Enter how many records 2\n",
      "Enter name = Ram\n",
      "Enter marks in java = 58\n",
      "Enter marks in web techonology = 69\n",
      "Enter marks in operating system = 49\n",
      "Enter marks in maths = 98\n",
      "Enter marks in compiler design =75\n",
      "Enter name = Sita\n",
      "Enter marks in java = 74\n",
      "Enter marks in web techonology = 85\n",
      "Enter marks in operating system = 94\n",
      "Enter marks in maths = 76\n",
      "Enter marks in compiler design =59\n",
      "{'Ram': [58, 69, 49, 98, 75], 'Sita': [74, 85, 94, 76, 59]}\n"
     ]
    }
   ],
   "source": [
    "result = {}\n",
    "n = int(input(\"Enter how many records \"))\n",
    "for i in range(n):\n",
    "    name = input(\"Enter name = \")\n",
    "    java = int(input(\"Enter marks in java = \"))\n",
    "    webtech = int(input(\"Enter marks in web techonology = \"))\n",
    "    os = int(input(\"Enter marks in operating system = \"))\n",
    "    maths = int(input(\"Enter marks in maths = \"))\n",
    "    compiler = int(input(\"Enter marks in compiler design =\"))\n",
    "    result[name] = [java,webtech,os,maths,compiler]\n",
    "print(result)"
   ]
  },
  {
   "cell_type": "code",
   "execution_count": 16,
   "id": "8aa62083",
   "metadata": {},
   "outputs": [
    {
     "name": "stdout",
     "output_type": "stream",
     "text": [
      "<class 'dict'>\n"
     ]
    }
   ],
   "source": [
    "data = {1:'Nabin',2:'Kiran',4:'Harsh'}\n",
    "print(type(data))"
   ]
  },
  {
   "cell_type": "code",
   "execution_count": null,
   "id": "150d99e8",
   "metadata": {},
   "outputs": [],
   "source": []
  }
 ],
 "metadata": {
  "kernelspec": {
   "display_name": "Python 3 (ipykernel)",
   "language": "python",
   "name": "python3"
  },
  "language_info": {
   "codemirror_mode": {
    "name": "ipython",
    "version": 3
   },
   "file_extension": ".py",
   "mimetype": "text/x-python",
   "name": "python",
   "nbconvert_exporter": "python",
   "pygments_lexer": "ipython3",
   "version": "3.9.7"
  }
 },
 "nbformat": 4,
 "nbformat_minor": 5
}
