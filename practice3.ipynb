{
 "cells": [
  {
   "cell_type": "code",
   "execution_count": null,
   "id": "bcc8743f",
   "metadata": {},
   "outputs": [],
   "source": [
    "# create database\n",
    "import mysql.connector\n",
    "\n",
    "database = mysql.connector.connect(\n",
    "    host = \"localhost\",\n",
    "    user = \"root\",\n",
    "    password = \"\")\n",
    "db = database.cursor()\n",
    "db.execute(\"CREATE DATABASE pythons\")"
   ]
  },
  {
   "cell_type": "code",
   "execution_count": null,
   "id": "da855879",
   "metadata": {},
   "outputs": [],
   "source": [
    "#create a table\n",
    "import mysql.connector\n",
    "database = mysql.connector.connect(\n",
    "    host = \"localhost\",\n",
    "    user = \"root\",\n",
    "    password = \"\",\n",
    "    database = \"pythons\")\n",
    "db = database.cursor()\n",
    "db.execute(\"CREATE  TABLE profile(name VARCHAR(255),address VARCHAR(255))\")\n"
   ]
  },
  {
   "cell_type": "code",
   "execution_count": null,
   "id": "7d6582fa",
   "metadata": {},
   "outputs": [],
   "source": [
    "# insert into table\n",
    "import mysql.connector\n",
    "mydb = mysql.connector.connect(\n",
    "    host = \"localhost\",\n",
    "    user = \"root\",\n",
    "    password = \"\",\n",
    "    database=\"pythons\"\n",
    "\n",
    ")\n",
    "\n",
    "mycursor = mydb.cursor()\n",
    "\n",
    "sql = \"INSERT INTO profile (name, address) VALUES('Ram','kathmandu')\"\n",
    "\n",
    "mycursor.execute(sql)\n",
    "\n",
    "mydb.commit()\n",
    "\n",
    "print(mycursor.rowcount, \"record inserted.\")"
   ]
  },
  {
   "cell_type": "code",
   "execution_count": null,
   "id": "00a5f5b1",
   "metadata": {},
   "outputs": [],
   "source": [
    "# select \n",
    "mycursor.execute(\"SELECT * FROM profile\")\n",
    "result =mycursor.fetchall()\n",
    "\n",
    "for x in result:\n",
    "    print(x)"
   ]
  },
  {
   "cell_type": "code",
   "execution_count": null,
   "id": "d12b3882",
   "metadata": {},
   "outputs": [],
   "source": [
    "import mysql.connector\n",
    "mydb = mysql.connector.connect(\n",
    "    host = \"localhost\",\n",
    "    user = \"root\",\n",
    "    password = \"\",\n",
    "    database=\"pythons\"\n",
    "\n",
    ")\n",
    "\n",
    "mycursor = mydb.cursor()\n",
    "\n",
    "sql = \"INSERT INTO profile (name, address) VALUES('sita','Butwal')\"\n",
    "\n",
    "mycursor.execute(sql)\n",
    "\n",
    "mydb.commit()\n",
    "\n",
    "print(mycursor.rowcount, \"record inserted.\")"
   ]
  },
  {
   "cell_type": "code",
   "execution_count": null,
   "id": "c0311318",
   "metadata": {},
   "outputs": [],
   "source": [
    "import mysql.connector\n",
    "mydb = mysql.connector.connect(\n",
    "    host = \"localhost\",\n",
    "    user = \"root\",\n",
    "    password = \"\",\n",
    "    database=\"pythons\"\n",
    "\n",
    ")\n",
    "\n",
    "mycursor = mydb.cursor()\n",
    "\n",
    "sql = \"INSERT INTO profile (name, address) VALUES(%s,%s)\"\n",
    "val = [('Kirt','Khodpe'),\n",
    "      ('Mahesh','India'),]\n",
    "\n",
    "mycursor.executemany(sql,val)\n",
    "\n",
    "mydb.commit()\n",
    "\n",
    "print(mycursor.rowcount, \"record inserted.\")"
   ]
  },
  {
   "cell_type": "code",
   "execution_count": null,
   "id": "113700b1",
   "metadata": {},
   "outputs": [],
   "source": [
    "import mysql.connector\n",
    "\n",
    "database = mysql.connector.connect(\n",
    "  host=\"localhost\",\n",
    "  user=\"root\",\n",
    "  password=\"\",\n",
    "  database=\"pythons\"\n",
    ")\n",
    "\n",
    "db = database.cursor()\n",
    "\n",
    "sql = \"DELETE FROM profile WHERE address = 'Butwal' \"\n",
    "\n",
    "db.execute(sql)\n",
    "\n",
    "database.commit()\n",
    "\n",
    "print(db.rowcount, \"record(s) deleted\")"
   ]
  },
  {
   "cell_type": "code",
   "execution_count": null,
   "id": "4675e51a",
   "metadata": {},
   "outputs": [],
   "source": [
    "import mysql.connector\n",
    "mydb = mysql.connector.connect(\n",
    "    host = \"localhost\",\n",
    "    user = \"root\",\n",
    "    password = \"\",\n",
    "    database=\"pythons\"\n",
    "\n",
    ")\n",
    "\n",
    "mycursor = mydb.cursor()\n",
    "\n",
    "sql = \"INSERT INTO profile (name, address) VALUES(%s,%s)\"\n",
    "val = [('Shiv','Patan'),\n",
    "      ('Hemanta','Khotang'),]\n",
    "\n",
    "mycursor.executemany(sql,val)\n",
    "\n",
    "mydb.commit()\n",
    "\n",
    "print(mycursor.rowcount, \"record inserted.\")"
   ]
  },
  {
   "cell_type": "code",
   "execution_count": null,
   "id": "2abcd372",
   "metadata": {},
   "outputs": [],
   "source": [
    "import mysql.connector\n",
    "db = mysql.connector.connect(\n",
    "  host=\"localhost\",\n",
    "  user=\"root\",\n",
    "  passwd=\"\",\n",
    "  database=\"pythons\"\n",
    ")\n",
    "mycursor = db.cursor()\n",
    "sql = \"UPDATE profile SET address = 'Kathmandu' WHERE address = 'Khodpe'\"\n",
    "mycursor.execute(sql)\n",
    "db.commit()\n",
    "print(mycursor.rowcount, \"record(s) affected\")\n"
   ]
  },
  {
   "cell_type": "code",
   "execution_count": null,
   "id": "d6bae12c",
   "metadata": {},
   "outputs": [],
   "source": [
    "import mysql.connector\n",
    "\n",
    "database = mysql.connector.connect(\n",
    "  host=\"localhost\",\n",
    "  user=\"root\",\n",
    "  password=\"\",\n",
    "  database=\"pythons\"\n",
    ")\n",
    "\n",
    "db = database.cursor()\n",
    "\n",
    "sql = \"DELETE FROM profile WHERE name = 'Mahesh' \"\n",
    "\n",
    "db.execute(sql)\n",
    "\n",
    "database.commit()\n",
    "\n",
    "print(db.rowcount, \"record(s) deleted\")"
   ]
  },
  {
   "cell_type": "code",
   "execution_count": null,
   "id": "0118d537",
   "metadata": {},
   "outputs": [],
   "source": [
    "import mysql.connector\n",
    "database = mysql.connector.connect(\n",
    "    host = \"localhost\",\n",
    "    user = \"root\",\n",
    "    password = \"\",\n",
    "    database = \"pythons\")\n",
    "db = database.cursor()\n",
    "sql = \"INSERT INTO profile(name,address) VALUES ('Mahesh','Darchula')\"\n",
    "db.execute(sql)\n",
    "database.commit()\n",
    "print(db.rowcount, \"record(s) inserted\")"
   ]
  },
  {
   "cell_type": "code",
   "execution_count": null,
   "id": "46ee5bfb",
   "metadata": {},
   "outputs": [],
   "source": [
    "class Robot:\n",
    "    def introduce_self(self):\n",
    "        print(\"My name is \" + self.name)"
   ]
  },
  {
   "cell_type": "code",
   "execution_count": null,
   "id": "ab781368",
   "metadata": {},
   "outputs": [],
   "source": [
    "r1 = Robot()\n",
    "r1.name = \"Nabin\"\n",
    "r1.color = \"Blue\"\n",
    "r1.weight = 53\n",
    "\n",
    "r2 = Robot()\n",
    "r2.name = \"Priyanka\"\n",
    "r2.color = \"yellow\"\n",
    "r2.weight = 45"
   ]
  },
  {
   "cell_type": "code",
   "execution_count": null,
   "id": "e7ffa385",
   "metadata": {},
   "outputs": [],
   "source": [
    "r1.introduce_self()\n",
    "r2.introduce_self()"
   ]
  },
  {
   "cell_type": "code",
   "execution_count": 5,
   "id": "769244f3",
   "metadata": {},
   "outputs": [],
   "source": [
    "class Robot:\n",
    "    def __int__(self, name,color,weight):\n",
    "        self.name = name\n",
    "        self.color = color\n",
    "        self.weight = weight\n",
    "    @classmethod\n",
    "    def introduce_self(self):\n",
    "        print(\"My name is \" + self.name)"
   ]
  },
  {
   "cell_type": "code",
   "execution_count": 6,
   "id": "dea6fe77",
   "metadata": {},
   "outputs": [
    {
     "ename": "TypeError",
     "evalue": "Robot() takes no arguments",
     "output_type": "error",
     "traceback": [
      "\u001b[1;31m---------------------------------------------------------------------------\u001b[0m",
      "\u001b[1;31mTypeError\u001b[0m                                 Traceback (most recent call last)",
      "\u001b[1;32m~\\AppData\\Local\\Temp/ipykernel_10200/2234291143.py\u001b[0m in \u001b[0;36m<module>\u001b[1;34m\u001b[0m\n\u001b[1;32m----> 1\u001b[1;33m \u001b[0mr1\u001b[0m \u001b[1;33m=\u001b[0m \u001b[0mRobot\u001b[0m\u001b[1;33m(\u001b[0m\u001b[1;34m\"Nabin\"\u001b[0m\u001b[1;33m,\u001b[0m\u001b[1;34m\"Blue\"\u001b[0m\u001b[1;33m,\u001b[0m\u001b[1;36m53\u001b[0m\u001b[1;33m)\u001b[0m\u001b[1;33m\u001b[0m\u001b[1;33m\u001b[0m\u001b[0m\n\u001b[0m\u001b[0;32m      2\u001b[0m \u001b[0mr2\u001b[0m \u001b[1;33m=\u001b[0m \u001b[0mRobot\u001b[0m\u001b[1;33m(\u001b[0m\u001b[1;34m\"Priyanka\"\u001b[0m\u001b[1;33m,\u001b[0m\u001b[1;34m\"Yellow\"\u001b[0m\u001b[1;33m,\u001b[0m\u001b[1;36m42\u001b[0m\u001b[1;33m)\u001b[0m\u001b[1;33m\u001b[0m\u001b[1;33m\u001b[0m\u001b[0m\n\u001b[0;32m      3\u001b[0m \u001b[0mr1\u001b[0m\u001b[1;33m.\u001b[0m\u001b[0mintroduce_self\u001b[0m\u001b[1;33m(\u001b[0m\u001b[1;33m)\u001b[0m\u001b[1;33m\u001b[0m\u001b[1;33m\u001b[0m\u001b[0m\n",
      "\u001b[1;31mTypeError\u001b[0m: Robot() takes no arguments"
     ]
    }
   ],
   "source": [
    "r1 = Robot(\"Nabin\",\"Blue\",53)\n",
    "r2 = Robot(\"Priyanka\",\"Yellow\",42)\n",
    "r1.introduce_self()"
   ]
  },
  {
   "cell_type": "code",
   "execution_count": 8,
   "id": "3d2ae3eb",
   "metadata": {},
   "outputs": [
    {
     "name": "stdout",
     "output_type": "stream",
     "text": [
      "Hello\n",
      "Hello\n"
     ]
    }
   ],
   "source": [
    "class Computer:\n",
    "    def config(self):\n",
    "        print(\"Hello\")\n",
    "comp1 = Computer()\n",
    "comp2 = Computer()\n",
    "\n",
    "comp1.config()\n",
    "comp2.config()"
   ]
  },
  {
   "cell_type": "code",
   "execution_count": 2,
   "id": "c5fceb17",
   "metadata": {},
   "outputs": [
    {
     "name": "stdout",
     "output_type": "stream",
     "text": [
      "Name is nabin Age is 23\n",
      "Name is hari Age is 22\n"
     ]
    }
   ],
   "source": [
    "class Computer:\n",
    "    def __init__(self,name,age):\n",
    "        self.name = name\n",
    "        self.age = age\n",
    "   \n",
    "\n",
    "    def intro(self):\n",
    "        print(f\"Name is { self.name} Age is {self.age}\")\n",
    "comp1 = Computer(\"nabin\",23)\n",
    "comp2 = Computer(\"hari\",22)\n",
    "\n",
    "comp1.intro()\n",
    "comp2.intro()"
   ]
  },
  {
   "cell_type": "code",
   "execution_count": 9,
   "id": "0f5ff59e",
   "metadata": {},
   "outputs": [
    {
     "name": "stdout",
     "output_type": "stream",
     "text": [
      "Sita 24\n",
      "Navin 23\n"
     ]
    }
   ],
   "source": [
    "class Computer:\n",
    "    \n",
    "    def __init__(self):\n",
    "        self.name = \"Navin\"\n",
    "        self.age = 23\n",
    "        \n",
    "    def update(self):\n",
    "        self.age = 24\n",
    "    \n",
    "c1 = Computer()\n",
    "c2 = Computer()\n",
    "c1.name = 'Sita'\n",
    "c1.age = 22\n",
    "c1.update()\n",
    "print(c1.name,c1.age)\n",
    "print(c2.name,c2.age)"
   ]
  },
  {
   "cell_type": "code",
   "execution_count": 22,
   "id": "6921f553",
   "metadata": {},
   "outputs": [
    {
     "name": "stdout",
     "output_type": "stream",
     "text": [
      "They are different\n",
      "Navin 24\n",
      "Navin 23\n"
     ]
    }
   ],
   "source": [
    "class Computer:\n",
    "    \n",
    "    def __init__(self):\n",
    "        self.name = \"Navin\"\n",
    "        self.age = 23\n",
    "        \n",
    "    def update(self):\n",
    "        self.age = 24\n",
    "        \n",
    "    def compare(self,other):\n",
    "        if self.age == other.age:\n",
    "            return True\n",
    "        else:\n",
    "            return False\n",
    "c1 = Computer()\n",
    "c1.age = 24\n",
    "c2 = Computer()\n",
    "if c1.compare(c2):\n",
    "    print(\"They are same\")\n",
    "else:\n",
    "    print(\"They are different\")\n",
    "print(c1.name,c1.age)\n",
    "print(c2.name,c2.age)"
   ]
  },
  {
   "cell_type": "code",
   "execution_count": 28,
   "id": "d597c81a",
   "metadata": {},
   "outputs": [
    {
     "name": "stdout",
     "output_type": "stream",
     "text": [
      "BMW 11 5\n",
      "BMW 10 5\n"
     ]
    }
   ],
   "source": [
    "class Car:\n",
    "    \n",
    "    wheels = 4\n",
    "    \n",
    "    def __init__(self):\n",
    "        self.mil = 10\n",
    "        self.com = \"BMW\"\n",
    "        \n",
    "c1 = Car()\n",
    "c2 = Car()\n",
    "\n",
    "c1.mil = 11\n",
    "\n",
    "Car.wheels = 5\n",
    "\n",
    "print(c1.com, c1.mil,c1.wheels)\n",
    "print(c2.com,c2.mil,c2.wheels)"
   ]
  },
  {
   "cell_type": "code",
   "execution_count": 11,
   "id": "027dbaaf",
   "metadata": {},
   "outputs": [
    {
     "name": "stdout",
     "output_type": "stream",
     "text": [
      "82.8\n",
      "61.2\n",
      "FWU\n",
      "This is student class \n"
     ]
    }
   ],
   "source": [
    "class Student:\n",
    "    school = \"FWU\"\n",
    "    def __init__(self,m1,m2,m3,m4,m5):\n",
    "        self.m1 = m1\n",
    "        self.m2 = m2\n",
    "        self.m3 = m3\n",
    "        self.m4 = m4\n",
    "        self.m5 = m5\n",
    "        \n",
    "    def avg(self):\n",
    "        return(self.m1+self.m2+self.m3+self.m4+self.m5)/5\n",
    "    \n",
    "#     def get_m1(self):\n",
    "#             return self.m1\n",
    "#     def set_m1(self,value):\n",
    "#         self.m1 = value\n",
    "        \n",
    "    @classmethod   \n",
    "    def getSchool(cls):\n",
    "        return cls.school \n",
    "    @staticmethod\n",
    "    def info():\n",
    "        print(\"This is student class \")\n",
    "        \n",
    "        \n",
    "        \n",
    "s1 = Student(78,85,96,78,77)\n",
    "s2 = Student(47,85,69,58,47)\n",
    "\n",
    "print(s1.avg())\n",
    "print(s2.avg())\n",
    "# print(s1.get_m1())\n",
    "print(Student.getSchool())\n",
    "Student.info()"
   ]
  },
  {
   "cell_type": "code",
   "execution_count": 23,
   "id": "e95d2e5e",
   "metadata": {},
   "outputs": [
    {
     "name": "stdout",
     "output_type": "stream",
     "text": [
      "Nabin 7\n"
     ]
    },
    {
     "ename": "TypeError",
     "evalue": "show() missing 1 required positional argument: 'self'",
     "output_type": "error",
     "traceback": [
      "\u001b[1;31m---------------------------------------------------------------------------\u001b[0m",
      "\u001b[1;31mTypeError\u001b[0m                                 Traceback (most recent call last)",
      "\u001b[1;32m~\\AppData\\Local\\Temp/ipykernel_10200/395549084.py\u001b[0m in \u001b[0;36m<module>\u001b[1;34m\u001b[0m\n\u001b[0;32m     24\u001b[0m \u001b[0ms1\u001b[0m \u001b[1;33m=\u001b[0m \u001b[0mStudent\u001b[0m\u001b[1;33m(\u001b[0m\u001b[1;34m'Nabin'\u001b[0m\u001b[1;33m,\u001b[0m\u001b[1;36m7\u001b[0m\u001b[1;33m)\u001b[0m\u001b[1;33m\u001b[0m\u001b[1;33m\u001b[0m\u001b[0m\n\u001b[0;32m     25\u001b[0m \u001b[0ms2\u001b[0m \u001b[1;33m=\u001b[0m \u001b[0mStudent\u001b[0m\u001b[1;33m(\u001b[0m\u001b[1;34m'Bamdev'\u001b[0m\u001b[1;33m,\u001b[0m\u001b[1;36m9\u001b[0m\u001b[1;33m)\u001b[0m\u001b[1;33m\u001b[0m\u001b[1;33m\u001b[0m\u001b[0m\n\u001b[1;32m---> 26\u001b[1;33m \u001b[0ms1\u001b[0m\u001b[1;33m.\u001b[0m\u001b[0mshow\u001b[0m\u001b[1;33m(\u001b[0m\u001b[1;33m)\u001b[0m\u001b[1;33m\u001b[0m\u001b[1;33m\u001b[0m\u001b[0m\n\u001b[0m",
      "\u001b[1;32m~\\AppData\\Local\\Temp/ipykernel_10200/395549084.py\u001b[0m in \u001b[0;36mshow\u001b[1;34m(self)\u001b[0m\n\u001b[0;32m      9\u001b[0m     \u001b[1;32mdef\u001b[0m \u001b[0mshow\u001b[0m\u001b[1;33m(\u001b[0m\u001b[0mself\u001b[0m\u001b[1;33m)\u001b[0m\u001b[1;33m:\u001b[0m\u001b[1;33m\u001b[0m\u001b[1;33m\u001b[0m\u001b[0m\n\u001b[0;32m     10\u001b[0m         \u001b[0mprint\u001b[0m\u001b[1;33m(\u001b[0m\u001b[0mself\u001b[0m\u001b[1;33m.\u001b[0m\u001b[0mname\u001b[0m\u001b[1;33m,\u001b[0m\u001b[0mself\u001b[0m\u001b[1;33m.\u001b[0m\u001b[0mrollno\u001b[0m\u001b[1;33m)\u001b[0m\u001b[1;33m\u001b[0m\u001b[1;33m\u001b[0m\u001b[0m\n\u001b[1;32m---> 11\u001b[1;33m         \u001b[0mself\u001b[0m\u001b[1;33m.\u001b[0m\u001b[0mlap\u001b[0m\u001b[1;33m.\u001b[0m\u001b[0mshow\u001b[0m\u001b[1;33m(\u001b[0m\u001b[1;33m)\u001b[0m\u001b[1;33m\u001b[0m\u001b[1;33m\u001b[0m\u001b[0m\n\u001b[0m\u001b[0;32m     12\u001b[0m \u001b[1;33m\u001b[0m\u001b[0m\n\u001b[0;32m     13\u001b[0m     \u001b[1;32mclass\u001b[0m \u001b[0mLaptop\u001b[0m\u001b[1;33m:\u001b[0m\u001b[1;33m\u001b[0m\u001b[1;33m\u001b[0m\u001b[0m\n",
      "\u001b[1;31mTypeError\u001b[0m: show() missing 1 required positional argument: 'self'"
     ]
    }
   ],
   "source": [
    "#inner class\n",
    "class Student:\n",
    "    \n",
    "    def __init__(self,name,rollno):\n",
    "        self.name = name\n",
    "        self.rollno = rollno\n",
    "        self.lap = self.Laptop\n",
    "        \n",
    "    def show(self):\n",
    "        print(self.name,self.rollno)\n",
    "        self.lap.show()\n",
    "        \n",
    "    class Laptop:\n",
    "        \n",
    "        def __init__(self):\n",
    "            self.brand = \"Lenovo\"\n",
    "            self.cpu = \"i5\"\n",
    "            self.ram = 4\n",
    "        \n",
    "        def show(self):\n",
    "            print(self.brand, self.cpu, self.ram)\n",
    "            \n",
    "            \n",
    "s1 = Student('Nabin',7)\n",
    "s2 = Student('Bamdev',9)\n",
    "s1.show()"
   ]
  },
  {
   "cell_type": "code",
   "execution_count": 24,
   "id": "e6f63a2f",
   "metadata": {},
   "outputs": [
    {
     "name": "stdout",
     "output_type": "stream",
     "text": [
      "Feature 1 working\n",
      "Feature 2 working\n",
      "Feature 1 working\n",
      "Feature 4 working\n",
      "Feature 1 working\n"
     ]
    }
   ],
   "source": [
    "class A:\n",
    "    def feature1(self):\n",
    "        print(\"Feature 1 working\")\n",
    "        \n",
    "    def feature2(self):\n",
    "        print(\"Feature 2 working\")\n",
    "        \n",
    "class B(A):\n",
    "    def feature3(self):\n",
    "        print(\"Feature 3 working\")\n",
    "        \n",
    "    def feature4(self):\n",
    "        print(\"Feature 4 working\")\n",
    "class C(B):\n",
    "    def feature5(self):\n",
    "        print(\"Feature 5 is working\")\n",
    "a1 = A()\n",
    "\n",
    "a1.feature1()\n",
    "a1.feature2()\n",
    "\n",
    "b1 = B()\n",
    "b1.feature1()\n",
    "b1.feature4()\n",
    "c1 = C()\n",
    "c1.feature1()"
   ]
  },
  {
   "cell_type": "code",
   "execution_count": 25,
   "id": "2bb8ef64",
   "metadata": {},
   "outputs": [
    {
     "name": "stdout",
     "output_type": "stream",
     "text": [
      "Blu is a bird\n",
      "Woo is also a bird\n",
      "Blu is 10 years old\n",
      "Woo is 15 years old\n"
     ]
    }
   ],
   "source": [
    "class Parrot:\n",
    "\n",
    "    # class attribute\n",
    "    species = \"bird\"\n",
    "\n",
    "    # instance attribute\n",
    "    def __init__(self, name, age):\n",
    "        self.name = name\n",
    "        self.age = age\n",
    "\n",
    "# instantiate the Parrot class\n",
    "blu = Parrot(\"Blu\", 10)\n",
    "woo = Parrot(\"Woo\", 15)\n",
    "\n",
    "# access the class attributes\n",
    "print(\"Blu is a {}\".format(blu.__class__.species))\n",
    "print(\"Woo is also a {}\".format(woo.__class__.species))\n",
    "\n",
    "# access the instance attributes\n",
    "print(\"{} is {} years old\".format( blu.name, blu.age))\n",
    "print(\"{} is {} years old\".format( woo.name, woo.age))"
   ]
  },
  {
   "cell_type": "code",
   "execution_count": 26,
   "id": "315e52c4",
   "metadata": {},
   "outputs": [
    {
     "name": "stdout",
     "output_type": "stream",
     "text": [
      "Blu sings 'Happy'\n",
      "Blu is now dancing\n"
     ]
    }
   ],
   "source": [
    "class Parrot:\n",
    "    \n",
    "    # instance attributes\n",
    "    def __init__(self, name, age):\n",
    "        self.name = name\n",
    "        self.age = age\n",
    "    \n",
    "    # instance method\n",
    "    def sing(self, song):\n",
    "        return \"{} sings {}\".format(self.name, song)\n",
    "\n",
    "    def dance(self):\n",
    "        return \"{} is now dancing\".format(self.name)\n",
    "\n",
    "# instantiate the object\n",
    "blu = Parrot(\"Blu\", 10)\n",
    "\n",
    "# call our instance methods\n",
    "print(blu.sing(\"'Happy'\"))\n",
    "print(blu.dance())"
   ]
  },
  {
   "cell_type": "code",
   "execution_count": 27,
   "id": "d1724804",
   "metadata": {},
   "outputs": [
    {
     "name": "stdout",
     "output_type": "stream",
     "text": [
      "Bird is ready\n",
      "Penguin is ready\n",
      "Penguin\n",
      "Swim faster\n",
      "Run faster\n"
     ]
    }
   ],
   "source": [
    "# parent class\n",
    "class Bird:\n",
    "    \n",
    "    def __init__(self):\n",
    "        print(\"Bird is ready\")\n",
    "\n",
    "    def whoisThis(self):\n",
    "        print(\"Bird\")\n",
    "\n",
    "    def swim(self):\n",
    "        print(\"Swim faster\")\n",
    "\n",
    "# child class\n",
    "class Penguin(Bird):\n",
    "\n",
    "    def __init__(self):\n",
    "        # call super() function\n",
    "        super().__init__()\n",
    "        print(\"Penguin is ready\")\n",
    "\n",
    "    def whoisThis(self):\n",
    "        print(\"Penguin\")\n",
    "\n",
    "    def run(self):\n",
    "        print(\"Run faster\")\n",
    "\n",
    "peggy = Penguin()\n",
    "peggy.whoisThis()\n",
    "peggy.swim()\n",
    "peggy.run()"
   ]
  },
  {
   "cell_type": "code",
   "execution_count": 36,
   "id": "bf114f87",
   "metadata": {},
   "outputs": [
    {
     "name": "stdout",
     "output_type": "stream",
     "text": [
      "Selling Price: 900\n",
      "Selling Price: 900\n",
      "Selling Price: 1000\n"
     ]
    }
   ],
   "source": [
    "class Computer:\n",
    "\n",
    "    def __init__(self):\n",
    "        self.__maxprice = 900\n",
    "\n",
    "    def sell(self):\n",
    "        print(\"Selling Price: {}\".format(self.__maxprice))\n",
    "\n",
    "    def setMaxPrice(self, price):\n",
    "        self.__maxprice = price\n",
    "\n",
    "c = Computer()\n",
    "c.sell()\n",
    "\n",
    "# change the price\n",
    "c.__maxprice = 1000\n",
    "c.sell()\n",
    "\n",
    "# using setter function\n",
    "c.setMaxPrice(1000)\n",
    "c.sell()"
   ]
  },
  {
   "cell_type": "code",
   "execution_count": 2,
   "id": "3e3df5fd",
   "metadata": {},
   "outputs": [
    {
     "name": "stdout",
     "output_type": "stream",
     "text": [
      "Parrot can fly\n",
      "Penguin can't fly\n",
      "Parrot can't swim\n",
      "Penguin can swim\n"
     ]
    }
   ],
   "source": [
    "class Parrot:\n",
    "\n",
    "    def fly(self):\n",
    "        print(\"Parrot can fly\")\n",
    "    \n",
    "    def swim(self):\n",
    "        print(\"Parrot can't swim\")\n",
    "\n",
    "class Penguin:\n",
    "\n",
    "    def fly(self):\n",
    "        print(\"Penguin can't fly\")\n",
    "    \n",
    "    def swim(self):\n",
    "        print(\"Penguin can swim\")\n",
    "\n",
    "# common interface\n",
    "def flying_test(bird):\n",
    "    bird.fly()\n",
    "def swimming_test(bird):\n",
    "    bird.swim()\n",
    "\n",
    "#instantiate objects\n",
    "blu = Parrot()\n",
    "peggy = Penguin()\n",
    "\n",
    "# passing the object\n",
    "flying_test(blu)\n",
    "flying_test(peggy)\n",
    "swimming_test(blu)\n",
    "swimming_test(peggy)"
   ]
  },
  {
   "cell_type": "code",
   "execution_count": 42,
   "id": "6a69f97e",
   "metadata": {},
   "outputs": [
    {
     "name": "stdout",
     "output_type": "stream",
     "text": [
      "56\n",
      "56\n"
     ]
    }
   ],
   "source": [
    "a = '5'\n",
    "b = '6'\n",
    "\n",
    "print(a+b)\n",
    "\n",
    "print(str.__add__(a,b))"
   ]
  },
  {
   "cell_type": "code",
   "execution_count": 45,
   "id": "355c0da8",
   "metadata": {},
   "outputs": [
    {
     "name": "stdout",
     "output_type": "stream",
     "text": [
      "118\n"
     ]
    }
   ],
   "source": [
    "class Student:\n",
    "    def __init__(self,m1,m2):\n",
    "        self.m1 = m1\n",
    "        self.m2 = m2\n",
    "        \n",
    "    def __add__(self,other):\n",
    "        m1 = self.m1 + other.m1\n",
    "        m2 = self.m2 + other.m2\n",
    "        s3 = Student(m1,m2)\n",
    "        return s3\n",
    "        \n",
    "s1 = Student(58,69)\n",
    "s2 = Student(60,65)\n",
    "s3 = s1+s2   #-> Student.__add__(s1,s2)\n",
    "print(s3.m1)"
   ]
  },
  {
   "cell_type": "code",
   "execution_count": 5,
   "id": "03160986",
   "metadata": {},
   "outputs": [
    {
     "name": "stdout",
     "output_type": "stream",
     "text": [
      "25\n"
     ]
    }
   ],
   "source": [
    "#mehod overloading\n",
    "class Student:\n",
    "#     def __init__(self,m1,m2):\n",
    "#         self.m1 = m1\n",
    "#         self.m2 = m2\n",
    "    def sum(self,a=None,b=None,c= None):\n",
    "        s = 0\n",
    "        if a!=None and b!=None and c!=None:\n",
    "            s = a+b+c\n",
    "        elif a!=None and b!=None:\n",
    "            s = a + b\n",
    "        else:\n",
    "            s = a\n",
    "            \n",
    "        return s\n",
    "\n",
    "s1 = Student()\n",
    "print(s1.sum(7,9,9))"
   ]
  },
  {
   "cell_type": "code",
   "execution_count": 57,
   "id": "970a1ed0",
   "metadata": {},
   "outputs": [
    {
     "name": "stdout",
     "output_type": "stream",
     "text": [
      "in B show\n"
     ]
    }
   ],
   "source": [
    "#overridding\n",
    "class A:\n",
    "    \n",
    "    def show(self):\n",
    "        print(\"in A show\")\n",
    "\n",
    "        \n",
    "class B(A):\n",
    "    def show(self):\n",
    "        print(\"in B show\")\n",
    "\n",
    "\n",
    "a1 = B()\n",
    "a1.show()"
   ]
  },
  {
   "cell_type": "code",
   "execution_count": 1,
   "id": "14ba9606",
   "metadata": {},
   "outputs": [
    {
     "name": "stdout",
     "output_type": "stream",
     "text": [
      "4\n",
      "Square\n",
      "5\n",
      "Pentagon\n"
     ]
    }
   ],
   "source": [
    "\n",
    "class Polygon:\n",
    "    def __init__(self, sides,name):\n",
    "        self.sides = sides \n",
    "        self.name = name\n",
    "    \n",
    "        \n",
    "square = Polygon(4,\"Square\")\n",
    "pentagon = Polygon(5,\"Pentagon\")\n",
    "\n",
    "print(square.sides)\n",
    "print(square.name)\n",
    "print(pentagon.sides)\n",
    "print(pentagon.name)\n"
   ]
  },
  {
   "cell_type": "code",
   "execution_count": 5,
   "id": "1613bb36",
   "metadata": {},
   "outputs": [
    {
     "name": "stdout",
     "output_type": "stream",
     "text": [
      "Bamdev 22 Junior 5000\n",
      "Ganesh 23 Junior 5000\n"
     ]
    }
   ],
   "source": [
    "# name , age,level,salary\n",
    "class SoftwareEngineer:\n",
    "    #class attribute\n",
    "    alias = \"Keyboard Magician\"\n",
    "    def __init__(self,name,age,level,salary):\n",
    "        #instance attributes\n",
    "        self.name = name\n",
    "        self.age = age\n",
    "        self.level = level \n",
    "        self.salary = salary\n",
    "        \n",
    "\n",
    "se1 = SoftwareEngineer('Bamdev',22,'Junior',5000)\n",
    "print(se1.name, se1.age,se1.level,se1.salary)\n",
    "# print(se1.alias)\n",
    "se2 = SoftwareEngineer('Ganesh',23,'Junior',5000)\n",
    "print(se2.name, se2.age,se2.level,se2.salary)\n"
   ]
  },
  {
   "cell_type": "code",
   "execution_count": 10,
   "id": "44a890cc",
   "metadata": {},
   "outputs": [
    {
     "name": "stdout",
     "output_type": "stream",
     "text": [
      "name =Bamdev,age = 22,level = Junior,salary = 5000\n"
     ]
    }
   ],
   "source": [
    "class SoftwareEngineer:\n",
    "    #class attribute\n",
    "    alias = \"Keyboard Magician\"\n",
    "    def __init__(self,name,age,level,salary):\n",
    "        #instance attributes\n",
    "        self.name = name\n",
    "        self.age = age\n",
    "        self.level = level \n",
    "        self.salary = salary\n",
    "        \n",
    "    def code(self):\n",
    "        print(f\"{self.name} is writing code...\")\n",
    "        \n",
    "    def code_in_language(self,language):\n",
    "                print(f\"{self.name} is writing code {language}...\")\n",
    "    \n",
    "    def information(self):\n",
    "        information = f\"name ={self.name},age = {self.age},level = {self.level},salary = {self.salary}\"\n",
    "        return information\n",
    "    \n",
    "    def __str__(self):\n",
    "        information = f\"name ={self.name},age = {self.age},level = {self.level},salary = {self.salary}\"\n",
    "        return information\n",
    "#     def __eq__(self,other):\n",
    "#         return self.name == other.name and self.age == other.age\n",
    "    \n",
    "se1 = SoftwareEngineer('Bamdev',22,'Junior',5000)\n",
    "se2 = SoftwareEngineer('Bamdev',22,'Junior',5000)\n",
    "# se1.code()\n",
    "se1.code_in_language(\"Java\")\n",
    "print(se1.information())\n",
    "# print(se1)\n",
    "\n",
    "# print(se1==se2)"
   ]
  },
  {
   "cell_type": "code",
   "execution_count": 13,
   "id": "991e0fd2",
   "metadata": {},
   "outputs": [
    {
     "name": "stdout",
     "output_type": "stream",
     "text": [
      "Nabin is working\n",
      "Nabin is debugging...\n"
     ]
    },
    {
     "ename": "TypeError",
     "evalue": "__init__() takes 4 positional arguments but 5 were given",
     "output_type": "error",
     "traceback": [
      "\u001b[1;31m---------------------------------------------------------------------------\u001b[0m",
      "\u001b[1;31mTypeError\u001b[0m                                 Traceback (most recent call last)",
      "\u001b[1;32m~\\AppData\\Local\\Temp/ipykernel_8044/2630331531.py\u001b[0m in \u001b[0;36m<module>\u001b[1;34m\u001b[0m\n\u001b[0;32m     23\u001b[0m \u001b[0mse\u001b[0m\u001b[1;33m.\u001b[0m\u001b[0mwork\u001b[0m\u001b[1;33m(\u001b[0m\u001b[1;33m)\u001b[0m\u001b[1;33m\u001b[0m\u001b[1;33m\u001b[0m\u001b[0m\n\u001b[0;32m     24\u001b[0m \u001b[0mse\u001b[0m\u001b[1;33m.\u001b[0m\u001b[0mdebug\u001b[0m\u001b[1;33m(\u001b[0m\u001b[1;33m)\u001b[0m\u001b[1;33m\u001b[0m\u001b[1;33m\u001b[0m\u001b[0m\n\u001b[1;32m---> 25\u001b[1;33m \u001b[0md\u001b[0m \u001b[1;33m=\u001b[0m \u001b[0mDesigner\u001b[0m\u001b[1;33m(\u001b[0m\u001b[1;34m\"Karuna\"\u001b[0m\u001b[1;33m,\u001b[0m\u001b[1;36m22\u001b[0m\u001b[1;33m,\u001b[0m\u001b[1;36m7000\u001b[0m\u001b[1;33m,\u001b[0m\u001b[1;34m\"Junior\"\u001b[0m\u001b[1;33m)\u001b[0m\u001b[1;33m\u001b[0m\u001b[1;33m\u001b[0m\u001b[0m\n\u001b[0m\u001b[0;32m     26\u001b[0m \u001b[0md\u001b[0m\u001b[1;33m.\u001b[0m\u001b[0mworking\u001b[0m\u001b[1;33m(\u001b[0m\u001b[1;33m)\u001b[0m\u001b[1;33m\u001b[0m\u001b[1;33m\u001b[0m\u001b[0m\n",
      "\u001b[1;31mTypeError\u001b[0m: __init__() takes 4 positional arguments but 5 were given"
     ]
    }
   ],
   "source": [
    "class Employee:\n",
    "    def __init__(self,name,age,salary):\n",
    "        self.name = name\n",
    "        self.age = age\n",
    "        self.salary = salary\n",
    "    def work(self):\n",
    "        print(f\"{self.name} is working\")\n",
    "\n",
    "class SoftwareEngineer(Employee):\n",
    "    def __init__(self,name,age,salary,level):\n",
    "        super().__init__(name,age,salary)\n",
    "        self.level = level\n",
    "        \n",
    "    def debug(self):\n",
    "        print(f\"{self.name} is debugging...\")\n",
    "        \n",
    "class Designer(Employee):\n",
    "    def working(self):\n",
    "        print(f\"{self.name} is drawing..\")\n",
    "\n",
    "se = SoftwareEngineer(\"Nabin\",23,10000,\"Junior\")\n",
    "\n",
    "se.work()\n",
    "se.debug()\n",
    "d = Designer(\"Karuna\",22,7000,\"Junior\")\n",
    "d.working()"
   ]
  },
  {
   "cell_type": "code",
   "execution_count": 2,
   "id": "eec8742b",
   "metadata": {},
   "outputs": [
    {
     "ename": "AttributeError",
     "evalue": "'Office' object has no attribute '__sal'",
     "output_type": "error",
     "traceback": [
      "\u001b[1;31m---------------------------------------------------------------------------\u001b[0m",
      "\u001b[1;31mAttributeError\u001b[0m                            Traceback (most recent call last)",
      "\u001b[1;32m~\\AppData\\Local\\Temp/ipykernel_12752/1153605929.py\u001b[0m in \u001b[0;36m<module>\u001b[1;34m\u001b[0m\n\u001b[0;32m      9\u001b[0m         \u001b[0mself\u001b[0m\u001b[1;33m.\u001b[0m\u001b[0m__sal\u001b[0m \u001b[1;33m=\u001b[0m \u001b[0msal\u001b[0m      \u001b[1;31m# private attribute\u001b[0m\u001b[1;33m\u001b[0m\u001b[1;33m\u001b[0m\u001b[0m\n\u001b[0;32m     10\u001b[0m \u001b[0memp\u001b[0m \u001b[1;33m=\u001b[0m \u001b[0mOffice\u001b[0m\u001b[1;33m(\u001b[0m\u001b[1;34m\"Bill\"\u001b[0m\u001b[1;33m,\u001b[0m \u001b[1;36m10000\u001b[0m\u001b[1;33m)\u001b[0m\u001b[1;33m\u001b[0m\u001b[1;33m\u001b[0m\u001b[0m\n\u001b[1;32m---> 11\u001b[1;33m \u001b[0memp\u001b[0m\u001b[1;33m.\u001b[0m\u001b[0m__sal\u001b[0m\u001b[1;33m\u001b[0m\u001b[1;33m\u001b[0m\u001b[0m\n\u001b[0m",
      "\u001b[1;31mAttributeError\u001b[0m: 'Office' object has no attribute '__sal'"
     ]
    }
   ],
   "source": [
    "class employee:\n",
    "    def __init__(self, name, sal):\n",
    "        self.__name=name  # private attribute \n",
    "        self.__salary=sal # private attribute\n",
    "# defining class Employee\n",
    "class Office:\n",
    "    def __init__(self, name, sal):\n",
    "        self.__name = name    # private attribute \n",
    "        self.__sal = sal      # private attribute\n",
    "emp = Office(\"Bill\", 10000)\n",
    "emp.__sal\n"
   ]
  },
  {
   "cell_type": "code",
   "execution_count": 6,
   "id": "3731796c",
   "metadata": {},
   "outputs": [
    {
     "data": {
      "text/plain": [
       "10000"
      ]
     },
     "execution_count": 6,
     "metadata": {},
     "output_type": "execute_result"
    }
   ],
   "source": [
    "class employee:\n",
    "    def __init__(self, name, sal):\n",
    "        self._name=name  # protected attribute \n",
    "        self._salary=sal # protected attribute\n",
    "class Office:\n",
    "    def __init__(self, name, sal):\n",
    "        self._name = name   # protected attribute \n",
    "        self._sal = sal     # protected attribute\n",
    "emp = Office(\"John\", 10000)\n",
    "emp._sal\n"
   ]
  },
  {
   "cell_type": "code",
   "execution_count": 1,
   "id": "195377ac",
   "metadata": {},
   "outputs": [
    {
     "name": "stdout",
     "output_type": "stream",
     "text": [
      "Enter your name Hari\n",
      "Enter your class 12\n",
      "Enter your age 23\n"
     ]
    }
   ],
   "source": [
    "class School:\n",
    "    def __init__(self):\n",
    "        self.faculty = input(\"Enter your faculty \")\n",
    "\n",
    "class Student(School):\n",
    "    def __init__(self):\n",
    "        self._name = input(\"Enter your name \")\n",
    "        self.grade = int(input(\"Enter your class \"))\n",
    "        self.__age = int(input(\"Enter your age \"))\n",
    "        \n",
    "    def grade(self):\n",
    "        print(f\"{self.name}.you study in {self.grade}. I am {self.age} years old\")\n",
    "\n",
    "stu = Student() \n"
   ]
  },
  {
   "cell_type": "code",
   "execution_count": null,
   "id": "4eb73b89",
   "metadata": {},
   "outputs": [],
   "source": []
  }
 ],
 "metadata": {
  "kernelspec": {
   "display_name": "Python 3 (ipykernel)",
   "language": "python",
   "name": "python3"
  },
  "language_info": {
   "codemirror_mode": {
    "name": "ipython",
    "version": 3
   },
   "file_extension": ".py",
   "mimetype": "text/x-python",
   "name": "python",
   "nbconvert_exporter": "python",
   "pygments_lexer": "ipython3",
   "version": "3.9.7"
  }
 },
 "nbformat": 4,
 "nbformat_minor": 5
}
