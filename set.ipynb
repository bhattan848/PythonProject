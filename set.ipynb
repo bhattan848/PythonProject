{
 "cells": [
  {
   "cell_type": "code",
   "execution_count": 2,
   "id": "0d8add73",
   "metadata": {},
   "outputs": [
    {
     "name": "stdout",
     "output_type": "stream",
     "text": [
      "<class 'set'>\n"
     ]
    }
   ],
   "source": [
    "s = {\"Apple\",\"Ball\"}\n",
    "print(type(s))"
   ]
  },
  {
   "cell_type": "code",
   "execution_count": 3,
   "id": "3186f667",
   "metadata": {},
   "outputs": [
    {
     "name": "stdout",
     "output_type": "stream",
     "text": [
      "set()\n"
     ]
    }
   ],
   "source": [
    "s = set()\n",
    "print(s)"
   ]
  },
  {
   "cell_type": "code",
   "execution_count": null,
   "id": "5014681c",
   "metadata": {},
   "outputs": [],
   "source": [
    "# Set\n",
    "# - no indexing\n",
    "# - unordered\n",
    "# - no duplicate members\n",
    "# - mutable"
   ]
  },
  {
   "cell_type": "code",
   "execution_count": 4,
   "id": "f25fdddb",
   "metadata": {},
   "outputs": [
    {
     "ename": "TypeError",
     "evalue": "'set' object is not subscriptable",
     "output_type": "error",
     "traceback": [
      "\u001b[1;31m---------------------------------------------------------------------------\u001b[0m",
      "\u001b[1;31mTypeError\u001b[0m                                 Traceback (most recent call last)",
      "\u001b[1;32m~\\AppData\\Local\\Temp/ipykernel_5644/2983612569.py\u001b[0m in \u001b[0;36m<module>\u001b[1;34m\u001b[0m\n\u001b[0;32m      1\u001b[0m \u001b[0ma\u001b[0m \u001b[1;33m=\u001b[0m \u001b[1;33m{\u001b[0m\u001b[1;36m1\u001b[0m\u001b[1;33m,\u001b[0m\u001b[1;36m2\u001b[0m\u001b[1;33m,\u001b[0m\u001b[1;36m3\u001b[0m\u001b[1;33m,\u001b[0m\u001b[1;36m4\u001b[0m\u001b[1;33m,\u001b[0m\u001b[1;36m5\u001b[0m\u001b[1;33m,\u001b[0m\u001b[1;36m6\u001b[0m\u001b[1;33m,\u001b[0m\u001b[1;36m7\u001b[0m\u001b[1;33m}\u001b[0m\u001b[1;33m\u001b[0m\u001b[1;33m\u001b[0m\u001b[0m\n\u001b[1;32m----> 2\u001b[1;33m \u001b[0mprint\u001b[0m\u001b[1;33m(\u001b[0m\u001b[0ma\u001b[0m\u001b[1;33m[\u001b[0m\u001b[1;36m0\u001b[0m\u001b[1;33m]\u001b[0m\u001b[1;33m)\u001b[0m\u001b[1;33m\u001b[0m\u001b[1;33m\u001b[0m\u001b[0m\n\u001b[0m",
      "\u001b[1;31mTypeError\u001b[0m: 'set' object is not subscriptable"
     ]
    }
   ],
   "source": [
    "a = {1,2,3,4,5,6,7}\n",
    "print(a[0])"
   ]
  },
  {
   "cell_type": "code",
   "execution_count": 5,
   "id": "7f3a54f6",
   "metadata": {},
   "outputs": [
    {
     "name": "stdout",
     "output_type": "stream",
     "text": [
      "{1, 2, 3, 4, 5, 6, 7}\n"
     ]
    }
   ],
   "source": [
    "a = {1,2,3,4,5,6,7,5,3,1,6}\n",
    "print(a)"
   ]
  },
  {
   "cell_type": "code",
   "execution_count": 6,
   "id": "964dc781",
   "metadata": {},
   "outputs": [
    {
     "name": "stdout",
     "output_type": "stream",
     "text": [
      "{'Apple', 'Ball', 'Xray', 'Zebra', 'Cat'}\n"
     ]
    }
   ],
   "source": [
    "a = {\"Apple\",\"Zebra\",\"Ball\",\"Cat\",\"Xray\"}\n",
    "print(a)"
   ]
  },
  {
   "cell_type": "code",
   "execution_count": 7,
   "id": "6d08b88c",
   "metadata": {},
   "outputs": [
    {
     "name": "stdout",
     "output_type": "stream",
     "text": [
      "{'Apple', 'Ball'}\n"
     ]
    }
   ],
   "source": [
    "a = set()\n",
    "a.add(\"Apple\")\n",
    "a.add(\"Ball\")\n",
    "print(a)"
   ]
  },
  {
   "cell_type": "code",
   "execution_count": 9,
   "id": "cb6748f8",
   "metadata": {},
   "outputs": [
    {
     "name": "stdout",
     "output_type": "stream",
     "text": [
      "{0, 1, 2, 3, 4, 5, 6, 9}\n"
     ]
    }
   ],
   "source": [
    "a = [1,2,3,4,5,6,1,4,5,6,2,3,1,2,3,9,0]\n",
    "b = set(a)\n",
    "print(b)"
   ]
  },
  {
   "cell_type": "code",
   "execution_count": 10,
   "id": "b2b6ba88",
   "metadata": {},
   "outputs": [
    {
     "name": "stdout",
     "output_type": "stream",
     "text": [
      "{'Hari', 'Gita'}\n"
     ]
    }
   ],
   "source": [
    "abc = {\"Ram\",\"Shyam\",\"Hari\",\"Sita\",\"Gita\"}\n",
    "xyz = {\"Hari\",\"Akash\",\"Sabin\",\"Sangita\",\"Gita\"}\n",
    "\n",
    "\n",
    "x =  abc.intersection(xyz)\n",
    "print(x)"
   ]
  },
  {
   "cell_type": "code",
   "execution_count": 11,
   "id": "b6b4263b",
   "metadata": {},
   "outputs": [
    {
     "name": "stdout",
     "output_type": "stream",
     "text": [
      "{'Hari', 'Gita', 'Sangita', 'Sita', 'Sabin', 'Ram', 'Shyam', 'Akash'}\n"
     ]
    }
   ],
   "source": [
    "abc = {\"Ram\",\"Shyam\",\"Hari\",\"Sita\",\"Gita\"}\n",
    "xyz = {\"Hari\",\"Akash\",\"Sabin\",\"Sangita\",\"Gita\"}\n",
    "\n",
    "x = abc.union(xyz)\n",
    "print(x)"
   ]
  },
  {
   "cell_type": "code",
   "execution_count": 12,
   "id": "16498c66",
   "metadata": {},
   "outputs": [
    {
     "name": "stdout",
     "output_type": "stream",
     "text": [
      "{'Ram', 'Sita', 'Shyam'}\n"
     ]
    }
   ],
   "source": [
    "abc = {\"Ram\",\"Shyam\",\"Hari\",\"Sita\",\"Gita\"}\n",
    "xyz = {\"Hari\",\"Akash\",\"Sabin\",\"Sangita\",\"Gita\"}\n",
    "\n",
    "x = abc.difference(xyz)\n",
    "print(x)"
   ]
  },
  {
   "cell_type": "code",
   "execution_count": 14,
   "id": "f521c865",
   "metadata": {},
   "outputs": [
    {
     "name": "stdout",
     "output_type": "stream",
     "text": [
      "{'Akash', 'Sangita', 'Sabin'}\n"
     ]
    }
   ],
   "source": [
    "abc = {\"Ram\",\"Shyam\",\"Hari\",\"Sita\",\"Gita\"}\n",
    "xyz = {\"Hari\",\"Akash\",\"Sabin\",\"Sangita\",\"Gita\"}\n",
    "\n",
    "x = xyz.difference(abc)\n",
    "print(x)"
   ]
  },
  {
   "cell_type": "code",
   "execution_count": 16,
   "id": "3a1a86a7",
   "metadata": {},
   "outputs": [
    {
     "name": "stdout",
     "output_type": "stream",
     "text": [
      "{'Bamdev', 'Kirt', 'Mina'}\n"
     ]
    }
   ],
   "source": [
    "U = {'Hari', 'Gita', 'Sangita', 'Sita', 'Sabin', 'Ram', 'Shyam', 'Akash','Mina','Kirt','Bamdev'}\n",
    "abc = {\"Ram\",\"Shyam\",\"Hari\",\"Sita\",\"Gita\"}\n",
    "xyz = {\"Hari\",\"Akash\",\"Sabin\",\"Sangita\",\"Gita\"}\n",
    "\n",
    "x = abc.union(xyz)\n",
    "d = U.difference(x)\n",
    "print(d)"
   ]
  },
  {
   "cell_type": "code",
   "execution_count": 10,
   "id": "68814f7d",
   "metadata": {},
   "outputs": [
    {
     "name": "stdout",
     "output_type": "stream",
     "text": [
      "{1, 2, 3, 4} {'Apple', 'Ball'} {'Apple', 'Ball'} {'name': {'Shyam', 'Ram'}}\n"
     ]
    }
   ],
   "source": [
    "a = {1,2,3,4}\n",
    "b = {\"Apple\",\"Ball\"}\n",
    "\n",
    "d = {(\"Apple\"),(\"Ball\"),}\n",
    "#g = {\"name\":{\"Ram\",\"Shyam\"},{\"name1\":{\"Hari\",\"Sita\"}}\n",
    "     \n",
    "     \n",
    "print(a,b,d,g)"
   ]
  },
  {
   "cell_type": "code",
   "execution_count": 2,
   "id": "5e9dea43",
   "metadata": {},
   "outputs": [
    {
     "ename": "TypeError",
     "evalue": "unhashable type: 'set'",
     "output_type": "error",
     "traceback": [
      "\u001b[1;31m---------------------------------------------------------------------------\u001b[0m",
      "\u001b[1;31mTypeError\u001b[0m                                 Traceback (most recent call last)",
      "\u001b[1;32m~\\AppData\\Local\\Temp/ipykernel_2548/3202791437.py\u001b[0m in \u001b[0;36m<module>\u001b[1;34m\u001b[0m\n\u001b[1;32m----> 1\u001b[1;33m \u001b[0mf\u001b[0m \u001b[1;33m=\u001b[0m \u001b[1;33m{\u001b[0m\u001b[1;33m{\u001b[0m\u001b[1;36m1\u001b[0m\u001b[1;33m,\u001b[0m\u001b[1;36m2\u001b[0m\u001b[1;33m,\u001b[0m\u001b[1;36m3\u001b[0m\u001b[1;33m}\u001b[0m\u001b[1;33m,\u001b[0m\u001b[1;33m{\u001b[0m\u001b[1;36m4\u001b[0m\u001b[1;33m,\u001b[0m\u001b[1;36m5\u001b[0m\u001b[1;33m,\u001b[0m\u001b[1;36m6\u001b[0m\u001b[1;33m}\u001b[0m\u001b[1;33m}\u001b[0m\u001b[1;33m\u001b[0m\u001b[1;33m\u001b[0m\u001b[0m\n\u001b[0m\u001b[0;32m      2\u001b[0m \u001b[0mc\u001b[0m \u001b[1;33m=\u001b[0m \u001b[1;33m{\u001b[0m\u001b[1;33m[\u001b[0m\u001b[1;34m\"Apple\"\u001b[0m\u001b[1;33m]\u001b[0m\u001b[1;33m,\u001b[0m\u001b[1;33m[\u001b[0m\u001b[1;34m\"Ball\"\u001b[0m\u001b[1;33m]\u001b[0m\u001b[1;33m}\u001b[0m\u001b[1;33m\u001b[0m\u001b[1;33m\u001b[0m\u001b[0m\n\u001b[0;32m      3\u001b[0m \u001b[0me\u001b[0m \u001b[1;33m=\u001b[0m \u001b[1;33m{\u001b[0m\u001b[1;33m{\u001b[0m\u001b[1;34m\"name\"\u001b[0m\u001b[1;33m:\u001b[0m\u001b[1;34m\"Ram\"\u001b[0m\u001b[1;33m}\u001b[0m\u001b[1;33m}\u001b[0m\u001b[1;33m\u001b[0m\u001b[1;33m\u001b[0m\u001b[0m\n\u001b[0;32m      4\u001b[0m \u001b[0mprint\u001b[0m\u001b[1;33m(\u001b[0m\u001b[0mf\u001b[0m\u001b[1;33m,\u001b[0m\u001b[0mc\u001b[0m\u001b[1;33m)\u001b[0m\u001b[1;33m\u001b[0m\u001b[1;33m\u001b[0m\u001b[0m\n",
      "\u001b[1;31mTypeError\u001b[0m: unhashable type: 'set'"
     ]
    }
   ],
   "source": [
    "f = {{1,2,3},{4,5,6}}\n",
    "c = {[\"Apple\"],[\"Ball\"]}\n",
    "e = {{\"name\":\"Ram\"}}\n",
    "print(f,c)"
   ]
  },
  {
   "cell_type": "code",
   "execution_count": 11,
   "id": "01e0f75e",
   "metadata": {},
   "outputs": [
    {
     "name": "stdout",
     "output_type": "stream",
     "text": [
      "Sangita\n",
      "Sabin\n",
      "Gita\n",
      "Akash\n",
      "Hari\n"
     ]
    }
   ],
   "source": [
    "xyz = {\"Hari\",\"Akash\",\"Sabin\",\"Sangita\",\"Gita\"}\n",
    "for i in xyz:\n",
    "    print(i)"
   ]
  },
  {
   "cell_type": "code",
   "execution_count": null,
   "id": "bdd21253",
   "metadata": {},
   "outputs": [],
   "source": []
  }
 ],
 "metadata": {
  "kernelspec": {
   "display_name": "Python 3 (ipykernel)",
   "language": "python",
   "name": "python3"
  },
  "language_info": {
   "codemirror_mode": {
    "name": "ipython",
    "version": 3
   },
   "file_extension": ".py",
   "mimetype": "text/x-python",
   "name": "python",
   "nbconvert_exporter": "python",
   "pygments_lexer": "ipython3",
   "version": "3.9.7"
  }
 },
 "nbformat": 4,
 "nbformat_minor": 5
}
