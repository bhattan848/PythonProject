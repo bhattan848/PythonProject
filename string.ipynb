{
 "cells": [
  {
   "cell_type": "code",
   "execution_count": 1,
   "id": "b3b1a7d0",
   "metadata": {},
   "outputs": [
    {
     "name": "stdout",
     "output_type": "stream",
     "text": [
      "<class 'str'>\n"
     ]
    }
   ],
   "source": [
    "#imutable datatype\n",
    "a = \"Hello World!\"\n",
    "print(type(a))"
   ]
  },
  {
   "cell_type": "code",
   "execution_count": 2,
   "id": "ff21419a",
   "metadata": {},
   "outputs": [
    {
     "name": "stdout",
     "output_type": "stream",
     "text": [
      "Hello World\n"
     ]
    }
   ],
   "source": [
    "a = \"Hello \"\n",
    "b = \"World\"\n",
    "c = a+b\n",
    "print(c)\n"
   ]
  },
  {
   "cell_type": "code",
   "execution_count": 3,
   "id": "c8ad6629",
   "metadata": {},
   "outputs": [
    {
     "name": "stdout",
     "output_type": "stream",
     "text": [
      "Hello\n"
     ]
    }
   ],
   "source": [
    "a = \"Hello World\"\n",
    "print(a[0:5])"
   ]
  },
  {
   "cell_type": "code",
   "execution_count": 4,
   "id": "ad0ed78f",
   "metadata": {},
   "outputs": [
    {
     "name": "stdout",
     "output_type": "stream",
     "text": [
      "Hlo\n"
     ]
    }
   ],
   "source": [
    "a = \"Hello World\"\n",
    "print(a[0:6:2])"
   ]
  },
  {
   "cell_type": "code",
   "execution_count": 6,
   "id": "34b3f1fe",
   "metadata": {},
   "outputs": [
    {
     "name": "stdout",
     "output_type": "stream",
     "text": [
      "11\n",
      "dlroW olleH\n"
     ]
    }
   ],
   "source": [
    "a = \"Hello World\"\n",
    "l = len(a)\n",
    "print(l)\n",
    "print(a[l::-1])"
   ]
  },
  {
   "cell_type": "code",
   "execution_count": 7,
   "id": "a27366e4",
   "metadata": {},
   "outputs": [
    {
     "name": "stdout",
     "output_type": "stream",
     "text": [
      "d\n"
     ]
    }
   ],
   "source": [
    "a = \"Hello World\"\n",
    "l = len(a)\n",
    "print(a[l-1])"
   ]
  },
  {
   "cell_type": "code",
   "execution_count": 9,
   "id": "72fe54e3",
   "metadata": {},
   "outputs": [
    {
     "name": "stdout",
     "output_type": "stream",
     "text": [
      "Hello World"
     ]
    }
   ],
   "source": [
    "for i in a:\n",
    "    print(i, end=\"\")"
   ]
  },
  {
   "cell_type": "code",
   "execution_count": 5,
   "id": "b470814d",
   "metadata": {},
   "outputs": [
    {
     "name": "stdout",
     "output_type": "stream",
     "text": [
      "Enter n =2\n",
      "Enter name = hari \n",
      "Enter phone= 547888\n",
      "Enter name = ram\n",
      "Enter phone= 47888\n",
      " hari  547888\n",
      " ram 47888\n",
      "\n"
     ]
    }
   ],
   "source": [
    "#string formatting\n",
    "s = \"\"\n",
    "n = int(input(\"Enter n =\"))\n",
    "for i in range(n):\n",
    "    name = input(\"Enter name = \")\n",
    "    phone = input(\"Enter phone= \")\n",
    "    info = name + \" \"  +phone\n",
    "    s = s+ \" \" + info +\"\\n\"\n",
    "\n",
    "print(s)\n",
    "    "
   ]
  },
  {
   "cell_type": "code",
   "execution_count": 8,
   "id": "5e1f458c",
   "metadata": {},
   "outputs": [
    {
     "name": "stdout",
     "output_type": "stream",
     "text": [
      "Hello I am ramI am from KathmanduI am 25\n",
      "Hello I am ram. I am from Kathmandu. I am 25\n"
     ]
    }
   ],
   "source": [
    "\n",
    "name = \"ram\"\n",
    "age = 25\n",
    "address = \"Kathmandu\"\n",
    "\n",
    "x = \"Hello I am \"+name+\"I am from \"+address+\"I am \"+str(age)\n",
    "print(x)\n",
    "y = f\"Hello I am {name}. I am from {address}. I am {age}\"  #string formatting\n",
    "print(y)"
   ]
  },
  {
   "cell_type": "code",
   "execution_count": 9,
   "id": "f87be1e9",
   "metadata": {},
   "outputs": [
    {
     "name": "stdout",
     "output_type": "stream",
     "text": [
      "Enter n =2\n",
      "Enter name = ram\n",
      "Enter phone= 9843912388\n",
      "Enter name = hari\n",
      "Enter phone= 9862499522\n",
      "ram 9843912388\n",
      "hari 9862499522\n",
      "\n"
     ]
    }
   ],
   "source": [
    "s = \"\"\n",
    "n = int(input(\"Enter n =\"))\n",
    "for i in range(n):\n",
    "    name = input(\"Enter name = \")\n",
    "    phone = input(\"Enter phone= \")\n",
    "    info = f\"{name} {phone}\\n\"\n",
    "    s = s+ info\n",
    "\n",
    "print(s)\n",
    "    "
   ]
  },
  {
   "cell_type": "code",
   "execution_count": 12,
   "id": "9e7cb29f",
   "metadata": {},
   "outputs": [
    {
     "name": "stdout",
     "output_type": "stream",
     "text": [
      "Enter n =2\n",
      "Enter product name = momo\n",
      "Enter price = 200\n",
      "Enter quantity = 5\n",
      "Enter product name = coke\n",
      "Enter price = 45\n",
      "Enter quantity = 5\n",
      "product Price Quantity Total\n",
      "\n",
      " momo 200 5 1000\n",
      " coke 45 5 225\n",
      " \n",
      "\n",
      "All total = 1225\n"
     ]
    }
   ],
   "source": [
    "s = \"\"\n",
    "all_total = 0\n",
    "n = int(input(\"Enter n =\"))\n",
    "for i in range(n):\n",
    "    name = input(\"Enter product name = \")\n",
    "    price = int(input(\"Enter price = \"))\n",
    "    quantity = int(input(\"Enter quantity = \"))\n",
    "    total = price * quantity\n",
    "    info = f\"{name} {price} {quantity} {total}\"\n",
    "    s = s+ \" \" + info +\"\\n\"\n",
    "    all_total = all_total+total\n",
    "print(\"product Price Quantity Total\\n\")\n",
    "print(s,\"\\n\")\n",
    "print(\"All total =\",all_total)\n",
    "    "
   ]
  },
  {
   "cell_type": "code",
   "execution_count": 19,
   "id": "849722a6",
   "metadata": {},
   "outputs": [
    {
     "name": "stdout",
     "output_type": "stream",
     "text": [
      "RAM Shyam Hari Sita Gita\n",
      "Ram Shyam Hari Sita Gita\n"
     ]
    }
   ],
   "source": [
    "#replace()\n",
    "a = \"Ram Shyam Hari Sita Gita\"\n",
    "print(a.replace(\"Ram\",\"RAM\"))\n",
    "print(a)"
   ]
  },
  {
   "cell_type": "code",
   "execution_count": 16,
   "id": "5ae214d6",
   "metadata": {},
   "outputs": [
    {
     "name": "stdout",
     "output_type": "stream",
     "text": [
      "RAM Shyam Hari Sita Gita\n"
     ]
    }
   ],
   "source": [
    "a = \"Ram Shyam Hari Sita Gita\"\n",
    "a = a.replace(\"Ram\",\"RAM\")\n",
    "print(a)"
   ]
  },
  {
   "cell_type": "code",
   "execution_count": 14,
   "id": "9efef909",
   "metadata": {},
   "outputs": [
    {
     "data": {
      "text/plain": [
       "' Shyam Hari Sita Gita'"
      ]
     },
     "execution_count": 14,
     "metadata": {},
     "output_type": "execute_result"
    }
   ],
   "source": [
    "a = \"Ram Shyam Hari Sita Gita\"\n",
    "a.replace(\"Ram\",\"\")"
   ]
  },
  {
   "cell_type": "code",
   "execution_count": 23,
   "id": "9256e609",
   "metadata": {},
   "outputs": [
    {
     "name": "stdout",
     "output_type": "stream",
     "text": [
      "Enter name = Ram\n",
      "Yes 2\n"
     ]
    }
   ],
   "source": [
    "#search\n",
    "a = \"Ram Shyam Hari Sita Gita Ram\"\n",
    "name = input(\"Enter name = \")\n",
    "if name in a:\n",
    "    print(\"Yes\",a.count(name))"
   ]
  },
  {
   "cell_type": "code",
   "execution_count": 26,
   "id": "f4016074",
   "metadata": {},
   "outputs": [
    {
     "name": "stdout",
     "output_type": "stream",
     "text": [
      "ram\n",
      "RAM SHYAM HARI SITA GITA RAM\n",
      "ram shyam hari sita gita ram\n"
     ]
    }
   ],
   "source": [
    "a = \"Ram Shyam Hari Sita Gita Ram\"\n",
    "name = \"ram\"\n",
    "print(name.lower())\n",
    "print(a.upper())\n",
    "print(a.lower())"
   ]
  },
  {
   "cell_type": "code",
   "execution_count": 22,
   "id": "4fae74d0",
   "metadata": {},
   "outputs": [
    {
     "data": {
      "text/plain": [
       "1"
      ]
     },
     "execution_count": 22,
     "metadata": {},
     "output_type": "execute_result"
    }
   ],
   "source": [
    "a = \"Ram Shyam Hari Sita Gita\"\n",
    "a.count(\"Ram\")"
   ]
  },
  {
   "cell_type": "code",
   "execution_count": 27,
   "id": "b90e3625",
   "metadata": {},
   "outputs": [
    {
     "data": {
      "text/plain": [
       "'A'"
      ]
     },
     "execution_count": 27,
     "metadata": {},
     "output_type": "execute_result"
    }
   ],
   "source": [
    "name = \"Ram Shyam Hari Sita Gita\"\n",
    "name[1].upper()"
   ]
  },
  {
   "cell_type": "code",
   "execution_count": 1,
   "id": "6cd5e7ae",
   "metadata": {},
   "outputs": [
    {
     "data": {
      "text/plain": [
       "'RAm Shyam Hari Sita Gita'"
      ]
     },
     "execution_count": 1,
     "metadata": {},
     "output_type": "execute_result"
    }
   ],
   "source": [
    "name = \"Ram Shyam Hari Sita Gita\"\n",
    "x = name[1].upper()\n",
    "y = name[0]\n",
    "z = name[2:]\n",
    "final = y+x+z\n",
    "final"
   ]
  },
  {
   "cell_type": "code",
   "execution_count": 3,
   "id": "88f97fc7",
   "metadata": {},
   "outputs": [
    {
     "data": {
      "text/plain": [
       "'RAm ShyAm HAri SitA GitA'"
      ]
     },
     "execution_count": 3,
     "metadata": {},
     "output_type": "execute_result"
    }
   ],
   "source": [
    "name = \"Ram Shyam Hari Sita Gita\"\n",
    "for i in name :\n",
    "    name = name.replace(\"a\",\"A\")\n",
    "name"
   ]
  },
  {
   "cell_type": "code",
   "execution_count": 4,
   "id": "5a0cfb74",
   "metadata": {},
   "outputs": [
    {
     "data": {
      "text/plain": [
       "'RAm ShyAm HAri SitA GitA'"
      ]
     },
     "execution_count": 4,
     "metadata": {},
     "output_type": "execute_result"
    }
   ],
   "source": [
    "name = \"Ram Shyam Hari Sita Gita\"\n",
    "name = name.replace(\"a\",\"A\")\n",
    "name"
   ]
  },
  {
   "cell_type": "code",
   "execution_count": null,
   "id": "b46832e7",
   "metadata": {},
   "outputs": [],
   "source": [
    "s = \" \"\n",
    "n = int(input(\"Enter n =\"))\n",
    "for i in range(n):\n",
    "    name = input('Enter student name ')\n",
    "    english = float(input('Enter marks of english: '))\n",
    "    science = float(input('Enter marks of science: '))\n",
    "    maths = float(input('Enter marks of maths: '))\n",
    "    computer = float(input('Enter marks of computer: '))\n",
    "    social = float(input('Enter marks of social: '))\n",
    "\n",
    "    avg = (english + science + maths + computer + social)/5\n",
    "\n",
    "\n",
    "    print('The percentage is = %0.2f'%avg)\n",
    "\n",
    "    if avg>=80:\n",
    "        grade = 'A'\n",
    "    elif avg>=60:\n",
    "         grade = 'B'\n",
    "    elif avg>=50:\n",
    "         grade = 'C'\n",
    "    else:\n",
    "         grade = 'F'\n",
    "    details = f\"{name}\\n {english} {science} {maths} {computer} {social} {avg} {grade}\"\n",
    "   # info = f\"{name}  your grade is {grade}\\n\"\n",
    "    s = s + \" \" + details +\"\\n\"\n",
    "print(\"Name English Science Maths Computer Social Percentage Grade\\n\")\n",
    "print(s)"
   ]
  },
  {
   "cell_type": "code",
   "execution_count": null,
   "id": "853aaf2c",
   "metadata": {},
   "outputs": [],
   "source": []
  }
 ],
 "metadata": {
  "kernelspec": {
   "display_name": "Python 3 (ipykernel)",
   "language": "python",
   "name": "python3"
  },
  "language_info": {
   "codemirror_mode": {
    "name": "ipython",
    "version": 3
   },
   "file_extension": ".py",
   "mimetype": "text/x-python",
   "name": "python",
   "nbconvert_exporter": "python",
   "pygments_lexer": "ipython3",
   "version": "3.9.7"
  }
 },
 "nbformat": 4,
 "nbformat_minor": 5
}
