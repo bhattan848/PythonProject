{
 "cells": [
  {
   "cell_type": "code",
   "execution_count": null,
   "id": "889bfa65",
   "metadata": {},
   "outputs": [],
   "source": [
    "# Tuple \n",
    "# - Indexed\n",
    "# - Multiple data\n",
    "# - Ordered\n",
    "# - Imutable"
   ]
  },
  {
   "cell_type": "code",
   "execution_count": 1,
   "id": "4777788e",
   "metadata": {},
   "outputs": [
    {
     "name": "stdout",
     "output_type": "stream",
     "text": [
      "<class 'tuple'>\n",
      "('Apple', 'Ball', 'Cat')\n"
     ]
    }
   ],
   "source": [
    "a = (\"Apple\",\"Ball\",\"Cat\")\n",
    "print(type(a))\n",
    "print(a)"
   ]
  },
  {
   "cell_type": "code",
   "execution_count": 2,
   "id": "41a08628",
   "metadata": {},
   "outputs": [
    {
     "name": "stdout",
     "output_type": "stream",
     "text": [
      "Apple\n"
     ]
    }
   ],
   "source": [
    "a = (\"Apple\",\"Ball\",\"Cat\")\n",
    "print(a[0])"
   ]
  },
  {
   "cell_type": "code",
   "execution_count": 4,
   "id": "4872cd95",
   "metadata": {},
   "outputs": [
    {
     "name": "stdout",
     "output_type": "stream",
     "text": [
      "(1, 2, 3, 4)\n",
      "(1, 3, 5, 7, 9)\n"
     ]
    }
   ],
   "source": [
    "a = (1,2,3,4,5,6,7,8,9,10)\n",
    "print(a[0:4])\n",
    "print(a[0:9:2])"
   ]
  },
  {
   "cell_type": "code",
   "execution_count": 5,
   "id": "3199d584",
   "metadata": {},
   "outputs": [
    {
     "data": {
      "text/plain": [
       "('Apple', 'Ball', 'Cat', 'Dog', 'Fish')"
      ]
     },
     "execution_count": 5,
     "metadata": {},
     "output_type": "execute_result"
    }
   ],
   "source": [
    "a = (\"Apple\",\"Ball\",\"Cat\")\n",
    "b = (\"Dog\",\"Fish\")\n",
    "c = a+b\n",
    "c"
   ]
  },
  {
   "cell_type": "code",
   "execution_count": 6,
   "id": "9e29f74f",
   "metadata": {},
   "outputs": [
    {
     "name": "stdout",
     "output_type": "stream",
     "text": [
      "('Apple', 'Ball', 'Cat', 'Apple', 'Ball', 'Cat')\n"
     ]
    }
   ],
   "source": [
    "a = (\"Apple\",\"Ball\",\"Cat\")\n",
    "print(a*2)"
   ]
  },
  {
   "cell_type": "code",
   "execution_count": 7,
   "id": "c8377d87",
   "metadata": {},
   "outputs": [
    {
     "name": "stdout",
     "output_type": "stream",
     "text": [
      "<class 'tuple'>\n"
     ]
    }
   ],
   "source": [
    "a = (\"Apple\",)\n",
    "print(type(a))"
   ]
  },
  {
   "cell_type": "code",
   "execution_count": 8,
   "id": "1f9d17cc",
   "metadata": {},
   "outputs": [
    {
     "name": "stdout",
     "output_type": "stream",
     "text": [
      "<class 'str'>\n"
     ]
    }
   ],
   "source": [
    "a = (\"Apple\")\n",
    "print(type(a))"
   ]
  },
  {
   "cell_type": "code",
   "execution_count": null,
   "id": "708d9c39",
   "metadata": {},
   "outputs": [],
   "source": [
    "#No append() extend() insert() update() del remove pop()"
   ]
  },
  {
   "cell_type": "code",
   "execution_count": 9,
   "id": "c2847d24",
   "metadata": {},
   "outputs": [
    {
     "name": "stdout",
     "output_type": "stream",
     "text": [
      "Enter n =2\n",
      "Enter x =hello\n",
      "Enter x =world\n",
      "('hello', 'world')\n"
     ]
    }
   ],
   "source": [
    "t = tuple()\n",
    "n = int(input(\"Enter n =\"))\n",
    "for i in range(n):\n",
    "    x = input(\"Enter x =\")\n",
    "    t = t + (x,)\n",
    "print(t)"
   ]
  },
  {
   "cell_type": "code",
   "execution_count": 10,
   "id": "9c5c4462",
   "metadata": {},
   "outputs": [
    {
     "data": {
      "text/plain": [
       "['Apple', 'Ball', 'Cat', 'Dog', 'Fish']"
      ]
     },
     "execution_count": 10,
     "metadata": {},
     "output_type": "execute_result"
    }
   ],
   "source": [
    "a = ('Apple', 'Ball', 'Cat', 'Dog', 'Fish')\n",
    "list(a)"
   ]
  },
  {
   "cell_type": "code",
   "execution_count": 11,
   "id": "0b041d7b",
   "metadata": {},
   "outputs": [
    {
     "data": {
      "text/plain": [
       "('Apple', 'Ball', 'Cat', 'Dog', 'Fish')"
      ]
     },
     "execution_count": 11,
     "metadata": {},
     "output_type": "execute_result"
    }
   ],
   "source": [
    "a = ['Apple', 'Ball', 'Cat', 'Dog', 'Fish']\n",
    "tuple(a)"
   ]
  },
  {
   "cell_type": "code",
   "execution_count": 12,
   "id": "5a07dbf1",
   "metadata": {},
   "outputs": [
    {
     "name": "stdout",
     "output_type": "stream",
     "text": [
      "Sum =  3162\n",
      "Maximum value =  999\n",
      "Minimum value = 123\n"
     ]
    }
   ],
   "source": [
    "a = (123,345,667,342,123,563,999)\n",
    "print(\"Sum = \",sum(a))\n",
    "print(\"Maximum value = \",max(a))\n",
    "print(\"Minimum value =\",min(a))"
   ]
  },
  {
   "cell_type": "code",
   "execution_count": 13,
   "id": "d0c95fbf",
   "metadata": {},
   "outputs": [
    {
     "data": {
      "text/plain": [
       "[123, 123, 342, 345, 563, 667, 999]"
      ]
     },
     "execution_count": 13,
     "metadata": {},
     "output_type": "execute_result"
    }
   ],
   "source": [
    "a = (123,345,667,342,123,563,999)\n",
    "sorted(a)"
   ]
  },
  {
   "cell_type": "code",
   "execution_count": 14,
   "id": "618a0940",
   "metadata": {},
   "outputs": [
    {
     "name": "stdout",
     "output_type": "stream",
     "text": [
      "[123, 123, 342, 345, 563, 667, 999]\n"
     ]
    },
    {
     "data": {
      "text/plain": [
       "[123, 345, 667, 342, 123, 563, 999]"
      ]
     },
     "execution_count": 14,
     "metadata": {},
     "output_type": "execute_result"
    }
   ],
   "source": [
    "a = [123,345,667,342,123,563,999]\n",
    "print(sorted(a))\n",
    "a"
   ]
  },
  {
   "cell_type": "code",
   "execution_count": 15,
   "id": "ac768a16",
   "metadata": {},
   "outputs": [
    {
     "name": "stdout",
     "output_type": "stream",
     "text": [
      "(1, 2, 3, 4, 5, 6, 7, 8, 9)\n"
     ]
    }
   ],
   "source": [
    "a = 1,2,3,4,5,6,7,8,9\n",
    "print(a)"
   ]
  },
  {
   "cell_type": "code",
   "execution_count": 17,
   "id": "eb606b71",
   "metadata": {},
   "outputs": [
    {
     "data": {
      "text/plain": [
       "[123, 123, 342, 345, 563, 667, 999]"
      ]
     },
     "execution_count": 17,
     "metadata": {},
     "output_type": "execute_result"
    }
   ],
   "source": [
    "a = [123,345,667,342,123,563,999]\n",
    "a.sort()\n",
    "a"
   ]
  },
  {
   "cell_type": "code",
   "execution_count": 18,
   "id": "caadb347",
   "metadata": {},
   "outputs": [
    {
     "name": "stdout",
     "output_type": "stream",
     "text": [
      "(30, 270)\n"
     ]
    }
   ],
   "source": [
    "def cal():\n",
    "    l =5\n",
    "    b=6\n",
    "    h= 9\n",
    "    a = l*b\n",
    "    v = a*h\n",
    "    return a,v\n",
    "print(cal())"
   ]
  },
  {
   "cell_type": "code",
   "execution_count": 19,
   "id": "4c903626",
   "metadata": {},
   "outputs": [
    {
     "name": "stdout",
     "output_type": "stream",
     "text": [
      "('Apple', 'Ball', 'Dog', 'Fish')\n"
     ]
    }
   ],
   "source": [
    "#remove item form tuple\n",
    "a = ('Apple', 'Ball', 'Cat', 'Dog', 'Fish')\n",
    "b = a[0:2]\n",
    "c = a[3:]\n",
    "d = b +c\n",
    "print(d)"
   ]
  },
  {
   "cell_type": "code",
   "execution_count": 20,
   "id": "ef9e89b7",
   "metadata": {},
   "outputs": [
    {
     "data": {
      "text/plain": [
       "('Apple', 'Ball', 'Cat', 'cat', 'Dog', 'Fish')"
      ]
     },
     "execution_count": 20,
     "metadata": {},
     "output_type": "execute_result"
    }
   ],
   "source": [
    "a = ('Apple', 'Ball', 'Cat', 'Dog', 'Fish')\n",
    "b = a[0:3]\n",
    "c = a[3:]\n",
    "d = ('cat',)\n",
    "r = b +d +c\n",
    "r\n"
   ]
  },
  {
   "cell_type": "code",
   "execution_count": 2,
   "id": "436021a5",
   "metadata": {},
   "outputs": [
    {
     "name": "stdout",
     "output_type": "stream",
     "text": [
      "Enter n = 2\n",
      "Enter name = Ganesh Pant\n",
      "Enter age =23\n",
      "Enter address = Dadeldhura\n",
      "Enter name = Bamdev Bhatta\n",
      "Enter age =23\n",
      "Enter address = Kailai\n",
      "('Ganesh Pant', '23', 'Dadeldhura', 'Bamdev Bhatta', '23', 'Kailai')\n"
     ]
    }
   ],
   "source": [
    "t  = ()\n",
    "n = int(input(\"Enter n = \"))\n",
    "for i in range(n):\n",
    "    name = input(\"Enter name = \")\n",
    "    age = input(\"Enter age =\")\n",
    "    add = input(\"Enter address = \")\n",
    "    t = t + (name,age,add,)\n",
    "print(t)"
   ]
  },
  {
   "cell_type": "code",
   "execution_count": 3,
   "id": "5d10743b",
   "metadata": {},
   "outputs": [
    {
     "name": "stdout",
     "output_type": "stream",
     "text": [
      "<class 'tuple'>\n"
     ]
    }
   ],
   "source": [
    "#tuple inside tuple\n",
    "a = ((1,2,3),(4,5,6),(7,8,9))\n",
    "print(type(a))"
   ]
  },
  {
   "cell_type": "code",
   "execution_count": 5,
   "id": "2a5f3a55",
   "metadata": {},
   "outputs": [
    {
     "name": "stdout",
     "output_type": "stream",
     "text": [
      "('Ram', 24, 'Kathmandu')\n"
     ]
    }
   ],
   "source": [
    "a = ((\"Ram\", 24,\"Kathmandu\"),(\"Shyam\",34,\"Patan\"),(\"Hari\",45,\"Bara\"))\n",
    "print(a[0])"
   ]
  },
  {
   "cell_type": "code",
   "execution_count": 6,
   "id": "87e7c831",
   "metadata": {},
   "outputs": [
    {
     "name": "stdout",
     "output_type": "stream",
     "text": [
      "('Ram', 24, 'Kathmandu')\n",
      "('Shyam', 34, 'Patan')\n",
      "('Hari', 45, 'Bara')\n"
     ]
    }
   ],
   "source": [
    "for i in a:\n",
    "    print(i)"
   ]
  },
  {
   "cell_type": "code",
   "execution_count": 7,
   "id": "4e57f22f",
   "metadata": {},
   "outputs": [
    {
     "name": "stdout",
     "output_type": "stream",
     "text": [
      "('Ram', 24, 'Kathmandu')\n"
     ]
    }
   ],
   "source": [
    "a = ((\"Ram\", 24,\"Kathmandu\"),(\"Shyam\",34,\"Patan\"),(\"Hari\",45,\"Bara\"))\n",
    "for i in a:\n",
    "    if \"Ram\" in i :\n",
    "        print(i)\n",
    "        "
   ]
  },
  {
   "cell_type": "code",
   "execution_count": 6,
   "id": "c817b96e",
   "metadata": {},
   "outputs": [
    {
     "name": "stdout",
     "output_type": "stream",
     "text": [
      "Enter n = 5\n",
      "Enter name :ram\n",
      "Enter age :25\n",
      "Enter address :ktm\n",
      "Enter name :hari\n",
      "Enter age :22\n",
      "Enter address :btd\n",
      "Enter name :shyam\n",
      "Enter age :22\n",
      "Enter address :bara\n",
      "Enter name :ganesh\n",
      "Enter age :24\n",
      "Enter address :ddl\n",
      "Enter name :nabin\n",
      "Enter age :24\n",
      "Enter address :n=ep\n",
      "(('ram', '25', 'ktm'), ('hari', '22', 'btd'), ('shyam', '22', 'bara'), ('ganesh', '24', 'ddl'), ('nabin', '24', 'n=ep'))\n"
     ]
    }
   ],
   "source": [
    "info = tuple()\n",
    "n = int(input(\"Enter n = \"))\n",
    "for i in range(n):\n",
    "    name = input(\"Enter name :\")\n",
    "    age = input(\"Enter age :\")\n",
    "    add = input(\"Enter address :\")\n",
    "    info = info + ((name,age,add),)\n",
    "print(info)"
   ]
  },
  {
   "cell_type": "code",
   "execution_count": 3,
   "id": "75dcb353",
   "metadata": {},
   "outputs": [
    {
     "data": {
      "text/plain": [
       "[('Ram', '24', 'Kathmandu'), ('Sita', '22', 'Patan')]"
      ]
     },
     "execution_count": 3,
     "metadata": {},
     "output_type": "execute_result"
    }
   ],
   "source": [
    "a = (('Ram', '24', 'Kathmandu'), ('Sita', '22', 'Patan'))\n",
    "b = list(a)\n",
    "b"
   ]
  },
  {
   "cell_type": "code",
   "execution_count": 5,
   "id": "d85b953e",
   "metadata": {},
   "outputs": [
    {
     "name": "stdout",
     "output_type": "stream",
     "text": [
      "[['Ram', '24', 'Kathmandu'], ['Sita', '22', 'Patan']]\n"
     ]
    }
   ],
   "source": [
    "b = list()\n",
    "a = (('Ram', '24', 'Kathmandu'), ('Sita', '22', 'Patan'))\n",
    "for i in a:\n",
    "    b.append(list(i))\n",
    "print(b)"
   ]
  },
  {
   "cell_type": "code",
   "execution_count": 1,
   "id": "9b68b473",
   "metadata": {},
   "outputs": [
    {
     "name": "stdout",
     "output_type": "stream",
     "text": [
      "1 2 3 \n",
      "4 5 6 \n",
      "7 8 9 \n"
     ]
    }
   ],
   "source": [
    "# write a program to create a matrix using list inside list and tuple inside tuple\n",
    "matrix = [[1,2,3],[4,5,6],[7,8,9]]\n",
    "for i in range(3):\n",
    "    for j in range(3):\n",
    "        print(matrix[i][j],end = ' ')\n",
    "    print()\n"
   ]
  },
  {
   "cell_type": "code",
   "execution_count": 13,
   "id": "6e5701b0",
   "metadata": {},
   "outputs": [
    {
     "name": "stdout",
     "output_type": "stream",
     "text": [
      "Enter rows =3\n",
      "Enter columns = 3\n",
      "Enter elements 4\n",
      "Enter elements 5\n",
      "Enter elements 7\n",
      "Enter elements 8\n",
      "Enter elements 9\n",
      "Enter elements 6\n",
      "Enter elements 8\n",
      "Enter elements 9\n",
      "Enter elements 1\n",
      "4 5 7 \n",
      "8 9 6 \n",
      "8 9 1 \n"
     ]
    }
   ],
   "source": [
    "# input matrix using list\n",
    "row = int(input(\"Enter rows =\"))\n",
    "col = int(input(\"Enter columns = \"))\n",
    "matrix = []\n",
    "\n",
    "for i in range(row):\n",
    "    temp = []\n",
    "    for j in range(col):\n",
    "        a = int(input(\"Enter elements \"))\n",
    "        temp.append(a)\n",
    "    matrix.append(temp)\n",
    "for i in range(row):\n",
    "    for j in range(col):\n",
    "        print(matrix[i][j],end = ' ')\n",
    "    print()"
   ]
  },
  {
   "cell_type": "code",
   "execution_count": null,
   "id": "c68be3aa",
   "metadata": {},
   "outputs": [],
   "source": [
    "\n"
   ]
  }
 ],
 "metadata": {
  "kernelspec": {
   "display_name": "Python 3 (ipykernel)",
   "language": "python",
   "name": "python3"
  },
  "language_info": {
   "codemirror_mode": {
    "name": "ipython",
    "version": 3
   },
   "file_extension": ".py",
   "mimetype": "text/x-python",
   "name": "python",
   "nbconvert_exporter": "python",
   "pygments_lexer": "ipython3",
   "version": "3.9.7"
  }
 },
 "nbformat": 4,
 "nbformat_minor": 5
}
