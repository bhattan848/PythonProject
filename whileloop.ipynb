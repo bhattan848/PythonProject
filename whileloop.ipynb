{
 "cells": [
  {
   "cell_type": "code",
   "execution_count": 6,
   "id": "454b3e43",
   "metadata": {},
   "outputs": [],
   "source": [
    "# while <condition>:\n",
    "#    <operation>\n",
    " "
   ]
  },
  {
   "cell_type": "code",
   "execution_count": 5,
   "id": "01ae1539",
   "metadata": {},
   "outputs": [
    {
     "name": "stdout",
     "output_type": "stream",
     "text": [
      "Hello World! \n",
      "Hello World! \n",
      "Hello World! \n",
      "Hello World! \n",
      "Hello World! \n"
     ]
    }
   ],
   "source": [
    " a = 0 \n",
    "while a<5:\n",
    "    print(\"Hello World! \")\n",
    "    a = a+1"
   ]
  },
  {
   "cell_type": "code",
   "execution_count": 7,
   "id": "7bae88d4",
   "metadata": {},
   "outputs": [
    {
     "name": "stdout",
     "output_type": "stream",
     "text": [
      "1 Hello World! \n",
      "2 Hello World! \n",
      "3 Hello World! \n",
      "4 Hello World! \n"
     ]
    }
   ],
   "source": [
    " a = 1\n",
    "while a<5:\n",
    "    print(a, \"Hello World! \")\n",
    "    a = a+1"
   ]
  },
  {
   "cell_type": "code",
   "execution_count": 8,
   "id": "38b784c6",
   "metadata": {},
   "outputs": [
    {
     "name": "stdout",
     "output_type": "stream",
     "text": [
      "Hello World! \n",
      "Hello World! \n"
     ]
    }
   ],
   "source": [
    " a = 1 \n",
    "while a<5:\n",
    "    print(\"Hello World! \")\n",
    "    a = a+2"
   ]
  },
  {
   "cell_type": "code",
   "execution_count": 1,
   "id": "c2d81dcd",
   "metadata": {},
   "outputs": [
    {
     "name": "stdout",
     "output_type": "stream",
     "text": [
      "Enter a : 9\n",
      "9 * 1 = 9\n",
      "9 * 2 = 18\n",
      "9 * 3 = 27\n",
      "9 * 4 = 36\n",
      "9 * 5 = 45\n",
      "9 * 6 = 54\n",
      "9 * 7 = 63\n",
      "9 * 8 = 72\n",
      "9 * 9 = 81\n",
      "9 * 10 = 90\n"
     ]
    }
   ],
   "source": [
    "a = int(input(\"Enter a : \"))\n",
    "i = 1\n",
    "while i<=10:\n",
    "    print(a, '*' , i,\"=\" , a*i)\n",
    "    i = i+1\n",
    "    "
   ]
  },
  {
   "cell_type": "code",
   "execution_count": 4,
   "id": "67380c7a",
   "metadata": {},
   "outputs": [
    {
     "name": "stdout",
     "output_type": "stream",
     "text": [
      "5 Hello World!\n",
      "4 Hello World!\n",
      "3 Hello World!\n",
      "2 Hello World!\n",
      "1 Hello World!\n"
     ]
    }
   ],
   "source": [
    " a = 5\n",
    "while a>0:\n",
    "    print(a,\"Hello World!\")\n",
    "    a = a-1"
   ]
  },
  {
   "cell_type": "code",
   "execution_count": 5,
   "id": "6f93ce59",
   "metadata": {},
   "outputs": [
    {
     "name": "stdout",
     "output_type": "stream",
     "text": [
      "Enter n= 2\n",
      "Enter x= 3\n",
      "Enter x= 6\n",
      "9\n"
     ]
    }
   ],
   "source": [
    "s = 0 \n",
    "i = 0\n",
    "n = int(input(\"Enter n= \"))\n",
    "while i<n:\n",
    "    x = int(input(\"Enter x= \"))\n",
    "    s = s+x\n",
    "    i = i +1 \n",
    "print(s)"
   ]
  },
  {
   "cell_type": "code",
   "execution_count": 9,
   "id": "a6009362",
   "metadata": {},
   "outputs": [
    {
     "name": "stdout",
     "output_type": "stream",
     "text": [
      "Enter n = 5\n",
      "120\n"
     ]
    }
   ],
   "source": [
    "fac = 1\n",
    "i = 1\n",
    "n = int(input(\"Enter n = \"))\n",
    "while i<=n:\n",
    "    fac = fac * i \n",
    "    i= i +1\n",
    "print(fac)\n"
   ]
  },
  {
   "cell_type": "code",
   "execution_count": 12,
   "id": "e32e1ebe",
   "metadata": {},
   "outputs": [
    {
     "name": "stdout",
     "output_type": "stream",
     "text": [
      "Hello World!"
     ]
    }
   ],
   "source": [
    "i = 0\n",
    "a = \"Hello World!\"\n",
    "l = len(a)\n",
    "while i<l:\n",
    "    print(a[i], end=\"\")\n",
    "    i = i+1"
   ]
  },
  {
   "cell_type": "code",
   "execution_count": 14,
   "id": "6972d199",
   "metadata": {},
   "outputs": [
    {
     "name": "stdout",
     "output_type": "stream",
     "text": [
      "HelloWorld!"
     ]
    }
   ],
   "source": [
    "i = 0\n",
    "a = \"Hello World!\"\n",
    "l = len(a)\n",
    "while i<l:\n",
    "    if a[i] !=\" \":\n",
    "        print(a[i], end=\"\")\n",
    "    i = i+1"
   ]
  },
  {
   "cell_type": "code",
   "execution_count": 15,
   "id": "1b6a24be",
   "metadata": {},
   "outputs": [
    {
     "name": "stdout",
     "output_type": "stream",
     "text": [
      "Hello"
     ]
    }
   ],
   "source": [
    "i = 0\n",
    "a = \"Hello World!\"\n",
    "l = len(a)\n",
    "while i<l:\n",
    "    if a[i] ==\" \":\n",
    "        break\n",
    "    print(a[i], end=\"\")\n",
    "    i = i+1"
   ]
  },
  {
   "cell_type": "code",
   "execution_count": 1,
   "id": "2072fa3b",
   "metadata": {},
   "outputs": [
    {
     "name": "stdout",
     "output_type": "stream",
     "text": [
      "HelloWorld!"
     ]
    }
   ],
   "source": [
    "i = 0\n",
    "a = \"Hello World!\"\n",
    "l = len(a)\n",
    "while i<l:\n",
    "    if a[i] ==\" \":\n",
    "        i = i+1\n",
    "        continue\n",
    "    print(a[i], end=\"\")\n",
    "    i = i+1"
   ]
  },
  {
   "cell_type": "code",
   "execution_count": 4,
   "id": "062f1b85",
   "metadata": {},
   "outputs": [
    {
     "name": "stdout",
     "output_type": "stream",
     "text": [
      "Enter n = 9\n",
      "9 is composite nimber \n"
     ]
    }
   ],
   "source": [
    "i =2\n",
    "n = int(input(\"Enter n = \"))\n",
    "while i<n:\n",
    "    if n%i==0:\n",
    "        print(n,\"is composite nimber \")\n",
    "        break\n",
    "    i = i +1\n",
    "else:\n",
    "    print(n,\"is prime number \")"
   ]
  },
  {
   "cell_type": "code",
   "execution_count": 7,
   "id": "275bf11f",
   "metadata": {},
   "outputs": [
    {
     "name": "stdout",
     "output_type": "stream",
     "text": [
      "*\n",
      "***\n",
      "*****\n",
      "*******\n",
      "*********\n"
     ]
    }
   ],
   "source": [
    "for i in range(1,10,2):\n",
    "    print(i*\"*\")"
   ]
  },
  {
   "cell_type": "code",
   "execution_count": 12,
   "id": "419270db",
   "metadata": {},
   "outputs": [
    {
     "name": "stdout",
     "output_type": "stream",
     "text": [
      "**********\n",
      "*********\n",
      "********\n",
      "*******\n",
      "******\n",
      "*****\n",
      "****\n",
      "***\n",
      "**\n",
      "*\n"
     ]
    }
   ],
   "source": [
    "for i in range(10, 0,-1):\n",
    "    print(i*\"*\")"
   ]
  },
  {
   "cell_type": "code",
   "execution_count": 9,
   "id": "d83b6baf",
   "metadata": {},
   "outputs": [],
   "source": [
    "if True:\n",
    "    pass\n"
   ]
  },
  {
   "cell_type": "code",
   "execution_count": 10,
   "id": "20022dbd",
   "metadata": {},
   "outputs": [],
   "source": [
    "for i in range(5):\n",
    "    pass"
   ]
  },
  {
   "cell_type": "code",
   "execution_count": 2,
   "id": "f9bc06f0",
   "metadata": {},
   "outputs": [
    {
     "name": "stdout",
     "output_type": "stream",
     "text": [
      "How many terms? 5\n",
      "Fibonacci sequence:\n",
      "0\n",
      "1\n",
      "1\n",
      "2\n",
      "3\n"
     ]
    }
   ],
   "source": [
    "# Program to display the Fibonacci sequence up to n-th term\n",
    "\n",
    "a = int(input(\"How many terms? \"))\n",
    "\n",
    "n1, n2 = 0, 1\n",
    "count = 0\n",
    "\n",
    "\n",
    "if a <= 0:\n",
    "    print(\"Please enter a positive integer\")\n",
    "\n",
    "elif a == 1:\n",
    "    print(\"Fibonacci sequence upto\",a,\":\")\n",
    "    print(n1)\n",
    "\n",
    "else:\n",
    "    print(\"Fibonacci sequence:\")\n",
    "    while count < a:\n",
    "        print(n1)\n",
    "        fib = n1 + n2\n",
    "       \n",
    "        n1 = n2\n",
    "        n2 = fib\n",
    "        count += 1"
   ]
  },
  {
   "cell_type": "code",
   "execution_count": null,
   "id": "79033a3d",
   "metadata": {},
   "outputs": [],
   "source": []
  }
 ],
 "metadata": {
  "kernelspec": {
   "display_name": "Python 3 (ipykernel)",
   "language": "python",
   "name": "python3"
  },
  "language_info": {
   "codemirror_mode": {
    "name": "ipython",
    "version": 3
   },
   "file_extension": ".py",
   "mimetype": "text/x-python",
   "name": "python",
   "nbconvert_exporter": "python",
   "pygments_lexer": "ipython3",
   "version": "3.9.7"
  }
 },
 "nbformat": 4,
 "nbformat_minor": 5
}
